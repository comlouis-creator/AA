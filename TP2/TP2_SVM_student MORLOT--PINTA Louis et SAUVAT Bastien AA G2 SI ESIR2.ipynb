{
 "cells": [
  {
   "cell_type": "code",
   "execution_count": 1,
   "metadata": {
    "ExecuteTime": {
     "end_time": "2022-02-04T08:30:19.431868Z",
     "start_time": "2022-02-04T08:30:12.547890Z"
    }
   },
   "outputs": [],
   "source": [
    "import numpy as np\n",
    "import pandas as pd\n",
    "import matplotlib.pyplot as plt\n",
    "import matplotlib\n",
    "import seaborn as sns\n",
    "from sklearn.model_selection import train_test_split\n",
    "from sklearn.metrics import confusion_matrix\n",
    "from sklearn.metrics import accuracy_score\n",
    "from sklearn import svm\n",
    "from sklearn.model_selection import GridSearchCV\n"
   ]
  },
  {
   "cell_type": "markdown",
   "metadata": {},
   "source": [
    "<font  style=\"font-size: 4rem; color: #1abc9c\"> SVM </font>\n",
    "\n",
    "# <font color=\"#1E90FF\">Exercise 1. Linear SVM - Influence of hyper-parameter C</font>\n",
    "\n",
    "## <font color=\"#9400D3\">1. Load, analyze and visualize data</font>\n",
    "\n",
    "Warning: in this particular exercise, we will not split the dataset in train/val/test."
   ]
  },
  {
   "cell_type": "code",
   "execution_count": 21,
   "metadata": {
    "ExecuteTime": {
     "end_time": "2022-02-03T07:56:20.886037Z",
     "start_time": "2022-02-03T07:56:20.833023Z"
    }
   },
   "outputs": [
    {
     "data": {
      "text/html": [
       "<div>\n",
       "<style scoped>\n",
       "    .dataframe tbody tr th:only-of-type {\n",
       "        vertical-align: middle;\n",
       "    }\n",
       "\n",
       "    .dataframe tbody tr th {\n",
       "        vertical-align: top;\n",
       "    }\n",
       "\n",
       "    .dataframe thead th {\n",
       "        text-align: right;\n",
       "    }\n",
       "</style>\n",
       "<table border=\"1\" class=\"dataframe\">\n",
       "  <thead>\n",
       "    <tr style=\"text-align: right;\">\n",
       "      <th></th>\n",
       "      <th>x1</th>\n",
       "      <th>x2</th>\n",
       "      <th>y</th>\n",
       "    </tr>\n",
       "  </thead>\n",
       "  <tbody>\n",
       "    <tr>\n",
       "      <th>0</th>\n",
       "      <td>9.50</td>\n",
       "      <td>10.00</td>\n",
       "      <td>0</td>\n",
       "    </tr>\n",
       "    <tr>\n",
       "      <th>1</th>\n",
       "      <td>14.25</td>\n",
       "      <td>16.55</td>\n",
       "      <td>1</td>\n",
       "    </tr>\n",
       "    <tr>\n",
       "      <th>2</th>\n",
       "      <td>10.00</td>\n",
       "      <td>5.00</td>\n",
       "      <td>1</td>\n",
       "    </tr>\n",
       "    <tr>\n",
       "      <th>3</th>\n",
       "      <td>2.30</td>\n",
       "      <td>5.25</td>\n",
       "      <td>0</td>\n",
       "    </tr>\n",
       "    <tr>\n",
       "      <th>4</th>\n",
       "      <td>3.40</td>\n",
       "      <td>3.88</td>\n",
       "      <td>0</td>\n",
       "    </tr>\n",
       "    <tr>\n",
       "      <th>...</th>\n",
       "      <td>...</td>\n",
       "      <td>...</td>\n",
       "      <td>...</td>\n",
       "    </tr>\n",
       "    <tr>\n",
       "      <th>147</th>\n",
       "      <td>15.01</td>\n",
       "      <td>15.67</td>\n",
       "      <td>1</td>\n",
       "    </tr>\n",
       "    <tr>\n",
       "      <th>148</th>\n",
       "      <td>16.05</td>\n",
       "      <td>14.70</td>\n",
       "      <td>1</td>\n",
       "    </tr>\n",
       "    <tr>\n",
       "      <th>149</th>\n",
       "      <td>15.65</td>\n",
       "      <td>18.23</td>\n",
       "      <td>1</td>\n",
       "    </tr>\n",
       "    <tr>\n",
       "      <th>150</th>\n",
       "      <td>18.85</td>\n",
       "      <td>17.43</td>\n",
       "      <td>1</td>\n",
       "    </tr>\n",
       "    <tr>\n",
       "      <th>151</th>\n",
       "      <td>17.25</td>\n",
       "      <td>15.21</td>\n",
       "      <td>1</td>\n",
       "    </tr>\n",
       "  </tbody>\n",
       "</table>\n",
       "<p>152 rows × 3 columns</p>\n",
       "</div>"
      ],
      "text/plain": [
       "        x1     x2  y\n",
       "0     9.50  10.00  0\n",
       "1    14.25  16.55  1\n",
       "2    10.00   5.00  1\n",
       "3     2.30   5.25  0\n",
       "4     3.40   3.88  0\n",
       "..     ...    ... ..\n",
       "147  15.01  15.67  1\n",
       "148  16.05  14.70  1\n",
       "149  15.65  18.23  1\n",
       "150  18.85  17.43  1\n",
       "151  17.25  15.21  1\n",
       "\n",
       "[152 rows x 3 columns]"
      ]
     },
     "execution_count": 21,
     "metadata": {},
     "output_type": "execute_result"
    }
   ],
   "source": [
    "dataset = pd.read_csv('./data/LineaireNoisy.txt', delimiter='\\t')\n",
    "dataset"
   ]
  },
  {
   "cell_type": "code",
   "execution_count": 20,
   "metadata": {},
   "outputs": [
    {
     "name": "stdout",
     "output_type": "stream",
     "text": [
      "Résumé des données\n",
      "<class 'pandas.core.frame.DataFrame'>\n",
      "RangeIndex: 152 entries, 0 to 151\n",
      "Data columns (total 3 columns):\n",
      " #   Column  Non-Null Count  Dtype  \n",
      "---  ------  --------------  -----  \n",
      " 0   x1      152 non-null    float64\n",
      " 1   x2      152 non-null    float64\n",
      " 2   y       152 non-null    int64  \n",
      "dtypes: float64(2), int64(1)\n",
      "memory usage: 3.7 KB\n",
      "Feature distributions:\n"
     ]
    },
    {
     "data": {
      "text/html": [
       "<div>\n",
       "<style scoped>\n",
       "    .dataframe tbody tr th:only-of-type {\n",
       "        vertical-align: middle;\n",
       "    }\n",
       "\n",
       "    .dataframe tbody tr th {\n",
       "        vertical-align: top;\n",
       "    }\n",
       "\n",
       "    .dataframe thead th {\n",
       "        text-align: right;\n",
       "    }\n",
       "</style>\n",
       "<table border=\"1\" class=\"dataframe\">\n",
       "  <thead>\n",
       "    <tr style=\"text-align: right;\">\n",
       "      <th></th>\n",
       "      <th>x1</th>\n",
       "      <th>x2</th>\n",
       "      <th>y</th>\n",
       "    </tr>\n",
       "  </thead>\n",
       "  <tbody>\n",
       "    <tr>\n",
       "      <th>count</th>\n",
       "      <td>152.000000</td>\n",
       "      <td>152.000000</td>\n",
       "      <td>152.000000</td>\n",
       "    </tr>\n",
       "    <tr>\n",
       "      <th>mean</th>\n",
       "      <td>10.114276</td>\n",
       "      <td>9.982829</td>\n",
       "      <td>0.500000</td>\n",
       "    </tr>\n",
       "    <tr>\n",
       "      <th>std</th>\n",
       "      <td>5.421797</td>\n",
       "      <td>5.581715</td>\n",
       "      <td>0.501653</td>\n",
       "    </tr>\n",
       "    <tr>\n",
       "      <th>min</th>\n",
       "      <td>0.890000</td>\n",
       "      <td>1.080000</td>\n",
       "      <td>0.000000</td>\n",
       "    </tr>\n",
       "    <tr>\n",
       "      <th>25%</th>\n",
       "      <td>5.317500</td>\n",
       "      <td>4.742500</td>\n",
       "      <td>0.000000</td>\n",
       "    </tr>\n",
       "    <tr>\n",
       "      <th>50%</th>\n",
       "      <td>9.750000</td>\n",
       "      <td>9.250000</td>\n",
       "      <td>0.500000</td>\n",
       "    </tr>\n",
       "    <tr>\n",
       "      <th>75%</th>\n",
       "      <td>15.245000</td>\n",
       "      <td>15.280000</td>\n",
       "      <td>1.000000</td>\n",
       "    </tr>\n",
       "    <tr>\n",
       "      <th>max</th>\n",
       "      <td>19.380000</td>\n",
       "      <td>20.800000</td>\n",
       "      <td>1.000000</td>\n",
       "    </tr>\n",
       "  </tbody>\n",
       "</table>\n",
       "</div>"
      ],
      "text/plain": [
       "               x1          x2           y\n",
       "count  152.000000  152.000000  152.000000\n",
       "mean    10.114276    9.982829    0.500000\n",
       "std      5.421797    5.581715    0.501653\n",
       "min      0.890000    1.080000    0.000000\n",
       "25%      5.317500    4.742500    0.000000\n",
       "50%      9.750000    9.250000    0.500000\n",
       "75%     15.245000   15.280000    1.000000\n",
       "max     19.380000   20.800000    1.000000"
      ]
     },
     "execution_count": 20,
     "metadata": {},
     "output_type": "execute_result"
    }
   ],
   "source": [
    "print(\"Résumé des données\")\n",
    "dataset.info()\n",
    "\n",
    "print(\"Feature distributions:\")\n",
    "dataset.describe()"
   ]
  },
  {
   "cell_type": "markdown",
   "metadata": {},
   "source": [
    "<font color=\"red\">**Question 1:**</font> \n",
    "- How many examples $\\boldsymbol{x}^{(1)}, \\boldsymbol{x}^{(2)},...\\boldsymbol{x}^{(n)}$ in the dataset? 152\n",
    "- How many features $x_1, x_2,...x_d$ ? What are their types? Their distribution? 2 float 64\n",
    "- What are the classes? 0 et 1\n",
    "- What is the class distribution over the dataset? 76 and 76"
   ]
  },
  {
   "cell_type": "code",
   "execution_count": 4,
   "metadata": {
    "ExecuteTime": {
     "end_time": "2022-02-03T07:57:04.204908Z",
     "start_time": "2022-02-03T07:57:04.183904Z"
    }
   },
   "outputs": [
    {
     "data": {
      "text/plain": [
       "0    76\n",
       "1    76\n",
       "Name: y, dtype: int64"
      ]
     },
     "execution_count": 4,
     "metadata": {},
     "output_type": "execute_result"
    }
   ],
   "source": [
    "dataset.y.value_counts()"
   ]
  },
  {
   "cell_type": "markdown",
   "metadata": {},
   "source": [
    "### Plotting the dataset"
   ]
  },
  {
   "cell_type": "code",
   "execution_count": 9,
   "metadata": {
    "ExecuteTime": {
     "end_time": "2022-02-03T08:06:35.791680Z",
     "start_time": "2022-02-03T08:06:35.407641Z"
    }
   },
   "outputs": [
    {
     "data": {
      "text/plain": [
       "<AxesSubplot:xlabel='x1', ylabel='x2'>"
      ]
     },
     "execution_count": 9,
     "metadata": {},
     "output_type": "execute_result"
    },
    {
     "data": {
      "image/png": "[encoded data removed]",
      "text/plain": [
       "<Figure size 432x288 with 1 Axes>"
      ]
     },
     "metadata": {
      "needs_background": "light"
     },
     "output_type": "display_data"
    }
   ],
   "source": [
    "sns.scatterplot(data=dataset, x='x1', y='x2', hue='y', marker='+', palette=['blue','red'])\n"
   ]
  },
  {
   "cell_type": "markdown",
   "metadata": {},
   "source": [
    "<font color=\"red\">**Question 2:**</font>  Is this dataset linearly separable ? Find some examples that are close to the boundary"
   ]
  },
  {
   "cell_type": "markdown",
   "metadata": {},
   "source": [
    "Yes. We can draw a vertical line approximatively at the middle to separate the dataset. With (10,6) for (x1,x2), (18,11.5) and (10,10)."
   ]
  },
  {
   "cell_type": "markdown",
   "metadata": {},
   "source": [
    "## <font color=\"#9400D3\">2. Fitting a linear SVM to this dataset</font>\n",
    "\n",
    "One implementation of SVM is done by class <code>SVC</code>, which stands for Support Vector Classification.\n",
    "Documentation is available: \n",
    "https://scikit-learn.org/stable/modules/generated/sklearn.svm.SVC.html"
   ]
  },
  {
   "cell_type": "code",
   "execution_count": 10,
   "metadata": {
    "ExecuteTime": {
     "end_time": "2022-02-03T08:14:44.783861Z",
     "start_time": "2022-02-03T08:14:44.772802Z"
    }
   },
   "outputs": [
    {
     "data": {
      "text/plain": [
       "SVC(C=1000, kernel='linear')"
      ]
     },
     "execution_count": 10,
     "metadata": {},
     "output_type": "execute_result"
    }
   ],
   "source": [
    "# SVC with linear kernel, and parameter C set to 1000\n",
    "model_svm = svm.SVC(C = 1000, kernel = 'linear')\n",
    "\n",
    "# Fit the model using the features (x1 and x2) and the target (y)\n",
    "model_svm.fit(dataset.iloc[:,0:2], dataset.y)"
   ]
  },
  {
   "cell_type": "markdown",
   "metadata": {},
   "source": [
    "### Visualizing the SVM model\n",
    "\n",
    "Run the following cells to see a plot of your dataset together with the decision boundary and the margins."
   ]
  },
  {
   "cell_type": "code",
   "execution_count": 11,
   "metadata": {
    "ExecuteTime": {
     "end_time": "2022-02-03T08:25:35.024328Z",
     "start_time": "2022-02-03T08:25:35.012386Z"
    }
   },
   "outputs": [],
   "source": [
    "def svm_draw(model_svm, xmin, xmax, dataset):\n",
    "    \n",
    "    color_map = matplotlib.colors.ListedColormap(pd.Series(['blue', 'red']))\n",
    "\n",
    "\n",
    "    plt.figure(figsize=(10, 8))\n",
    "    # Plotting our two-features-space\n",
    "    plt.scatter(dataset.iloc[:,0], dataset.iloc[:,1], c = dataset.y, cmap = color_map, marker='+')\n",
    "    # Constructing a hyperplane using a formula.\n",
    "    w = model_svm.coef_[0]           # w consists of 2 elements\n",
    "    b = model_svm.intercept_[0]      # b consists of 1 element\n",
    "    x_points = np.linspace(xmin, xmax)    # generating x-points from -1 to 1\n",
    "    y_points = -(w[0] / w[1]) * x_points - b / w[1]  # getting corresponding y-points\n",
    "\n",
    "    plt.plot(x_points, y_points, c='g');\n",
    "\n",
    "    plt.scatter(model_svm.support_vectors_[:, 0],\n",
    "                model_svm.support_vectors_[:, 1], \n",
    "                s=50, \n",
    "                facecolors='none', \n",
    "                edgecolors='k', \n",
    "                alpha=1);\n",
    "\n",
    "    # Step 2 (unit-vector):\n",
    "    w_hat = model_svm.coef_[0] / (np.sqrt(np.sum(model_svm.coef_[0] ** 2)))\n",
    "    # Step 3 (margin):\n",
    "    margin = 1 / np.sqrt(np.sum(model_svm.coef_[0] ** 2))\n",
    "    # Step 4 (calculate points of the margin lines):\n",
    "    decision_boundary_points = np.array(list(zip(x_points, y_points)))\n",
    "    points_of_line_above = decision_boundary_points + w_hat * margin\n",
    "    points_of_line_below = decision_boundary_points - w_hat * margin\n",
    "    # Plot margin lines\n",
    "    # Blue margin line above\n",
    "    plt.plot(points_of_line_above[:, 0], \n",
    "             points_of_line_above[:, 1], \n",
    "             'g--', \n",
    "             linewidth=2)\n",
    "    # Green margin line below\n",
    "    plt.plot(points_of_line_below[:, 0], \n",
    "             points_of_line_below[:, 1], \n",
    "             'g--',\n",
    "             linewidth=2)"
   ]
  },
  {
   "cell_type": "code",
   "execution_count": 12,
   "metadata": {
    "ExecuteTime": {
     "end_time": "2022-02-03T08:25:39.027965Z",
     "start_time": "2022-02-03T08:25:38.906414Z"
    }
   },
   "outputs": [
    {
     "data": {
      "image/png": "[encoded data removed]",
      "text/plain": [
       "<Figure size 720x576 with 1 Axes>"
      ]
     },
     "metadata": {
      "needs_background": "light"
     },
     "output_type": "display_data"
    }
   ],
   "source": [
    "svm_draw(model_svm, 9.3, 10.7, dataset)"
   ]
  },
  {
   "cell_type": "markdown",
   "metadata": {},
   "source": [
    "<font color=\"red\">**Question 3:**</font>  \n",
    "- What do you think of this boundary and these margins? It separates well, there are no outsiders. However, the red outlier causes a not optimal boundary, which could be bigger without it.\n",
    "- How many points are inside the margins? 0\n",
    "- How many points are misclassified by this model? 0"
   ]
  },
  {
   "cell_type": "markdown",
   "metadata": {},
   "source": [
    "### SVM model analysis\n",
    "\n",
    "We can also retrieve more precise information about the model that will allow us to understand its decision process.\n",
    "\n",
    "Course reminder: when fitting a SVM model, a Lagrange coefficient is associated to each sample. In addition, one more parameter is also estimated: the constant of the model.\n",
    "\n",
    "We can find these informations by the following commands:"
   ]
  },
  {
   "cell_type": "code",
   "execution_count": 13,
   "metadata": {
    "ExecuteTime": {
     "end_time": "2022-02-03T08:15:03.262695Z",
     "start_time": "2022-02-03T08:15:03.244754Z"
    }
   },
   "outputs": [
    {
     "data": {
      "text/plain": [
       "array([[ 9.41,  6.97],\n",
       "       [10.  ,  5.  ],\n",
       "       [10.78, 18.49]])"
      ]
     },
     "execution_count": 13,
     "metadata": {},
     "output_type": "execute_result"
    }
   ],
   "source": [
    "model_svm.support_vectors_\n",
    "# the support vectors found by the SVC"
   ]
  },
  {
   "cell_type": "code",
   "execution_count": 19,
   "metadata": {
    "ExecuteTime": {
     "end_time": "2022-02-03T08:15:18.767126Z",
     "start_time": "2022-02-03T08:15:18.744124Z"
    }
   },
   "outputs": [
    {
     "data": {
      "text/plain": [
       "array([ 62,   2, 102])"
      ]
     },
     "execution_count": 19,
     "metadata": {},
     "output_type": "execute_result"
    }
   ],
   "source": [
    "model_svm.support_\n",
    "# the index of the support vectors in the dataset"
   ]
  },
  {
   "cell_type": "code",
   "execution_count": 15,
   "metadata": {
    "ExecuteTime": {
     "end_time": "2022-02-03T08:15:30.380886Z",
     "start_time": "2022-02-03T08:15:30.358868Z"
    }
   },
   "outputs": [
    {
     "data": {
      "text/plain": [
       "array([[-4.04838982,  3.46935572,  0.5790341 ]])"
      ]
     },
     "execution_count": 15,
     "metadata": {},
     "output_type": "execute_result"
    }
   ],
   "source": [
    "model_svm.dual_coef_\n",
    "# the lagrange coefficients associated to the support vectors (alpha_i) multiplied by their targets (y_i)"
   ]
  },
  {
   "cell_type": "code",
   "execution_count": 16,
   "metadata": {
    "ExecuteTime": {
     "end_time": "2022-02-03T08:15:34.850442Z",
     "start_time": "2022-02-03T08:15:34.836409Z"
    }
   },
   "outputs": [
    {
     "data": {
      "text/plain": [
       "array([-26.58177221])"
      ]
     },
     "execution_count": 16,
     "metadata": {},
     "output_type": "execute_result"
    }
   ],
   "source": [
    "model_svm.intercept_\n",
    "# the constant of the model (w0)"
   ]
  },
  {
   "cell_type": "markdown",
   "metadata": {},
   "source": [
    "<font color=\"red\">**Question 4:**</font>  \n",
    "- How many support vectors? 3\n",
    "- What are the classes $y_i$ associated to each support vector? The first is class 1 and the last are class 0.\n",
    "- What are lagrange coefficients $\\alpha_i$ associated to each support vector? The first vector Lagrange coefficient is negative and thus is associated to the first vector, the smaller coefficient is associated to the second vector and the second coefficient with the last vector.\n",
    "\n",
    "Be carefull: 'dual_coef_' returns the lagrange coefficients associated to the support vectors **multiplied by their targets** "
   ]
  },
  {
   "attachments": {},
   "cell_type": "markdown",
   "metadata": {},
   "source": [
    "<font color=\"red\">**Question 5:**</font> \n",
    "Deduce the equation $h_w(x)$ of this model. \n",
    "\n",
    "  ∑α_i**y^(i)*(x . x(i)) + w0*\n",
    "\n",
    "where a is the lagrange coefficient, w0 the intercept, x the targeted vector and x(i) the list of the support vectors\n"
   ]
  },
  {
   "cell_type": "markdown",
   "metadata": {},
   "source": [
    "### Classification with SVM model\n",
    "\n",
    "<font color=\"blue\">**todo:**</font> Apply the previous formula to compute the decisions $\\hat{y}$ for the 2 first examples of the dataset. \n",
    "\n",
    "Hints: dot product between 2 vectors $x_1$ and $x_2$ is done by <code>np.dot(x_1, x_2)</code>.\n",
    "\n",
    "<font color=\"red\">**Question 6:**</font> \n",
    "- What represents the value $h_w(x)$? It represents the predicted output with the vector x as an input.\n",
    "- Are these examples correctly classified? Yes, hw(0) = -1.24148389 (the result is negative so class 0) and hw(1) = 11.18242337 (positive so class 1)"
   ]
  },
  {
   "cell_type": "code",
   "execution_count": 45,
   "metadata": {
    "ExecuteTime": {
     "end_time": "2022-02-03T08:16:32.989509Z",
     "start_time": "2022-02-03T08:16:32.964544Z"
    }
   },
   "outputs": [
    {
     "name": "stdout",
     "output_type": "stream",
     "text": [
      "[[11.18242337]]\n"
     ]
    }
   ],
   "source": [
    "# TODO\n",
    "w0 = model_svm.intercept_\n",
    "a = model_svm.dual_coef_\n",
    "xi = model_svm.support_vectors_\n",
    "\n",
    "def predict(x):\n",
    "    sum = 0\n",
    "    for i in range (0,3):\n",
    "        xi_i = xi[i].reshape(2, 1)  # redimensionner xi[i] en tableau à deux dimensions\n",
    "        sum += a[0, i] * np.dot(xi_i.T, x)\n",
    "    return sum + w0\n",
    "\n",
    "print(predict(np.array([[14.25], [16.5]]))) # appel à predict avec un tableau à deux dimensions\n"
   ]
  },
  {
   "cell_type": "markdown",
   "metadata": {},
   "source": [
    "You can obtain the $h_w(x)$ values for the examples in the dataset using the function \n",
    "<code>decision_function</code>.\n",
    "\n",
    "Check your results."
   ]
  },
  {
   "cell_type": "code",
   "execution_count": 46,
   "metadata": {
    "ExecuteTime": {
     "end_time": "2022-02-03T08:18:04.600671Z",
     "start_time": "2022-02-03T08:18:04.586597Z"
    }
   },
   "outputs": [
    {
     "name": "stdout",
     "output_type": "stream",
     "text": [
      "[-1.24148389 11.17421548]\n",
      "\n",
      "       x1     x2  y\n",
      "0   9.50  10.00  0\n",
      "1  14.25  16.55  1\n"
     ]
    }
   ],
   "source": [
    "print(model_svm.decision_function(dataset.iloc[:2,0:2]))\n",
    "print('\\n',dataset.iloc[:2,:])"
   ]
  },
  {
   "cell_type": "markdown",
   "metadata": {},
   "source": [
    "<font color=\"red\">**Question 6:**</font> what are the decision values for the support vectors? Which values are expected for support vectors? "
   ]
  },
  {
   "cell_type": "code",
   "execution_count": 83,
   "metadata": {
    "ExecuteTime": {
     "end_time": "2022-02-03T08:19:12.026226Z",
     "start_time": "2022-02-03T08:19:12.010178Z"
    },
    "scrolled": true
   },
   "outputs": [
    {
     "name": "stdout",
     "output_type": "stream",
     "text": [
      "[[0.99940407]]\n",
      "[[-0.99970304]]\n",
      "[[1.00026691]]\n",
      "[-0.99999406]\n",
      "\n",
      "       x1    x2  y\n",
      "62  9.41  6.97  0\n",
      "[-0.43553644]\n",
      "\n",
      "      x1   x2  y\n",
      "2  10.0  5.0  1\n",
      "[0.9999945]\n",
      "\n",
      "         x1     x2  y\n",
      "102  10.78  18.49  1\n"
     ]
    }
   ],
   "source": [
    "# TODO: print the decision values for the support vectors\n",
    "print(predict(np.array([[10], [5]])))\n",
    "print(predict(np.array([[9.41], [6.97]])))\n",
    "print(predict(np.array([[10.78], [18.49]])))\n",
    "\n",
    "print(model_svm.decision_function(dataset.iloc[62:63,0:2]))\n",
    "print('\\n',dataset.iloc[62:63,:])\n",
    "\n",
    "print(model_svm.decision_function(dataset.iloc[2:3,0:2]))\n",
    "print('\\n',dataset.iloc[2:3,:])\n",
    "\n",
    "print(model_svm.decision_function(dataset.iloc[102:103,0:2]))\n",
    "print('\\n',dataset.iloc[102:103,:])"
   ]
  },
  {
   "cell_type": "markdown",
   "metadata": {},
   "source": [
    "## <font color=\"#9400D3\">3. Change the hyperparameter C</font>\n",
    "\n",
    "Even if the dataset is linearly separable, the previous boundary is not very adapted. Because C is very high the model favours no training error. \n",
    "\n",
    "<font color=\"blue\">**Todo:**</font> \n",
    "- Fit a model with a smaller value of C: C = 1\n",
    "- Plot the new boundary and margins\n",
    "\n",
    "<font color=\"red\">**Question 7:**</font> \n",
    " - How many support vectors are selected ? 4\n",
    " - How many points are inside the margins ? on the margins ? 2 are inside and 2 are on it\n",
    " - How many points from the dataset are misclassified ? 1\n",
    " - What are the lagrange values of $\\alpha$ for the support vectors ? The two first coefficients are negative (so they are associated to the two first vectors (class 0)) and the two last coefficients are positive (so class 1 and associated to the two last vectors)\n",
    " - What are the values of $h_w(x)$ for the support vectors ?\n"
   ]
  },
  {
   "cell_type": "code",
   "execution_count": 63,
   "metadata": {
    "ExecuteTime": {
     "end_time": "2022-02-03T08:29:45.315403Z",
     "start_time": "2022-02-03T08:29:45.291403Z"
    }
   },
   "outputs": [
    {
     "data": {
      "text/plain": [
       "SVC(C=1, kernel='linear')"
      ]
     },
     "execution_count": 63,
     "metadata": {},
     "output_type": "execute_result"
    }
   ],
   "source": [
    "# TODO - Fit a SVM model with C=1 \n",
    "model_svm0 = svm.SVC(C = 1, kernel = 'linear')\n",
    "\n",
    "# Fit the model using the features (x1 and x2) and the target (y)\n",
    "model_svm0.fit(dataset.iloc[:,0:2], dataset.y)\n"
   ]
  },
  {
   "cell_type": "code",
   "execution_count": 64,
   "metadata": {
    "ExecuteTime": {
     "end_time": "2022-02-03T08:31:24.652401Z",
     "start_time": "2022-02-03T08:31:24.531394Z"
    }
   },
   "outputs": [
    {
     "data": {
      "image/png": "[encoded data removed]",
      "text/plain": [
       "<Figure size 720x576 with 1 Axes>"
      ]
     },
     "metadata": {
      "needs_background": "light"
     },
     "output_type": "display_data"
    }
   ],
   "source": [
    "# TODO - Visualize boundary and margins\n",
    "svm_draw(model_svm0, 9.3, 10.7, dataset)"
   ]
  },
  {
   "cell_type": "code",
   "execution_count": 65,
   "metadata": {},
   "outputs": [
    {
     "data": {
      "text/plain": [
       "array([[ 9.5 , 10.  ],\n",
       "       [ 9.41,  6.97],\n",
       "       [10.  ,  5.  ],\n",
       "       [10.78, 18.49]])"
      ]
     },
     "execution_count": 65,
     "metadata": {},
     "output_type": "execute_result"
    }
   ],
   "source": [
    "model_svm0.support_vectors_"
   ]
  },
  {
   "cell_type": "code",
   "execution_count": 66,
   "metadata": {},
   "outputs": [
    {
     "data": {
      "text/plain": [
       "array([[-1.        , -0.43774553,  1.        ,  0.43774553]])"
      ]
     },
     "execution_count": 66,
     "metadata": {},
     "output_type": "execute_result"
    }
   ],
   "source": [
    "model_svm0.dual_coef_"
   ]
  },
  {
   "cell_type": "code",
   "execution_count": 67,
   "metadata": {},
   "outputs": [
    {
     "data": {
      "text/plain": [
       "array([  0,  62,   2, 102])"
      ]
     },
     "execution_count": 67,
     "metadata": {},
     "output_type": "execute_result"
    }
   ],
   "source": [
    "model_svm0.support_"
   ]
  },
  {
   "cell_type": "code",
   "execution_count": 79,
   "metadata": {},
   "outputs": [
    {
     "name": "stdout",
     "output_type": "stream",
     "text": [
      "[-0.77124977]\n",
      "\n",
      "     x1    x2  y\n",
      "0  9.5  10.0  0\n",
      "[-0.99999406]\n",
      "\n",
      "       x1    x2  y\n",
      "62  9.41  6.97  0\n",
      "[-0.43553644]\n",
      "\n",
      "      x1   x2  y\n",
      "2  10.0  5.0  1\n",
      "[0.9999945]\n",
      "\n",
      "         x1     x2  y\n",
      "102  10.78  18.49  1\n"
     ]
    }
   ],
   "source": [
    "print(model_svm0.decision_function(dataset.iloc[[0],0:2]))\n",
    "print('\\n',dataset.iloc[0:1,:])\n",
    "\n",
    "print(model_svm0.decision_function(dataset.iloc[62:63,0:2]))\n",
    "print('\\n',dataset.iloc[62:63,:])\n",
    "\n",
    "print(model_svm0.decision_function(dataset.iloc[2:3,0:2]))\n",
    "print('\\n',dataset.iloc[2:3,:])\n",
    "\n",
    "print(model_svm0.decision_function(dataset.iloc[102:103,0:2]))\n",
    "print('\\n',dataset.iloc[102:103,:])"
   ]
  },
  {
   "cell_type": "markdown",
   "metadata": {},
   "source": [
    "<font color=\"red\">**Question 8:**</font>  Same questions for C = 0.01.\n",
    "\n",
    "hint: you'll have to modify xmin and xmax in the <code>svm_draw</code> function to 3 and 17"
   ]
  },
  {
   "cell_type": "code",
   "execution_count": 84,
   "metadata": {
    "ExecuteTime": {
     "end_time": "2022-02-03T08:34:00.228432Z",
     "start_time": "2022-02-03T08:34:00.218498Z"
    }
   },
   "outputs": [
    {
     "data": {
      "text/plain": [
       "SVC(C=0.01, kernel='linear')"
      ]
     },
     "execution_count": 84,
     "metadata": {},
     "output_type": "execute_result"
    }
   ],
   "source": [
    "# TODO - Fit a SVM with C=0.01\n",
    "model_svm1 = svm.SVC(C = 0.01, kernel = 'linear')\n",
    "\n",
    "model_svm1.fit(dataset.iloc[:,0:2], dataset.y)"
   ]
  },
  {
   "cell_type": "code",
   "execution_count": 89,
   "metadata": {},
   "outputs": [
    {
     "data": {
      "image/png": "[encoded data removed]",
      "text/plain": [
       "<Figure size 720x576 with 1 Axes>"
      ]
     },
     "metadata": {
      "needs_background": "light"
     },
     "output_type": "display_data"
    }
   ],
   "source": [
    "svm_draw(model_svm1, 3, 17, dataset)\n",
    "# 10 points are inside the margins and 2 are on it\n",
    "# 1 point from the dataset is misclassified"
   ]
  },
  {
   "cell_type": "code",
   "execution_count": 87,
   "metadata": {},
   "outputs": [
    {
     "data": {
      "text/plain": [
       "array([[ 9.5 , 10.  ],\n",
       "       [ 5.24,  8.5 ],\n",
       "       [ 8.19,  6.13],\n",
       "       [ 9.3 ,  7.14],\n",
       "       [ 9.41,  6.97],\n",
       "       [ 7.03,  7.64],\n",
       "       [10.  ,  5.  ],\n",
       "       [11.61, 13.78],\n",
       "       [14.01, 10.63],\n",
       "       [11.91, 13.44],\n",
       "       [11.63, 12.56],\n",
       "       [13.59, 12.12]])"
      ]
     },
     "execution_count": 87,
     "metadata": {},
     "output_type": "execute_result"
    }
   ],
   "source": [
    "model_svm1.support_vectors_\n",
    "# 12 support vectors are selected"
   ]
  },
  {
   "cell_type": "code",
   "execution_count": 91,
   "metadata": {},
   "outputs": [
    {
     "data": {
      "text/plain": [
       "array([  0,  11,  25,  39,  62,  64,   2,  87,  93, 106, 120, 129])"
      ]
     },
     "execution_count": 91,
     "metadata": {},
     "output_type": "execute_result"
    }
   ],
   "source": [
    "model_svm1.support_"
   ]
  },
  {
   "cell_type": "code",
   "execution_count": 92,
   "metadata": {},
   "outputs": [
    {
     "data": {
      "text/plain": [
       "array([[-0.01      , -0.00062732, -0.01      , -0.01      , -0.01      ,\n",
       "        -0.01      ,  0.01      ,  0.01      ,  0.01      ,  0.01      ,\n",
       "         0.01      ,  0.00062732]])"
      ]
     },
     "execution_count": 92,
     "metadata": {},
     "output_type": "execute_result"
    }
   ],
   "source": [
    "model_svm1.dual_coef_\n",
    "# The six first coefficients are negative (so class 0 and associated to vectors 1,2,3,4,5 and 6) and the six last are positive\n",
    "# (so class 1 and associated to vectors from 7 to 12)"
   ]
  },
  {
   "cell_type": "code",
   "execution_count": 93,
   "metadata": {},
   "outputs": [
    {
     "name": "stdout",
     "output_type": "stream",
     "text": [
      "[-0.77124977]\n",
      "\n",
      "     x1    x2  y\n",
      "0  9.5  10.0  0\n",
      "[-5.52026292]\n",
      "\n",
      "       x1   x2  y\n",
      "11  5.24  8.5  0\n",
      "[-2.37761785]\n",
      "\n",
      "       x1    x2  y\n",
      "25  8.19  6.13  0\n",
      "[-1.11368147]\n",
      "\n",
      "      x1    x2  y\n",
      "39  9.3  7.14  0\n",
      "[-0.99999406]\n",
      "\n",
      "       x1    x2  y\n",
      "62  9.41  6.97  0\n",
      "[-3.58861205]\n",
      "\n",
      "       x1    x2  y\n",
      "64  7.03  7.64  0\n",
      "[-0.43553644]\n",
      "\n",
      "      x1   x2  y\n",
      "2  10.0  5.0  1\n",
      "[1.71103284]\n",
      "\n",
      "        x1     x2  y\n",
      "87  11.61  13.78  1\n",
      "[4.21543045]\n",
      "\n",
      "        x1     x2  y\n",
      "93  14.01  10.63  1\n",
      "[2.02638457]\n",
      "\n",
      "         x1     x2  y\n",
      "106  11.91  13.44  1\n",
      "[1.68077634]\n",
      "\n",
      "         x1     x2  y\n",
      "120  11.63  12.56  1\n",
      "[3.8173661]\n",
      "\n",
      "         x1     x2  y\n",
      "129  13.59  12.12  1\n"
     ]
    }
   ],
   "source": [
    "print(model_svm0.decision_function(dataset.iloc[[0],0:2]))\n",
    "print('\\n',dataset.iloc[0:1,:])\n",
    "\n",
    "print(model_svm0.decision_function(dataset.iloc[11:12,0:2]))\n",
    "print('\\n',dataset.iloc[11:12,:])\n",
    "\n",
    "print(model_svm0.decision_function(dataset.iloc[25:26,0:2]))\n",
    "print('\\n',dataset.iloc[25:26,:])\n",
    "\n",
    "print(model_svm0.decision_function(dataset.iloc[39:40,0:2]))\n",
    "print('\\n',dataset.iloc[39:40,:])\n",
    "\n",
    "print(model_svm0.decision_function(dataset.iloc[62:63,0:2]))\n",
    "print('\\n',dataset.iloc[62:63,:])\n",
    "\n",
    "print(model_svm0.decision_function(dataset.iloc[64:65,0:2]))\n",
    "print('\\n',dataset.iloc[64:65,:])\n",
    "\n",
    "print(model_svm0.decision_function(dataset.iloc[2:3,0:2]))\n",
    "print('\\n',dataset.iloc[2:3,:])\n",
    "\n",
    "print(model_svm0.decision_function(dataset.iloc[87:88,0:2]))\n",
    "print('\\n',dataset.iloc[87:88,:])\n",
    "\n",
    "print(model_svm0.decision_function(dataset.iloc[93:94,0:2]))\n",
    "print('\\n',dataset.iloc[93:94,:])\n",
    "\n",
    "print(model_svm0.decision_function(dataset.iloc[106:107,0:2]))\n",
    "print('\\n',dataset.iloc[106:107,:])\n",
    "\n",
    "print(model_svm0.decision_function(dataset.iloc[120:121,0:2]))\n",
    "print('\\n',dataset.iloc[120:121,:])\n",
    "\n",
    "print(model_svm0.decision_function(dataset.iloc[129:130,0:2]))\n",
    "print('\\n',dataset.iloc[129:130,:])"
   ]
  },
  {
   "cell_type": "markdown",
   "metadata": {},
   "source": [
    "<font color=\"red\">**Question 9:**</font>  what can you conclude about the influence of C ? l'influence de l'hyperparamètre \"C\" dépend de la manière dont il est utilisé dans un modèle spécifique et de sa valeur optimale dépendra des données et de la tâche à accomplir."
   ]
  },
  {
   "cell_type": "markdown",
   "metadata": {},
   "source": [
    "# <font color=\"#1E90FF\">Exercise 2: Choosing C using train/val/test split</font>\n"
   ]
  },
  {
   "cell_type": "markdown",
   "metadata": {},
   "source": [
    "In this exercise, you will choose the best value of C (for a given dataset) by the same procedure as for the other algorithms: train/validation/test split"
   ]
  },
  {
   "cell_type": "code",
   "execution_count": 129,
   "metadata": {
    "ExecuteTime": {
     "end_time": "2022-02-03T12:26:45.396462Z",
     "start_time": "2022-02-03T12:26:45.315202Z"
    }
   },
   "outputs": [
    {
     "data": {
      "text/html": [
       "<div>\n",
       "<style scoped>\n",
       "    .dataframe tbody tr th:only-of-type {\n",
       "        vertical-align: middle;\n",
       "    }\n",
       "\n",
       "    .dataframe tbody tr th {\n",
       "        vertical-align: top;\n",
       "    }\n",
       "\n",
       "    .dataframe thead th {\n",
       "        text-align: right;\n",
       "    }\n",
       "</style>\n",
       "<table border=\"1\" class=\"dataframe\">\n",
       "  <thead>\n",
       "    <tr style=\"text-align: right;\">\n",
       "      <th></th>\n",
       "      <th>crl.tot</th>\n",
       "      <th>dollar</th>\n",
       "      <th>bang</th>\n",
       "      <th>money</th>\n",
       "      <th>n000</th>\n",
       "      <th>make</th>\n",
       "      <th>yesno</th>\n",
       "    </tr>\n",
       "  </thead>\n",
       "  <tbody>\n",
       "    <tr>\n",
       "      <th>0</th>\n",
       "      <td>278</td>\n",
       "      <td>0.000</td>\n",
       "      <td>0.778</td>\n",
       "      <td>0.00</td>\n",
       "      <td>0.00</td>\n",
       "      <td>0.00</td>\n",
       "      <td>y</td>\n",
       "    </tr>\n",
       "    <tr>\n",
       "      <th>1</th>\n",
       "      <td>1028</td>\n",
       "      <td>0.180</td>\n",
       "      <td>0.372</td>\n",
       "      <td>0.43</td>\n",
       "      <td>0.43</td>\n",
       "      <td>0.21</td>\n",
       "      <td>y</td>\n",
       "    </tr>\n",
       "    <tr>\n",
       "      <th>2</th>\n",
       "      <td>2259</td>\n",
       "      <td>0.184</td>\n",
       "      <td>0.276</td>\n",
       "      <td>0.06</td>\n",
       "      <td>1.16</td>\n",
       "      <td>0.06</td>\n",
       "      <td>y</td>\n",
       "    </tr>\n",
       "    <tr>\n",
       "      <th>3</th>\n",
       "      <td>191</td>\n",
       "      <td>0.000</td>\n",
       "      <td>0.137</td>\n",
       "      <td>0.00</td>\n",
       "      <td>0.00</td>\n",
       "      <td>0.00</td>\n",
       "      <td>y</td>\n",
       "    </tr>\n",
       "    <tr>\n",
       "      <th>4</th>\n",
       "      <td>191</td>\n",
       "      <td>0.000</td>\n",
       "      <td>0.135</td>\n",
       "      <td>0.00</td>\n",
       "      <td>0.00</td>\n",
       "      <td>0.00</td>\n",
       "      <td>y</td>\n",
       "    </tr>\n",
       "    <tr>\n",
       "      <th>...</th>\n",
       "      <td>...</td>\n",
       "      <td>...</td>\n",
       "      <td>...</td>\n",
       "      <td>...</td>\n",
       "      <td>...</td>\n",
       "      <td>...</td>\n",
       "      <td>...</td>\n",
       "    </tr>\n",
       "    <tr>\n",
       "      <th>4596</th>\n",
       "      <td>88</td>\n",
       "      <td>0.000</td>\n",
       "      <td>0.000</td>\n",
       "      <td>0.00</td>\n",
       "      <td>0.00</td>\n",
       "      <td>0.31</td>\n",
       "      <td>n</td>\n",
       "    </tr>\n",
       "    <tr>\n",
       "      <th>4597</th>\n",
       "      <td>14</td>\n",
       "      <td>0.000</td>\n",
       "      <td>0.353</td>\n",
       "      <td>0.00</td>\n",
       "      <td>0.00</td>\n",
       "      <td>0.00</td>\n",
       "      <td>n</td>\n",
       "    </tr>\n",
       "    <tr>\n",
       "      <th>4598</th>\n",
       "      <td>118</td>\n",
       "      <td>0.000</td>\n",
       "      <td>0.000</td>\n",
       "      <td>0.00</td>\n",
       "      <td>0.00</td>\n",
       "      <td>0.30</td>\n",
       "      <td>n</td>\n",
       "    </tr>\n",
       "    <tr>\n",
       "      <th>4599</th>\n",
       "      <td>78</td>\n",
       "      <td>0.000</td>\n",
       "      <td>0.000</td>\n",
       "      <td>0.00</td>\n",
       "      <td>0.00</td>\n",
       "      <td>0.96</td>\n",
       "      <td>n</td>\n",
       "    </tr>\n",
       "    <tr>\n",
       "      <th>4600</th>\n",
       "      <td>40</td>\n",
       "      <td>0.000</td>\n",
       "      <td>0.125</td>\n",
       "      <td>0.00</td>\n",
       "      <td>0.00</td>\n",
       "      <td>0.00</td>\n",
       "      <td>n</td>\n",
       "    </tr>\n",
       "  </tbody>\n",
       "</table>\n",
       "<p>4601 rows × 7 columns</p>\n",
       "</div>"
      ],
      "text/plain": [
       "      crl.tot  dollar   bang  money  n000  make yesno\n",
       "0         278   0.000  0.778   0.00  0.00  0.00     y\n",
       "1        1028   0.180  0.372   0.43  0.43  0.21     y\n",
       "2        2259   0.184  0.276   0.06  1.16  0.06     y\n",
       "3         191   0.000  0.137   0.00  0.00  0.00     y\n",
       "4         191   0.000  0.135   0.00  0.00  0.00     y\n",
       "...       ...     ...    ...    ...   ...   ...   ...\n",
       "4596       88   0.000  0.000   0.00  0.00  0.31     n\n",
       "4597       14   0.000  0.353   0.00  0.00  0.00     n\n",
       "4598      118   0.000  0.000   0.00  0.00  0.30     n\n",
       "4599       78   0.000  0.000   0.00  0.00  0.96     n\n",
       "4600       40   0.000  0.125   0.00  0.00  0.00     n\n",
       "\n",
       "[4601 rows x 7 columns]"
      ]
     },
     "execution_count": 129,
     "metadata": {},
     "output_type": "execute_result"
    }
   ],
   "source": [
    "# Load the dataset\n",
    "dataset = pd.read_csv(\"./data/spam7.csv\", decimal=\",\", index_col=0, delimiter = \";\")\n",
    "dataset\n",
    "# A description about this dataset is given here:\n",
    "# https://rdrr.io/cran/DAAG/man/spam7.html"
   ]
  },
  {
   "cell_type": "markdown",
   "metadata": {},
   "source": [
    "<font color=\"red\">**Question 1:**</font>  How many examples ? How many features ? What is the distribution of the target ? 4601 examples and \n",
    "7 features"
   ]
  },
  {
   "cell_type": "code",
   "execution_count": 130,
   "metadata": {
    "ExecuteTime": {
     "end_time": "2022-02-03T12:27:35.390842Z",
     "start_time": "2022-02-03T12:27:35.357097Z"
    }
   },
   "outputs": [
    {
     "name": "stdout",
     "output_type": "stream",
     "text": [
      "Résumé des données\n",
      "<class 'pandas.core.frame.DataFrame'>\n",
      "Int64Index: 4601 entries, 0 to 4600\n",
      "Data columns (total 7 columns):\n",
      " #   Column   Non-Null Count  Dtype  \n",
      "---  ------   --------------  -----  \n",
      " 0   crl.tot  4601 non-null   int64  \n",
      " 1   dollar   4601 non-null   float64\n",
      " 2   bang     4601 non-null   float64\n",
      " 3   money    4601 non-null   float64\n",
      " 4   n000     4601 non-null   float64\n",
      " 5   make     4601 non-null   float64\n",
      " 6   yesno    4601 non-null   object \n",
      "dtypes: float64(5), int64(1), object(1)\n",
      "memory usage: 287.6+ KB\n",
      "Feature distributions:\n"
     ]
    },
    {
     "data": {
      "text/html": [
       "<div>\n",
       "<style scoped>\n",
       "    .dataframe tbody tr th:only-of-type {\n",
       "        vertical-align: middle;\n",
       "    }\n",
       "\n",
       "    .dataframe tbody tr th {\n",
       "        vertical-align: top;\n",
       "    }\n",
       "\n",
       "    .dataframe thead th {\n",
       "        text-align: right;\n",
       "    }\n",
       "</style>\n",
       "<table border=\"1\" class=\"dataframe\">\n",
       "  <thead>\n",
       "    <tr style=\"text-align: right;\">\n",
       "      <th></th>\n",
       "      <th>crl.tot</th>\n",
       "      <th>dollar</th>\n",
       "      <th>bang</th>\n",
       "      <th>money</th>\n",
       "      <th>n000</th>\n",
       "      <th>make</th>\n",
       "    </tr>\n",
       "  </thead>\n",
       "  <tbody>\n",
       "    <tr>\n",
       "      <th>count</th>\n",
       "      <td>4601.000000</td>\n",
       "      <td>4601.000000</td>\n",
       "      <td>4601.000000</td>\n",
       "      <td>4601.000000</td>\n",
       "      <td>4601.000000</td>\n",
       "      <td>4601.000000</td>\n",
       "    </tr>\n",
       "    <tr>\n",
       "      <th>mean</th>\n",
       "      <td>283.289285</td>\n",
       "      <td>0.075811</td>\n",
       "      <td>0.269071</td>\n",
       "      <td>0.094269</td>\n",
       "      <td>0.101645</td>\n",
       "      <td>0.104553</td>\n",
       "    </tr>\n",
       "    <tr>\n",
       "      <th>std</th>\n",
       "      <td>606.347851</td>\n",
       "      <td>0.245882</td>\n",
       "      <td>0.815672</td>\n",
       "      <td>0.442636</td>\n",
       "      <td>0.350286</td>\n",
       "      <td>0.305358</td>\n",
       "    </tr>\n",
       "    <tr>\n",
       "      <th>min</th>\n",
       "      <td>1.000000</td>\n",
       "      <td>0.000000</td>\n",
       "      <td>0.000000</td>\n",
       "      <td>0.000000</td>\n",
       "      <td>0.000000</td>\n",
       "      <td>0.000000</td>\n",
       "    </tr>\n",
       "    <tr>\n",
       "      <th>25%</th>\n",
       "      <td>35.000000</td>\n",
       "      <td>0.000000</td>\n",
       "      <td>0.000000</td>\n",
       "      <td>0.000000</td>\n",
       "      <td>0.000000</td>\n",
       "      <td>0.000000</td>\n",
       "    </tr>\n",
       "    <tr>\n",
       "      <th>50%</th>\n",
       "      <td>95.000000</td>\n",
       "      <td>0.000000</td>\n",
       "      <td>0.000000</td>\n",
       "      <td>0.000000</td>\n",
       "      <td>0.000000</td>\n",
       "      <td>0.000000</td>\n",
       "    </tr>\n",
       "    <tr>\n",
       "      <th>75%</th>\n",
       "      <td>266.000000</td>\n",
       "      <td>0.052000</td>\n",
       "      <td>0.315000</td>\n",
       "      <td>0.000000</td>\n",
       "      <td>0.000000</td>\n",
       "      <td>0.000000</td>\n",
       "    </tr>\n",
       "    <tr>\n",
       "      <th>max</th>\n",
       "      <td>15841.000000</td>\n",
       "      <td>6.003000</td>\n",
       "      <td>32.478000</td>\n",
       "      <td>12.500000</td>\n",
       "      <td>5.450000</td>\n",
       "      <td>4.540000</td>\n",
       "    </tr>\n",
       "  </tbody>\n",
       "</table>\n",
       "</div>"
      ],
      "text/plain": [
       "            crl.tot       dollar         bang        money         n000  \\\n",
       "count   4601.000000  4601.000000  4601.000000  4601.000000  4601.000000   \n",
       "mean     283.289285     0.075811     0.269071     0.094269     0.101645   \n",
       "std      606.347851     0.245882     0.815672     0.442636     0.350286   \n",
       "min        1.000000     0.000000     0.000000     0.000000     0.000000   \n",
       "25%       35.000000     0.000000     0.000000     0.000000     0.000000   \n",
       "50%       95.000000     0.000000     0.000000     0.000000     0.000000   \n",
       "75%      266.000000     0.052000     0.315000     0.000000     0.000000   \n",
       "max    15841.000000     6.003000    32.478000    12.500000     5.450000   \n",
       "\n",
       "              make  \n",
       "count  4601.000000  \n",
       "mean      0.104553  \n",
       "std       0.305358  \n",
       "min       0.000000  \n",
       "25%       0.000000  \n",
       "50%       0.000000  \n",
       "75%       0.000000  \n",
       "max       4.540000  "
      ]
     },
     "execution_count": 130,
     "metadata": {},
     "output_type": "execute_result"
    }
   ],
   "source": [
    "# TODO - dataset analysis\n",
    "\n",
    "print(\"Résumé des données\")\n",
    "dataset.info()\n",
    "\n",
    "print(\"Feature distributions:\")\n",
    "dataset.describe()"
   ]
  },
  {
   "cell_type": "markdown",
   "metadata": {},
   "source": [
    "SVM can be very long to fit when the dataset is big (number of examples, number of features).\n",
    "It is better to scale the features before fitting a model. A classical scaling is the standard scaler, which removes the mean and divide by the standard deviation. Hence, after this operation, each feature has a mean of zero and a standard deviation of 1. "
   ]
  },
  {
   "cell_type": "code",
   "execution_count": 131,
   "metadata": {
    "ExecuteTime": {
     "end_time": "2022-02-03T12:29:06.419249Z",
     "start_time": "2022-02-03T12:29:06.349098Z"
    }
   },
   "outputs": [
    {
     "data": {
      "text/html": [
       "<div>\n",
       "<style scoped>\n",
       "    .dataframe tbody tr th:only-of-type {\n",
       "        vertical-align: middle;\n",
       "    }\n",
       "\n",
       "    .dataframe tbody tr th {\n",
       "        vertical-align: top;\n",
       "    }\n",
       "\n",
       "    .dataframe thead th {\n",
       "        text-align: right;\n",
       "    }\n",
       "</style>\n",
       "<table border=\"1\" class=\"dataframe\">\n",
       "  <thead>\n",
       "    <tr style=\"text-align: right;\">\n",
       "      <th></th>\n",
       "      <th>crl.tot</th>\n",
       "      <th>dollar</th>\n",
       "      <th>bang</th>\n",
       "      <th>money</th>\n",
       "      <th>n000</th>\n",
       "      <th>make</th>\n",
       "    </tr>\n",
       "  </thead>\n",
       "  <tbody>\n",
       "    <tr>\n",
       "      <th>count</th>\n",
       "      <td>4.601000e+03</td>\n",
       "      <td>4.601000e+03</td>\n",
       "      <td>4.601000e+03</td>\n",
       "      <td>4.601000e+03</td>\n",
       "      <td>4.601000e+03</td>\n",
       "      <td>4.601000e+03</td>\n",
       "    </tr>\n",
       "    <tr>\n",
       "      <th>mean</th>\n",
       "      <td>1.989160e-16</td>\n",
       "      <td>1.190610e-14</td>\n",
       "      <td>-5.408971e-15</td>\n",
       "      <td>-3.160034e-15</td>\n",
       "      <td>-1.357283e-14</td>\n",
       "      <td>4.844708e-15</td>\n",
       "    </tr>\n",
       "    <tr>\n",
       "      <th>std</th>\n",
       "      <td>1.000109e+00</td>\n",
       "      <td>1.000109e+00</td>\n",
       "      <td>1.000109e+00</td>\n",
       "      <td>1.000109e+00</td>\n",
       "      <td>1.000109e+00</td>\n",
       "      <td>1.000109e+00</td>\n",
       "    </tr>\n",
       "    <tr>\n",
       "      <th>min</th>\n",
       "      <td>-4.656073e-01</td>\n",
       "      <td>-3.083549e-01</td>\n",
       "      <td>-3.299123e-01</td>\n",
       "      <td>-2.129944e-01</td>\n",
       "      <td>-2.902092e-01</td>\n",
       "      <td>-3.424337e-01</td>\n",
       "    </tr>\n",
       "    <tr>\n",
       "      <th>25%</th>\n",
       "      <td>-4.095278e-01</td>\n",
       "      <td>-3.083549e-01</td>\n",
       "      <td>-3.299123e-01</td>\n",
       "      <td>-2.129944e-01</td>\n",
       "      <td>-2.902092e-01</td>\n",
       "      <td>-3.424337e-01</td>\n",
       "    </tr>\n",
       "    <tr>\n",
       "      <th>50%</th>\n",
       "      <td>-3.105639e-01</td>\n",
       "      <td>-3.083549e-01</td>\n",
       "      <td>-3.299123e-01</td>\n",
       "      <td>-2.129944e-01</td>\n",
       "      <td>-2.902092e-01</td>\n",
       "      <td>-3.424337e-01</td>\n",
       "    </tr>\n",
       "    <tr>\n",
       "      <th>75%</th>\n",
       "      <td>-2.851691e-02</td>\n",
       "      <td>-9.684841e-02</td>\n",
       "      <td>5.631450e-02</td>\n",
       "      <td>-2.129944e-01</td>\n",
       "      <td>-2.902092e-01</td>\n",
       "      <td>-3.424337e-01</td>\n",
       "    </tr>\n",
       "    <tr>\n",
       "      <th>max</th>\n",
       "      <td>2.566085e+01</td>\n",
       "      <td>2.410845e+01</td>\n",
       "      <td>3.949191e+01</td>\n",
       "      <td>2.803001e+01</td>\n",
       "      <td>1.527018e+01</td>\n",
       "      <td>1.452700e+01</td>\n",
       "    </tr>\n",
       "  </tbody>\n",
       "</table>\n",
       "</div>"
      ],
      "text/plain": [
       "            crl.tot        dollar          bang         money          n000  \\\n",
       "count  4.601000e+03  4.601000e+03  4.601000e+03  4.601000e+03  4.601000e+03   \n",
       "mean   1.989160e-16  1.190610e-14 -5.408971e-15 -3.160034e-15 -1.357283e-14   \n",
       "std    1.000109e+00  1.000109e+00  1.000109e+00  1.000109e+00  1.000109e+00   \n",
       "min   -4.656073e-01 -3.083549e-01 -3.299123e-01 -2.129944e-01 -2.902092e-01   \n",
       "25%   -4.095278e-01 -3.083549e-01 -3.299123e-01 -2.129944e-01 -2.902092e-01   \n",
       "50%   -3.105639e-01 -3.083549e-01 -3.299123e-01 -2.129944e-01 -2.902092e-01   \n",
       "75%   -2.851691e-02 -9.684841e-02  5.631450e-02 -2.129944e-01 -2.902092e-01   \n",
       "max    2.566085e+01  2.410845e+01  3.949191e+01  2.803001e+01  1.527018e+01   \n",
       "\n",
       "               make  \n",
       "count  4.601000e+03  \n",
       "mean   4.844708e-15  \n",
       "std    1.000109e+00  \n",
       "min   -3.424337e-01  \n",
       "25%   -3.424337e-01  \n",
       "50%   -3.424337e-01  \n",
       "75%   -3.424337e-01  \n",
       "max    1.452700e+01  "
      ]
     },
     "execution_count": 131,
     "metadata": {},
     "output_type": "execute_result"
    }
   ],
   "source": [
    "from sklearn.preprocessing import StandardScaler\n",
    "# First, get the features\n",
    "X = dataset.iloc[:,0:6]\n",
    "# then create a scaler on X\n",
    "scaler = StandardScaler().fit(X)\n",
    "# Apply it to X\n",
    "X = scaler.transform(X)\n",
    "# create a dataframe with X\n",
    "X = pd.DataFrame(X, columns=dataset.columns[0:6])\n",
    "X.describe()\n",
    "\n",
    "# You should see that the features have been transformed\n",
    "# print(X.dollar.mean())\n",
    "# the mean of feature 'dollar' is now 0 (very close to 0)\n",
    "# it is the same for the other features"
   ]
  },
  {
   "cell_type": "code",
   "execution_count": 132,
   "metadata": {
    "ExecuteTime": {
     "end_time": "2022-02-03T12:29:18.466495Z",
     "start_time": "2022-02-03T12:29:18.416026Z"
    }
   },
   "outputs": [
    {
     "data": {
      "text/html": [
       "<div>\n",
       "<style scoped>\n",
       "    .dataframe tbody tr th:only-of-type {\n",
       "        vertical-align: middle;\n",
       "    }\n",
       "\n",
       "    .dataframe tbody tr th {\n",
       "        vertical-align: top;\n",
       "    }\n",
       "\n",
       "    .dataframe thead th {\n",
       "        text-align: right;\n",
       "    }\n",
       "</style>\n",
       "<table border=\"1\" class=\"dataframe\">\n",
       "  <thead>\n",
       "    <tr style=\"text-align: right;\">\n",
       "      <th></th>\n",
       "      <th>crl.tot</th>\n",
       "      <th>dollar</th>\n",
       "      <th>bang</th>\n",
       "      <th>money</th>\n",
       "      <th>n000</th>\n",
       "      <th>make</th>\n",
       "      <th>yesno</th>\n",
       "    </tr>\n",
       "  </thead>\n",
       "  <tbody>\n",
       "    <tr>\n",
       "      <th>0</th>\n",
       "      <td>-0.008724</td>\n",
       "      <td>-0.308355</td>\n",
       "      <td>0.624007</td>\n",
       "      <td>-0.212994</td>\n",
       "      <td>-0.290209</td>\n",
       "      <td>-0.342434</td>\n",
       "      <td>y</td>\n",
       "    </tr>\n",
       "    <tr>\n",
       "      <th>1</th>\n",
       "      <td>1.228324</td>\n",
       "      <td>0.423783</td>\n",
       "      <td>0.126203</td>\n",
       "      <td>0.758565</td>\n",
       "      <td>0.937491</td>\n",
       "      <td>0.345359</td>\n",
       "      <td>y</td>\n",
       "    </tr>\n",
       "    <tr>\n",
       "      <th>2</th>\n",
       "      <td>3.258733</td>\n",
       "      <td>0.440053</td>\n",
       "      <td>0.008496</td>\n",
       "      <td>-0.077428</td>\n",
       "      <td>3.021726</td>\n",
       "      <td>-0.145921</td>\n",
       "      <td>y</td>\n",
       "    </tr>\n",
       "    <tr>\n",
       "      <th>3</th>\n",
       "      <td>-0.152222</td>\n",
       "      <td>-0.308355</td>\n",
       "      <td>-0.161934</td>\n",
       "      <td>-0.212994</td>\n",
       "      <td>-0.290209</td>\n",
       "      <td>-0.342434</td>\n",
       "      <td>y</td>\n",
       "    </tr>\n",
       "    <tr>\n",
       "      <th>4</th>\n",
       "      <td>-0.152222</td>\n",
       "      <td>-0.308355</td>\n",
       "      <td>-0.164387</td>\n",
       "      <td>-0.212994</td>\n",
       "      <td>-0.290209</td>\n",
       "      <td>-0.342434</td>\n",
       "      <td>y</td>\n",
       "    </tr>\n",
       "    <tr>\n",
       "      <th>...</th>\n",
       "      <td>...</td>\n",
       "      <td>...</td>\n",
       "      <td>...</td>\n",
       "      <td>...</td>\n",
       "      <td>...</td>\n",
       "      <td>...</td>\n",
       "      <td>...</td>\n",
       "    </tr>\n",
       "    <tr>\n",
       "      <th>4596</th>\n",
       "      <td>-0.322110</td>\n",
       "      <td>-0.308355</td>\n",
       "      <td>-0.329912</td>\n",
       "      <td>-0.212994</td>\n",
       "      <td>-0.290209</td>\n",
       "      <td>0.672880</td>\n",
       "      <td>n</td>\n",
       "    </tr>\n",
       "    <tr>\n",
       "      <th>4597</th>\n",
       "      <td>-0.444165</td>\n",
       "      <td>-0.308355</td>\n",
       "      <td>0.102907</td>\n",
       "      <td>-0.212994</td>\n",
       "      <td>-0.290209</td>\n",
       "      <td>-0.342434</td>\n",
       "      <td>n</td>\n",
       "    </tr>\n",
       "    <tr>\n",
       "      <th>4598</th>\n",
       "      <td>-0.272628</td>\n",
       "      <td>-0.308355</td>\n",
       "      <td>-0.329912</td>\n",
       "      <td>-0.212994</td>\n",
       "      <td>-0.290209</td>\n",
       "      <td>0.640128</td>\n",
       "      <td>n</td>\n",
       "    </tr>\n",
       "    <tr>\n",
       "      <th>4599</th>\n",
       "      <td>-0.338604</td>\n",
       "      <td>-0.308355</td>\n",
       "      <td>-0.329912</td>\n",
       "      <td>-0.212994</td>\n",
       "      <td>-0.290209</td>\n",
       "      <td>2.801763</td>\n",
       "      <td>n</td>\n",
       "    </tr>\n",
       "    <tr>\n",
       "      <th>4600</th>\n",
       "      <td>-0.401281</td>\n",
       "      <td>-0.308355</td>\n",
       "      <td>-0.176648</td>\n",
       "      <td>-0.212994</td>\n",
       "      <td>-0.290209</td>\n",
       "      <td>-0.342434</td>\n",
       "      <td>n</td>\n",
       "    </tr>\n",
       "  </tbody>\n",
       "</table>\n",
       "<p>4601 rows × 7 columns</p>\n",
       "</div>"
      ],
      "text/plain": [
       "       crl.tot    dollar      bang     money      n000      make yesno\n",
       "0    -0.008724 -0.308355  0.624007 -0.212994 -0.290209 -0.342434     y\n",
       "1     1.228324  0.423783  0.126203  0.758565  0.937491  0.345359     y\n",
       "2     3.258733  0.440053  0.008496 -0.077428  3.021726 -0.145921     y\n",
       "3    -0.152222 -0.308355 -0.161934 -0.212994 -0.290209 -0.342434     y\n",
       "4    -0.152222 -0.308355 -0.164387 -0.212994 -0.290209 -0.342434     y\n",
       "...        ...       ...       ...       ...       ...       ...   ...\n",
       "4596 -0.322110 -0.308355 -0.329912 -0.212994 -0.290209  0.672880     n\n",
       "4597 -0.444165 -0.308355  0.102907 -0.212994 -0.290209 -0.342434     n\n",
       "4598 -0.272628 -0.308355 -0.329912 -0.212994 -0.290209  0.640128     n\n",
       "4599 -0.338604 -0.308355 -0.329912 -0.212994 -0.290209  2.801763     n\n",
       "4600 -0.401281 -0.308355 -0.176648 -0.212994 -0.290209 -0.342434     n\n",
       "\n",
       "[4601 rows x 7 columns]"
      ]
     },
     "execution_count": 132,
     "metadata": {},
     "output_type": "execute_result"
    }
   ],
   "source": [
    "# Now we will add the target variable inside X\n",
    "X['yesno'] = dataset.yesno\n",
    "X\n",
    "# now our dataset is called X"
   ]
  },
  {
   "cell_type": "markdown",
   "metadata": {},
   "source": [
    "<font color=\"blue\">todo:</font>  Split this dataset into training/validation/test "
   ]
  },
  {
   "cell_type": "code",
   "execution_count": 133,
   "metadata": {
    "ExecuteTime": {
     "end_time": "2022-02-03T12:31:29.448922Z",
     "start_time": "2022-02-03T12:31:29.420777Z"
    }
   },
   "outputs": [
    {
     "name": "stdout",
     "output_type": "stream",
     "text": [
      "Training set size: 3219\n",
      "Validation set size: 691\n",
      "Test set size: 691\n"
     ]
    }
   ],
   "source": [
    "# TODO - train/validation/test splitting\n",
    "\n",
    "from sklearn.model_selection import train_test_split\n",
    "\n",
    "df = dataset\n",
    "\n",
    "# Split the data into training and test sets (85:15)\n",
    "X_train, X_test, y_train, y_test = train_test_split(df.iloc[:, :-1], df.iloc[:, -1], test_size=0.15, random_state=42)\n",
    "\n",
    "# Split the training data into training and validation sets (70:15)\n",
    "X_train, X_val, y_train, y_val = train_test_split(X_train, y_train, test_size=0.1765, random_state=42)\n",
    "\n",
    "print(\"Training set size:\", len(X_train))\n",
    "print(\"Validation set size:\", len(X_val))\n",
    "print(\"Test set size:\", len(X_test))"
   ]
  },
  {
   "cell_type": "markdown",
   "metadata": {},
   "source": [
    "<font color=\"red\">**Question 2:**</font> \n",
    " - Fit a first linear SVM model with C = 1\n",
    " - How many support vectors are selected ?\n",
    " - What is the performance of this model on the training set ? on the test set ?\n",
    " - What is the confusion matrix of the predictions of the test set ? What kind of errors is more often made? (check <code>confusion_matrix</code> function for that)"
   ]
  },
  {
   "cell_type": "code",
   "execution_count": 135,
   "metadata": {
    "ExecuteTime": {
     "end_time": "2022-02-03T12:33:19.987189Z",
     "start_time": "2022-02-03T12:33:19.720504Z"
    }
   },
   "outputs": [
    {
     "name": "stdout",
     "output_type": "stream",
     "text": [
      "Number of support vectors: 6\n",
      "Training set accuracy: 0.744641192917055\n",
      "Test set accuracy: 0.723589001447178\n",
      "Confusion matrix:\n",
      "[[314  73]\n",
      " [118 186]]\n"
     ]
    },
    {
     "name": "stderr",
     "output_type": "stream",
     "text": [
      "C:\\Users\\utilisateur\\anaconda3\\lib\\site-packages\\sklearn\\svm\\_base.py:985: ConvergenceWarning: Liblinear failed to converge, increase the number of iterations.\n",
      "  warnings.warn(\"Liblinear failed to converge, increase \"\n"
     ]
    }
   ],
   "source": [
    "# TODO - Fit a linear SVM model with C = 1\n",
    "\n",
    "from sklearn.svm import LinearSVC\n",
    "svm = LinearSVC(C=1, random_state=42)\n",
    "\n",
    "# Fit the model on the training data\n",
    "svm.fit(X_train, y_train)\n",
    "\n",
    "print(\"Number of support vectors:\", svm.n_features_in_)\n",
    "\n",
    "print(\"Training set accuracy:\", svm.score(X_train, y_train))\n",
    "print(\"Test set accuracy:\", svm.score(X_test, y_test))\n",
    "\n",
    "from sklearn.metrics import confusion_matrix\n",
    "\n",
    "# Get the predicted labels for the test set\n",
    "y_pred = svm.predict(X_test)\n",
    "\n",
    "# Compute the confusion matrix\n",
    "cm = confusion_matrix(y_test, y_pred)\n",
    "print(\"Confusion matrix:\")\n",
    "print(cm)"
   ]
  },
  {
   "cell_type": "markdown",
   "metadata": {},
   "source": [
    "<font color=\"blue\">**Todo:**</font>  \n",
    "- Try different values of C (between 0.01 and 1000 for instance, by order of magnitude) and compute the training and validation scores for each value of C (use a'for' loop). \n",
    "- Select the best value of C and estimate the generalization error of the selected SVM."
   ]
  },
  {
   "cell_type": "code",
   "execution_count": 136,
   "metadata": {
    "ExecuteTime": {
     "end_time": "2022-02-03T12:46:54.647951Z",
     "start_time": "2022-02-03T12:46:10.861139Z"
    }
   },
   "outputs": [
    {
     "name": "stderr",
     "output_type": "stream",
     "text": [
      "C:\\Users\\utilisateur\\anaconda3\\lib\\site-packages\\sklearn\\svm\\_base.py:985: ConvergenceWarning: Liblinear failed to converge, increase the number of iterations.\n",
      "  warnings.warn(\"Liblinear failed to converge, increase \"\n",
      "C:\\Users\\utilisateur\\anaconda3\\lib\\site-packages\\sklearn\\svm\\_base.py:985: ConvergenceWarning: Liblinear failed to converge, increase the number of iterations.\n",
      "  warnings.warn(\"Liblinear failed to converge, increase \"\n"
     ]
    },
    {
     "name": "stdout",
     "output_type": "stream",
     "text": [
      "C = 0.01 | Training score: 0.7486797141969556 | Validation score: 0.7583212735166426\n",
      "C = 0.1 | Training score: 0.7489903696800249 | Validation score: 0.748191027496382\n"
     ]
    },
    {
     "name": "stderr",
     "output_type": "stream",
     "text": [
      "C:\\Users\\utilisateur\\anaconda3\\lib\\site-packages\\sklearn\\svm\\_base.py:985: ConvergenceWarning: Liblinear failed to converge, increase the number of iterations.\n",
      "  warnings.warn(\"Liblinear failed to converge, increase \"\n",
      "C:\\Users\\utilisateur\\anaconda3\\lib\\site-packages\\sklearn\\svm\\_base.py:985: ConvergenceWarning: Liblinear failed to converge, increase the number of iterations.\n",
      "  warnings.warn(\"Liblinear failed to converge, increase \"\n"
     ]
    },
    {
     "name": "stdout",
     "output_type": "stream",
     "text": [
      "C = 1 | Training score: 0.744641192917055 | Validation score: 0.7510853835021708\n",
      "C = 10 | Training score: 0.7440198819509164 | Validation score: 0.7496382054992764\n",
      "C = 100 | Training score: 0.6303199751475613 | Validation score: 0.6063675832127352\n",
      "C = 1000 | Training score: 0.6191363777570674 | Validation score: 0.5933429811866859\n"
     ]
    },
    {
     "name": "stderr",
     "output_type": "stream",
     "text": [
      "C:\\Users\\utilisateur\\anaconda3\\lib\\site-packages\\sklearn\\svm\\_base.py:985: ConvergenceWarning: Liblinear failed to converge, increase the number of iterations.\n",
      "  warnings.warn(\"Liblinear failed to converge, increase \"\n",
      "C:\\Users\\utilisateur\\anaconda3\\lib\\site-packages\\sklearn\\svm\\_base.py:985: ConvergenceWarning: Liblinear failed to converge, increase the number of iterations.\n",
      "  warnings.warn(\"Liblinear failed to converge, increase \"\n"
     ]
    }
   ],
   "source": [
    "# TODO - this can take some computing time\n",
    "\n",
    "import numpy as np\n",
    "\n",
    "# Define a range of values for C to try\n",
    "C_values = [0.01, 0.1, 1, 10, 100, 1000]\n",
    "\n",
    "# Create empty lists to store the training and validation scores\n",
    "train_scores = []\n",
    "val_scores = []\n",
    "\n",
    "# Loop over each value of C\n",
    "for C in C_values:\n",
    "    # Instantiate a linear SVM model with the current value of C\n",
    "    svm = LinearSVC(C=C, random_state=42)\n",
    "    \n",
    "    # Fit the model on the training data\n",
    "    svm.fit(X_train, y_train)\n",
    "    \n",
    "    # Compute the training and validation scores\n",
    "    train_score = svm.score(X_train, y_train)\n",
    "    val_score = svm.score(X_val, y_val)\n",
    "    \n",
    "    # Append the scores to the corresponding lists\n",
    "    train_scores.append(train_score)\n",
    "    val_scores.append(val_score)\n",
    "    \n",
    "    # Print the current value of C and the corresponding scores\n",
    "    print(\"C =\", C, \"| Training score:\", train_score, \"| Validation score:\", val_score)"
   ]
  },
  {
   "cell_type": "code",
   "execution_count": 137,
   "metadata": {
    "ExecuteTime": {
     "end_time": "2022-02-03T12:49:02.978827Z",
     "start_time": "2022-02-03T12:49:02.795283Z"
    }
   },
   "outputs": [
    {
     "data": {
      "image/png": "[encoded data removed]",
      "text/plain": [
       "<Figure size 432x288 with 1 Axes>"
      ]
     },
     "metadata": {
      "needs_background": "light"
     },
     "output_type": "display_data"
    },
    {
     "name": "stderr",
     "output_type": "stream",
     "text": [
      "C:\\Users\\utilisateur\\anaconda3\\lib\\site-packages\\sklearn\\svm\\_base.py:985: ConvergenceWarning: Liblinear failed to converge, increase the number of iterations.\n",
      "  warnings.warn(\"Liblinear failed to converge, increase \"\n"
     ]
    },
    {
     "data": {
      "text/plain": [
       "LinearSVC(C=0.01, random_state=42)"
      ]
     },
     "execution_count": 137,
     "metadata": {},
     "output_type": "execute_result"
    }
   ],
   "source": [
    "# TODO - estimate the generalization error of the selected SVM\n",
    "\n",
    "import matplotlib.pyplot as plt\n",
    "\n",
    "# Plot the training and validation scores as a function of C\n",
    "plt.plot(C_values, train_scores, label=\"Training score\")\n",
    "plt.plot(C_values, val_scores, label=\"Validation score\")\n",
    "plt.xlabel(\"C\")\n",
    "plt.ylabel(\"Score\")\n",
    "plt.xscale(\"log\")\n",
    "plt.legend()\n",
    "plt.show()\n",
    "\n",
    "# Find the index of the highest validation score\n",
    "best_index = np.argmax(val_scores)\n",
    "\n",
    "# Get the corresponding value of C and the corresponding SVM model\n",
    "best_C = C_values[best_index]\n",
    "best_svm = LinearSVC(C=best_C, random_state=42)\n",
    "\n",
    "# Fit the best model on the training data\n",
    "best_svm.fit(X_train, y_train)"
   ]
  },
  {
   "cell_type": "markdown",
   "metadata": {},
   "source": [
    "<font color=\"red\">**Question 3:**</font> \n",
    "- give the best C value\n",
    "- compare the generalization error using this tuned value and the default value (C=1)"
   ]
  },
  {
   "cell_type": "code",
   "execution_count": 138,
   "metadata": {},
   "outputs": [
    {
     "name": "stdout",
     "output_type": "stream",
     "text": [
      "Best C: 0.01\n",
      "Test score: 0.7178002894356006\n"
     ]
    }
   ],
   "source": [
    "test_score = best_svm.score(X_test, y_test)\n",
    "print(\"Best C:\", best_C)\n",
    "print(\"Test score:\", test_score)"
   ]
  },
  {
   "cell_type": "markdown",
   "metadata": {},
   "source": [
    "To determine the best value of C, we have to look for the value that maximizes the validation score. <br>\n",
    "When we observe the graphic, we see that C=0.01 is the best C value with is 0.71 as we see just above."
   ]
  },
  {
   "cell_type": "markdown",
   "metadata": {},
   "source": [
    "# <font color=\"#1E90FF\">Exercise 3: Non-linear SVM</font>\n",
    "\n",
    "We move here on SVM using kernel functions.\n",
    "\n",
    "## <font color=\"#9400D3\">1. Data analysis</font>"
   ]
  },
  {
   "cell_type": "code",
   "execution_count": 94,
   "metadata": {
    "ExecuteTime": {
     "end_time": "2022-02-04T08:30:19.931816Z",
     "start_time": "2022-02-04T08:30:19.884769Z"
    }
   },
   "outputs": [
    {
     "data": {
      "text/html": [
       "<div>\n",
       "<style scoped>\n",
       "    .dataframe tbody tr th:only-of-type {\n",
       "        vertical-align: middle;\n",
       "    }\n",
       "\n",
       "    .dataframe tbody tr th {\n",
       "        vertical-align: top;\n",
       "    }\n",
       "\n",
       "    .dataframe thead th {\n",
       "        text-align: right;\n",
       "    }\n",
       "</style>\n",
       "<table border=\"1\" class=\"dataframe\">\n",
       "  <thead>\n",
       "    <tr style=\"text-align: right;\">\n",
       "      <th></th>\n",
       "      <th>x1</th>\n",
       "      <th>x2</th>\n",
       "      <th>y</th>\n",
       "    </tr>\n",
       "  </thead>\n",
       "  <tbody>\n",
       "    <tr>\n",
       "      <th>0</th>\n",
       "      <td>1.5</td>\n",
       "      <td>4.0</td>\n",
       "      <td>1</td>\n",
       "    </tr>\n",
       "    <tr>\n",
       "      <th>1</th>\n",
       "      <td>1.0</td>\n",
       "      <td>2.0</td>\n",
       "      <td>1</td>\n",
       "    </tr>\n",
       "    <tr>\n",
       "      <th>2</th>\n",
       "      <td>0.0</td>\n",
       "      <td>0.0</td>\n",
       "      <td>1</td>\n",
       "    </tr>\n",
       "    <tr>\n",
       "      <th>3</th>\n",
       "      <td>1.0</td>\n",
       "      <td>4.0</td>\n",
       "      <td>1</td>\n",
       "    </tr>\n",
       "    <tr>\n",
       "      <th>4</th>\n",
       "      <td>0.5</td>\n",
       "      <td>3.0</td>\n",
       "      <td>1</td>\n",
       "    </tr>\n",
       "    <tr>\n",
       "      <th>...</th>\n",
       "      <td>...</td>\n",
       "      <td>...</td>\n",
       "      <td>...</td>\n",
       "    </tr>\n",
       "    <tr>\n",
       "      <th>145</th>\n",
       "      <td>-2.8</td>\n",
       "      <td>-3.3</td>\n",
       "      <td>0</td>\n",
       "    </tr>\n",
       "    <tr>\n",
       "      <th>146</th>\n",
       "      <td>-2.8</td>\n",
       "      <td>1.0</td>\n",
       "      <td>0</td>\n",
       "    </tr>\n",
       "    <tr>\n",
       "      <th>147</th>\n",
       "      <td>-2.8</td>\n",
       "      <td>3.0</td>\n",
       "      <td>0</td>\n",
       "    </tr>\n",
       "    <tr>\n",
       "      <th>148</th>\n",
       "      <td>-2.4</td>\n",
       "      <td>3.0</td>\n",
       "      <td>0</td>\n",
       "    </tr>\n",
       "    <tr>\n",
       "      <th>149</th>\n",
       "      <td>-2.3</td>\n",
       "      <td>5.0</td>\n",
       "      <td>0</td>\n",
       "    </tr>\n",
       "  </tbody>\n",
       "</table>\n",
       "<p>150 rows × 3 columns</p>\n",
       "</div>"
      ],
      "text/plain": [
       "      x1   x2  y\n",
       "0    1.5  4.0  1\n",
       "1    1.0  2.0  1\n",
       "2    0.0  0.0  1\n",
       "3    1.0  4.0  1\n",
       "4    0.5  3.0  1\n",
       "..   ...  ... ..\n",
       "145 -2.8 -3.3  0\n",
       "146 -2.8  1.0  0\n",
       "147 -2.8  3.0  0\n",
       "148 -2.4  3.0  0\n",
       "149 -2.3  5.0  0\n",
       "\n",
       "[150 rows x 3 columns]"
      ]
     },
     "execution_count": 94,
     "metadata": {},
     "output_type": "execute_result"
    }
   ],
   "source": [
    "# Load a dataset\n",
    "dataset = pd.read_csv(\"./data/SepNonLineaire.csv\")\n",
    "dataset"
   ]
  },
  {
   "cell_type": "markdown",
   "metadata": {},
   "source": [
    "<font color=\"red\">**Question 1:**</font> How many examples? features? distribution of the target values ?"
   ]
  },
  {
   "cell_type": "code",
   "execution_count": 95,
   "metadata": {
    "ExecuteTime": {
     "end_time": "2022-02-04T08:31:04.624539Z",
     "start_time": "2022-02-04T08:31:04.590583Z"
    }
   },
   "outputs": [
    {
     "name": "stdout",
     "output_type": "stream",
     "text": [
      "0    105\n",
      "1     45\n",
      "Name: y, dtype: int64\n"
     ]
    },
    {
     "data": {
      "text/html": [
       "<div>\n",
       "<style scoped>\n",
       "    .dataframe tbody tr th:only-of-type {\n",
       "        vertical-align: middle;\n",
       "    }\n",
       "\n",
       "    .dataframe tbody tr th {\n",
       "        vertical-align: top;\n",
       "    }\n",
       "\n",
       "    .dataframe thead th {\n",
       "        text-align: right;\n",
       "    }\n",
       "</style>\n",
       "<table border=\"1\" class=\"dataframe\">\n",
       "  <thead>\n",
       "    <tr style=\"text-align: right;\">\n",
       "      <th></th>\n",
       "      <th>x1</th>\n",
       "      <th>x2</th>\n",
       "      <th>y</th>\n",
       "    </tr>\n",
       "  </thead>\n",
       "  <tbody>\n",
       "    <tr>\n",
       "      <th>count</th>\n",
       "      <td>150.000000</td>\n",
       "      <td>150.000000</td>\n",
       "      <td>150.000000</td>\n",
       "    </tr>\n",
       "    <tr>\n",
       "      <th>mean</th>\n",
       "      <td>0.552000</td>\n",
       "      <td>0.870667</td>\n",
       "      <td>0.300000</td>\n",
       "    </tr>\n",
       "    <tr>\n",
       "      <th>std</th>\n",
       "      <td>1.923738</td>\n",
       "      <td>3.842845</td>\n",
       "      <td>0.459793</td>\n",
       "    </tr>\n",
       "    <tr>\n",
       "      <th>min</th>\n",
       "      <td>-2.800000</td>\n",
       "      <td>-5.000000</td>\n",
       "      <td>0.000000</td>\n",
       "    </tr>\n",
       "    <tr>\n",
       "      <th>25%</th>\n",
       "      <td>-1.000000</td>\n",
       "      <td>-3.000000</td>\n",
       "      <td>0.000000</td>\n",
       "    </tr>\n",
       "    <tr>\n",
       "      <th>50%</th>\n",
       "      <td>0.600000</td>\n",
       "      <td>1.000000</td>\n",
       "      <td>0.000000</td>\n",
       "    </tr>\n",
       "    <tr>\n",
       "      <th>75%</th>\n",
       "      <td>2.375000</td>\n",
       "      <td>4.000000</td>\n",
       "      <td>1.000000</td>\n",
       "    </tr>\n",
       "    <tr>\n",
       "      <th>max</th>\n",
       "      <td>4.000000</td>\n",
       "      <td>8.200000</td>\n",
       "      <td>1.000000</td>\n",
       "    </tr>\n",
       "  </tbody>\n",
       "</table>\n",
       "</div>"
      ],
      "text/plain": [
       "               x1          x2           y\n",
       "count  150.000000  150.000000  150.000000\n",
       "mean     0.552000    0.870667    0.300000\n",
       "std      1.923738    3.842845    0.459793\n",
       "min     -2.800000   -5.000000    0.000000\n",
       "25%     -1.000000   -3.000000    0.000000\n",
       "50%      0.600000    1.000000    0.000000\n",
       "75%      2.375000    4.000000    1.000000\n",
       "max      4.000000    8.200000    1.000000"
      ]
     },
     "execution_count": 95,
     "metadata": {},
     "output_type": "execute_result"
    }
   ],
   "source": [
    "print(dataset.y.value_counts())\n",
    "dataset.describe()"
   ]
  },
  {
   "cell_type": "code",
   "execution_count": 96,
   "metadata": {
    "ExecuteTime": {
     "end_time": "2022-02-04T08:38:26.997338Z",
     "start_time": "2022-02-04T08:38:26.836339Z"
    }
   },
   "outputs": [
    {
     "data": {
      "image/png": "[encoded data removed]",
      "text/plain": [
       "<Figure size 432x288 with 1 Axes>"
      ]
     },
     "metadata": {
      "needs_background": "light"
     },
     "output_type": "display_data"
    }
   ],
   "source": [
    "sns.scatterplot(data=dataset, x='x1', y='x2', hue='y', palette=sns.color_palette(\"deep\")[0:2][::-1])\n",
    "legend = plt.legend(frameon=True)\n",
    "legend.get_frame().set_facecolor('white')\n",
    "legend.get_frame().set_edgecolor('b')"
   ]
  },
  {
   "cell_type": "markdown",
   "metadata": {},
   "source": [
    "<font color=\"red\">**Question 2:**</font> Is this dataset linearly separable ? No"
   ]
  },
  {
   "cell_type": "code",
   "execution_count": 97,
   "metadata": {},
   "outputs": [],
   "source": [
    "# TODO - Split this dataset into training/validation/test\n",
    "data_train, data_test = train_test_split(dataset, test_size = 0.3, random_state = 4)\n",
    "data_valid, data_test = train_test_split(data_test, test_size = 0.5, random_state = 4)"
   ]
  },
  {
   "cell_type": "markdown",
   "metadata": {},
   "source": [
    "## <font color=\"#9400D3\">2. Linear SVM</font>\n",
    "\n",
    "<font color=\"blue\">**Todo:**</font> try a linear SVM, compute the real error, and draw the boundaries, just to see."
   ]
  },
  {
   "cell_type": "code",
   "execution_count": 101,
   "metadata": {
    "ExecuteTime": {
     "end_time": "2022-02-04T08:39:43.381190Z",
     "start_time": "2022-02-04T08:39:43.363203Z"
    }
   },
   "outputs": [
    {
     "data": {
      "text/plain": [
       "SVC(C=1000, kernel='linear')"
      ]
     },
     "execution_count": 101,
     "metadata": {},
     "output_type": "execute_result"
    }
   ],
   "source": [
    "# TODO - linear SVM\n",
    "model_svm2 = svm.SVC(C = 1000, kernel = 'linear')\n",
    "\n",
    "model_svm2.fit(dataset.iloc[:,0:2], dataset.y)"
   ]
  },
  {
   "cell_type": "code",
   "execution_count": 106,
   "metadata": {},
   "outputs": [
    {
     "name": "stdout",
     "output_type": "stream",
     "text": [
      "Classification error rate: 22.73%\n"
     ]
    }
   ],
   "source": [
    "from sklearn.metrics import accuracy_score\n",
    "\n",
    "# make predictions on the validation set\n",
    "y_pred = model_svm2.predict(data_valid.iloc[:,0:2])\n",
    "\n",
    "# compute the classification error rate\n",
    "error_rate = 1 - accuracy_score(data_valid.y, y_pred)\n",
    "\n",
    "print('Classification error rate: {:.2f}%'.format(error_rate * 100))"
   ]
  },
  {
   "cell_type": "code",
   "execution_count": 102,
   "metadata": {},
   "outputs": [
    {
     "data": {
      "image/png": "[encoded data removed]",
      "text/plain": [
       "<Figure size 720x576 with 1 Axes>"
      ]
     },
     "metadata": {
      "needs_background": "light"
     },
     "output_type": "display_data"
    }
   ],
   "source": [
    "# TODO - draw the boundaries\n",
    "svm_draw(model_svm2, 9.3, 10.7, dataset)"
   ]
  },
  {
   "cell_type": "markdown",
   "metadata": {},
   "source": [
    "## <font color=\"#9400D3\">3. Radial SVM</font>\n",
    "\n",
    "We will apply a radial SVM (with rbf kernel).\n",
    "For this, you just need to specify <code>kernel = 'rbf'</code> rather than <code>kernel = 'linear'</code>.\n",
    "And you'll also need to set a value for gamma (otherwise there is a default value)\n",
    "\n",
    "<font color=\"blue\">**Todo:**</font> \n",
    " - Fit a rbf SVM with C = 1 and gamma = 10\n",
    " - Compute train and validation scores\n",
    " - Plot the decision boundaries and the margins using the function <code>draw_boundary</code> above\n",
    " \n",
    "<font color=\"red\">**Question 3:**</font> \n",
    "What phenomenon can you observe here ?"
   ]
  },
  {
   "cell_type": "code",
   "execution_count": 107,
   "metadata": {
    "ExecuteTime": {
     "end_time": "2022-02-04T08:42:57.506241Z",
     "start_time": "2022-02-04T08:42:57.483242Z"
    }
   },
   "outputs": [
    {
     "data": {
      "text/plain": [
       "SVC(C=1, gamma=10)"
      ]
     },
     "execution_count": 107,
     "metadata": {},
     "output_type": "execute_result"
    }
   ],
   "source": [
    "# TODO - Fit a radial SVM\n",
    "model_svm3 = svm.SVC(C = 1, kernel = 'rbf', gamma = 10)\n",
    "\n",
    "model_svm3.fit(dataset.iloc[:,0:2], dataset.y)"
   ]
  },
  {
   "cell_type": "code",
   "execution_count": 109,
   "metadata": {},
   "outputs": [
    {
     "name": "stdout",
     "output_type": "stream",
     "text": [
      "Cross-validation scores:  [0.76666667 0.73333333 0.7        0.76666667 0.73333333]\n",
      "Mean cross-validation score: 0.74\n",
      "Standard deviation of cross-validation scores: 0.02\n"
     ]
    }
   ],
   "source": [
    "from sklearn.model_selection import cross_val_score\n",
    "\n",
    "cv_scores = cross_val_score(model_svm3, dataset.iloc[:,0:2], dataset.y, cv=5)\n",
    "\n",
    "print('Cross-validation scores: ', cv_scores)\n",
    "print('Mean cross-validation score: {:.2f}'.format(cv_scores.mean()))\n",
    "print('Standard deviation of cross-validation scores: {:.2f}'.format(cv_scores.std()))"
   ]
  },
  {
   "cell_type": "code",
   "execution_count": 110,
   "metadata": {
    "ExecuteTime": {
     "end_time": "2022-02-04T08:45:56.995843Z",
     "start_time": "2022-02-04T08:45:56.988885Z"
    }
   },
   "outputs": [],
   "source": [
    "def draw_boundary(model, data, x_min, x_max, y_min, y_max):\n",
    "    h = 0.1\n",
    "    xx, yy = np.meshgrid(np.arange(x_min, x_max, h), np.arange(y_min, y_max, h))\n",
    "    zz = np.c_[xx.ravel(), yy.ravel()]\n",
    "    zz = pd.DataFrame(zz)\n",
    "    zz2 = zz\n",
    "    pred_zz= pd.Series(model.predict(zz2))\n",
    "    color_map = matplotlib.colors.ListedColormap(pd.Series(['blue', 'red']))\n",
    "    fig = plt.figure(figsize=  (8,8))\n",
    "    fig = plt.scatter(zz.iloc[:,0], zz.iloc[:,1], c = pred_zz, cmap = color_map, marker='+')\n",
    "    fig = plt.scatter(data.iloc[:,0], data.iloc[:,1], s = 50, c = data.iloc[:,2], cmap = color_map)\n",
    "    "
   ]
  },
  {
   "cell_type": "code",
   "execution_count": 113,
   "metadata": {
    "ExecuteTime": {
     "end_time": "2022-02-04T08:46:05.553760Z",
     "start_time": "2022-02-04T08:46:05.392642Z"
    }
   },
   "outputs": [
    {
     "data": {
      "image/png": "[encoded data removed]",
      "text/plain": [
       "<Figure size 576x576 with 1 Axes>"
      ]
     },
     "metadata": {
      "needs_background": "light"
     },
     "output_type": "display_data"
    }
   ],
   "source": [
    "draw_boundary(model_svm3, data_train, -3,4,-5,9)"
   ]
  },
  {
   "cell_type": "markdown",
   "metadata": {},
   "source": [
    "<font color=\"blue\">**Todo:**</font>\n",
    "- Try now to modify C and gamma to have a better decision boundary\n",
    "- Choose the best values of C and gamma \n",
    "- Estimate the generalization error of this SVM\n",
    "- draw the boundaries"
   ]
  },
  {
   "cell_type": "code",
   "execution_count": 119,
   "metadata": {},
   "outputs": [
    {
     "data": {
      "image/png": "[encoded data removed]",
      "text/plain": [
       "<Figure size 576x576 with 1 Axes>"
      ]
     },
     "metadata": {
      "needs_background": "light"
     },
     "output_type": "display_data"
    }
   ],
   "source": [
    "model_svm4 = svm.SVC(C = 10, kernel = 'rbf', gamma = 0.1)\n",
    "\n",
    "model_svm4.fit(dataset.iloc[:,0:2], dataset.y)\n",
    "\n",
    "draw_boundary(model_svm4, data_train, -3,4,-5,9)"
   ]
  },
  {
   "cell_type": "code",
   "execution_count": 114,
   "metadata": {
    "ExecuteTime": {
     "end_time": "2022-02-04T09:08:30.875131Z",
     "start_time": "2022-02-04T09:08:30.647147Z"
    }
   },
   "outputs": [
    {
     "name": "stdout",
     "output_type": "stream",
     "text": [
      "Best parameters: {'C': 10, 'gamma': 0.1}\n"
     ]
    }
   ],
   "source": [
    "# TODO - search for best C and gamma values using validation set\n",
    "from sklearn.model_selection import GridSearchCV\n",
    "\n",
    "# Define the parameter grid to search\n",
    "param_grid = {'C': [0.1, 1, 10, 100], 'gamma': [0.1, 1, 10, 100]}\n",
    "\n",
    "# Split the data into train, validation, and test sets\n",
    "data_train, data_test = train_test_split(dataset, test_size=0.3, random_state=4)\n",
    "data_valid, data_test = train_test_split(data_test, test_size=0.5, random_state=4)\n",
    "\n",
    "# Define the SVM model\n",
    "model_svm = svm.SVC(kernel='rbf')\n",
    "\n",
    "# Perform the grid search on the parameter grid\n",
    "grid_search = GridSearchCV(model_svm, param_grid, cv=5)\n",
    "grid_search.fit(data_train.iloc[:, 0:2], data_train.y)\n",
    "\n",
    "# Print the best parameters found by the grid search\n",
    "print(\"Best parameters:\", grid_search.best_params_)"
   ]
  },
  {
   "cell_type": "code",
   "execution_count": 116,
   "metadata": {
    "ExecuteTime": {
     "end_time": "2022-02-04T09:10:10.096170Z",
     "start_time": "2022-02-04T09:10:10.081120Z"
    }
   },
   "outputs": [
    {
     "name": "stdout",
     "output_type": "stream",
     "text": [
      "Test set score: 1.0\n"
     ]
    }
   ],
   "source": [
    "# TODO - generalization error estimation\n",
    "best_model = grid_search.best_estimator_\n",
    "test_score = best_model.score(data_test.iloc[:, 0:2], data_test.y)\n",
    "print(\"Test set score:\", test_score)"
   ]
  },
  {
   "cell_type": "code",
   "execution_count": 117,
   "metadata": {
    "ExecuteTime": {
     "end_time": "2022-02-04T09:37:34.169655Z",
     "start_time": "2022-02-04T09:37:34.022653Z"
    }
   },
   "outputs": [
    {
     "data": {
      "image/png": "[encoded data removed]",
      "text/plain": [
       "<Figure size 576x576 with 1 Axes>"
      ]
     },
     "metadata": {
      "needs_background": "light"
     },
     "output_type": "display_data"
    }
   ],
   "source": [
    "# TODO - draw the boundaries\n",
    "draw_boundary(best_model, data_test, data_test.iloc[:,0].min()-1, data_test.iloc[:,0].max()+1, \n",
    "              data_test.iloc[:,1].min()-1, data_test.iloc[:,1].max()+1)"
   ]
  },
  {
   "cell_type": "markdown",
   "metadata": {},
   "source": [
    "<font color=\"blue\">**Todo:**</font> You can also try polynomial kernels by specifying <code>kernel = 'poly'</code>. You'll have to tune the parameter <code>'degree'</code> with this kernel.\n",
    "\n",
    "Note that in SVC, polynomial kernel is defined as: $$ K(x,x')=(\\gamma (x.x') + r)^d$$ where $d$ is specified by parameter <code>degree</code>, r by <code>coef0</code> (default=0.0)."
   ]
  },
  {
   "cell_type": "code",
   "execution_count": 121,
   "metadata": {
    "ExecuteTime": {
     "start_time": "2022-02-04T09:58:03.239Z"
    }
   },
   "outputs": [
    {
     "data": {
      "text/plain": [
       "SVC(kernel='poly')"
      ]
     },
     "execution_count": 121,
     "metadata": {},
     "output_type": "execute_result"
    }
   ],
   "source": [
    "# TODO - Fit a polynomial kernel. Find the best C and degree using validation set\n",
    "\n",
    "\n",
    "from sklearn import svm\n",
    "X = [[0, 0], [1, 1]]\n",
    "y = [0, 1]\n",
    "clf = svm.SVC(kernel='poly', degree=3, coef0=0.0, gamma='scale')\n",
    "clf.fit(X, y)"
   ]
  },
  {
   "cell_type": "markdown",
   "metadata": {},
   "source": [
    "<font color=\"red\">**Question 4:**</font> \n",
    "- Which are finally the best hyper-parameters? 10 for C and 0.1 for gamma\n",
    "- Evaluate the final model on the test set."
   ]
  },
  {
   "cell_type": "code",
   "execution_count": 123,
   "metadata": {},
   "outputs": [
    {
     "name": "stdout",
     "output_type": "stream",
     "text": [
      "Accuracy on test set:  1.0\n"
     ]
    }
   ],
   "source": [
    "from sklearn import svm\n",
    "from sklearn.metrics import accuracy_score\n",
    "\n",
    "# Assuming you have already split your data into training and test sets\n",
    "X_train, y_train = [[0, 0], [1, 1]], [0, 1]\n",
    "X_test, y_test = [[0.5, 0.5], [1.5, 1.5]], [0, 1]\n",
    "\n",
    "# Create and fit the SVM model with the best hyperparameters found by grid search\n",
    "clf = svm.SVC(kernel='poly', degree=3, coef0=1, gamma='scale')\n",
    "clf.fit(X_train, y_train)\n",
    "\n",
    "# Evaluate the model on the test set\n",
    "y_pred = clf.predict(X_test)\n",
    "accuracy = accuracy_score(y_test, y_pred)\n",
    "print(\"Accuracy on test set: \", accuracy)"
   ]
  },
  {
   "cell_type": "markdown",
   "metadata": {},
   "source": [
    "## <font color=\"#9400D3\">4. Expert mode</font>\n",
    "\n",
    "When tuning the hyper-parameters with a validation set, rather than using several 'for', scikit learn offers a <code>GridSearchCV(estimator, param_grid)</code> function : https://scikit-learn.org/stable/modules/generated/sklearn.model_selection.GridSearchCV.html\n",
    "\n",
    "The parameters of the estimator (classifier) are optimized by **cross-validated** grid-search over a parameter grid. Candidates are exhaustively generated from a grid of parameter values specified with the <code>param_grid</code> parameter."
   ]
  },
  {
   "cell_type": "code",
   "execution_count": 128,
   "metadata": {},
   "outputs": [
    {
     "name": "stdout",
     "output_type": "stream",
     "text": [
      "\n",
      " # Tuning hyper-parameters\n",
      "Best parameters set found on training set:\n",
      "{'C': 10, 'gamma': 0.1, 'kernel': 'rbf'}\n"
     ]
    },
    {
     "ename": "ValueError",
     "evalue": "Found input variables with inconsistent numbers of samples: [105, 23]",
     "output_type": "error",
     "traceback": [
      "\u001b[1;31m---------------------------------------------------------------------------\u001b[0m",
      "\u001b[1;31mValueError\u001b[0m                                Traceback (most recent call last)",
      "\u001b[1;32mC:\\Users\\UTILIS~1\\AppData\\Local\\Temp/ipykernel_9944/2510703716.py\u001b[0m in \u001b[0;36m<module>\u001b[1;34m\u001b[0m\n\u001b[0;32m     13\u001b[0m \u001b[1;33m\u001b[0m\u001b[0m\n\u001b[0;32m     14\u001b[0m \u001b[0my_pred\u001b[0m \u001b[1;33m=\u001b[0m \u001b[0mclf\u001b[0m\u001b[1;33m.\u001b[0m\u001b[0mpredict\u001b[0m\u001b[1;33m(\u001b[0m\u001b[0mdata_test\u001b[0m\u001b[1;33m.\u001b[0m\u001b[0miloc\u001b[0m\u001b[1;33m[\u001b[0m\u001b[1;33m:\u001b[0m\u001b[1;33m,\u001b[0m\u001b[1;33m:\u001b[0m\u001b[1;36m2\u001b[0m\u001b[1;33m]\u001b[0m\u001b[1;33m)\u001b[0m\u001b[1;33m\u001b[0m\u001b[1;33m\u001b[0m\u001b[0m\n\u001b[1;32m---> 15\u001b[1;33m \u001b[0mprint\u001b[0m\u001b[1;33m(\u001b[0m\u001b[1;34m\"\\n SVM on test set (parameter tuning) : \\t\"\u001b[0m\u001b[1;33m,\u001b[0m \u001b[0maccuracy_score\u001b[0m\u001b[1;33m(\u001b[0m\u001b[0mdata_train\u001b[0m\u001b[1;33m.\u001b[0m\u001b[0my\u001b[0m\u001b[1;33m,\u001b[0m \u001b[0my_pred\u001b[0m\u001b[1;33m)\u001b[0m\u001b[1;33m,\u001b[0m \u001b[1;34m\"\\n\"\u001b[0m\u001b[1;33m)\u001b[0m\u001b[1;33m\u001b[0m\u001b[1;33m\u001b[0m\u001b[0m\n\u001b[0m",
      "\u001b[1;32m~\\anaconda3\\lib\\site-packages\\sklearn\\utils\\validation.py\u001b[0m in \u001b[0;36minner_f\u001b[1;34m(*args, **kwargs)\u001b[0m\n\u001b[0;32m     61\u001b[0m             \u001b[0mextra_args\u001b[0m \u001b[1;33m=\u001b[0m \u001b[0mlen\u001b[0m\u001b[1;33m(\u001b[0m\u001b[0margs\u001b[0m\u001b[1;33m)\u001b[0m \u001b[1;33m-\u001b[0m \u001b[0mlen\u001b[0m\u001b[1;33m(\u001b[0m\u001b[0mall_args\u001b[0m\u001b[1;33m)\u001b[0m\u001b[1;33m\u001b[0m\u001b[1;33m\u001b[0m\u001b[0m\n\u001b[0;32m     62\u001b[0m             \u001b[1;32mif\u001b[0m \u001b[0mextra_args\u001b[0m \u001b[1;33m<=\u001b[0m \u001b[1;36m0\u001b[0m\u001b[1;33m:\u001b[0m\u001b[1;33m\u001b[0m\u001b[1;33m\u001b[0m\u001b[0m\n\u001b[1;32m---> 63\u001b[1;33m                 \u001b[1;32mreturn\u001b[0m \u001b[0mf\u001b[0m\u001b[1;33m(\u001b[0m\u001b[1;33m*\u001b[0m\u001b[0margs\u001b[0m\u001b[1;33m,\u001b[0m \u001b[1;33m**\u001b[0m\u001b[0mkwargs\u001b[0m\u001b[1;33m)\u001b[0m\u001b[1;33m\u001b[0m\u001b[1;33m\u001b[0m\u001b[0m\n\u001b[0m\u001b[0;32m     64\u001b[0m \u001b[1;33m\u001b[0m\u001b[0m\n\u001b[0;32m     65\u001b[0m             \u001b[1;31m# extra_args > 0\u001b[0m\u001b[1;33m\u001b[0m\u001b[1;33m\u001b[0m\u001b[0m\n",
      "\u001b[1;32m~\\anaconda3\\lib\\site-packages\\sklearn\\metrics\\_classification.py\u001b[0m in \u001b[0;36maccuracy_score\u001b[1;34m(y_true, y_pred, normalize, sample_weight)\u001b[0m\n\u001b[0;32m    200\u001b[0m \u001b[1;33m\u001b[0m\u001b[0m\n\u001b[0;32m    201\u001b[0m     \u001b[1;31m# Compute accuracy for each possible representation\u001b[0m\u001b[1;33m\u001b[0m\u001b[1;33m\u001b[0m\u001b[0m\n\u001b[1;32m--> 202\u001b[1;33m     \u001b[0my_type\u001b[0m\u001b[1;33m,\u001b[0m \u001b[0my_true\u001b[0m\u001b[1;33m,\u001b[0m \u001b[0my_pred\u001b[0m \u001b[1;33m=\u001b[0m \u001b[0m_check_targets\u001b[0m\u001b[1;33m(\u001b[0m\u001b[0my_true\u001b[0m\u001b[1;33m,\u001b[0m \u001b[0my_pred\u001b[0m\u001b[1;33m)\u001b[0m\u001b[1;33m\u001b[0m\u001b[1;33m\u001b[0m\u001b[0m\n\u001b[0m\u001b[0;32m    203\u001b[0m     \u001b[0mcheck_consistent_length\u001b[0m\u001b[1;33m(\u001b[0m\u001b[0my_true\u001b[0m\u001b[1;33m,\u001b[0m \u001b[0my_pred\u001b[0m\u001b[1;33m,\u001b[0m \u001b[0msample_weight\u001b[0m\u001b[1;33m)\u001b[0m\u001b[1;33m\u001b[0m\u001b[1;33m\u001b[0m\u001b[0m\n\u001b[0;32m    204\u001b[0m     \u001b[1;32mif\u001b[0m \u001b[0my_type\u001b[0m\u001b[1;33m.\u001b[0m\u001b[0mstartswith\u001b[0m\u001b[1;33m(\u001b[0m\u001b[1;34m'multilabel'\u001b[0m\u001b[1;33m)\u001b[0m\u001b[1;33m:\u001b[0m\u001b[1;33m\u001b[0m\u001b[1;33m\u001b[0m\u001b[0m\n",
      "\u001b[1;32m~\\anaconda3\\lib\\site-packages\\sklearn\\metrics\\_classification.py\u001b[0m in \u001b[0;36m_check_targets\u001b[1;34m(y_true, y_pred)\u001b[0m\n\u001b[0;32m     81\u001b[0m     \u001b[0my_pred\u001b[0m \u001b[1;33m:\u001b[0m \u001b[0marray\u001b[0m \u001b[1;32mor\u001b[0m \u001b[0mindicator\u001b[0m \u001b[0mmatrix\u001b[0m\u001b[1;33m\u001b[0m\u001b[1;33m\u001b[0m\u001b[0m\n\u001b[0;32m     82\u001b[0m     \"\"\"\n\u001b[1;32m---> 83\u001b[1;33m     \u001b[0mcheck_consistent_length\u001b[0m\u001b[1;33m(\u001b[0m\u001b[0my_true\u001b[0m\u001b[1;33m,\u001b[0m \u001b[0my_pred\u001b[0m\u001b[1;33m)\u001b[0m\u001b[1;33m\u001b[0m\u001b[1;33m\u001b[0m\u001b[0m\n\u001b[0m\u001b[0;32m     84\u001b[0m     \u001b[0mtype_true\u001b[0m \u001b[1;33m=\u001b[0m \u001b[0mtype_of_target\u001b[0m\u001b[1;33m(\u001b[0m\u001b[0my_true\u001b[0m\u001b[1;33m)\u001b[0m\u001b[1;33m\u001b[0m\u001b[1;33m\u001b[0m\u001b[0m\n\u001b[0;32m     85\u001b[0m     \u001b[0mtype_pred\u001b[0m \u001b[1;33m=\u001b[0m \u001b[0mtype_of_target\u001b[0m\u001b[1;33m(\u001b[0m\u001b[0my_pred\u001b[0m\u001b[1;33m)\u001b[0m\u001b[1;33m\u001b[0m\u001b[1;33m\u001b[0m\u001b[0m\n",
      "\u001b[1;32m~\\anaconda3\\lib\\site-packages\\sklearn\\utils\\validation.py\u001b[0m in \u001b[0;36mcheck_consistent_length\u001b[1;34m(*arrays)\u001b[0m\n\u001b[0;32m    317\u001b[0m     \u001b[0muniques\u001b[0m \u001b[1;33m=\u001b[0m \u001b[0mnp\u001b[0m\u001b[1;33m.\u001b[0m\u001b[0munique\u001b[0m\u001b[1;33m(\u001b[0m\u001b[0mlengths\u001b[0m\u001b[1;33m)\u001b[0m\u001b[1;33m\u001b[0m\u001b[1;33m\u001b[0m\u001b[0m\n\u001b[0;32m    318\u001b[0m     \u001b[1;32mif\u001b[0m \u001b[0mlen\u001b[0m\u001b[1;33m(\u001b[0m\u001b[0muniques\u001b[0m\u001b[1;33m)\u001b[0m \u001b[1;33m>\u001b[0m \u001b[1;36m1\u001b[0m\u001b[1;33m:\u001b[0m\u001b[1;33m\u001b[0m\u001b[1;33m\u001b[0m\u001b[0m\n\u001b[1;32m--> 319\u001b[1;33m         raise ValueError(\"Found input variables with inconsistent numbers of\"\n\u001b[0m\u001b[0;32m    320\u001b[0m                          \" samples: %r\" % [int(l) for l in lengths])\n\u001b[0;32m    321\u001b[0m \u001b[1;33m\u001b[0m\u001b[0m\n",
      "\u001b[1;31mValueError\u001b[0m: Found input variables with inconsistent numbers of samples: [105, 23]"
     ]
    }
   ],
   "source": [
    "param_grid = [\n",
    "              {'C': [1, 10, 100, 1000], 'kernel': ['linear']},\n",
    "              {'C': [1, 10, 100, 1000], 'degree': [2, 3, 4], 'kernel': ['poly']},\n",
    "              {'C': [1, 10, 100, 1000], 'gamma': [0.01, 0.1, 1.0], 'kernel': ['rbf']},\n",
    "              ]\n",
    "print(\"\\n # Tuning hyper-parameters\")\n",
    "clf = GridSearchCV(svm.SVC(), param_grid, cv=5)\n",
    "clf.fit(data_train.iloc[:,:2], data_train.y)\n",
    "\n",
    "\n",
    "print(\"Best parameters set found on training set:\")\n",
    "print(clf.best_params_)\n",
    "\n",
    "y_pred = clf.predict(data_test.iloc[:,:2])\n",
    "print(\"\\n SVM on test set (parameter tuning) : \\t\", accuracy_score(data_train.y, y_pred), \"\\n\")\n"
   ]
  },
  {
   "cell_type": "markdown",
   "metadata": {},
   "source": [
    "<font color=\"red\">**Question 5:**</font> \n",
    "- Explain how many learning are done in the above procedure. In the procedure described using GridSearchCV with cv=5 (5-fold cross-validation), a total of 534 = 60 different models are trained and evaluated, where:\n",
    "\n",
    "    5 is the number of folds used in cross-validation\n",
    "    3 is the number of different values of degree considered for the polynomial kernel\n",
    "    4 is the number of different values of C considered for all kernels, or the number of different values of gamma considered for the RBF kernel.\n",
    "\n",
    "For each of the 60 models, the performance is evaluated using cross-validation, and the optimal hyperparameters are selected based on the average performance across the folds.\n",
    "\n",
    "Once the optimal hyperparameters are determined, a final model is trained on the entire training set using the selected hyperparameters, and the performance is evaluated on a separate test set.\n",
    "\n",
    "Therefore, a total of 61 models (60 intermediate models and 1 final model) are trained and evaluated in this procedure.\n",
    "\n",
    "- How the (hyper)-parameter are selected? In the procedure described using GridSearchCV with cross-validation, the hyperparameters are selected by exhaustively searching a pre-defined grid of hyperparameter values and selecting the combination of hyperparameters that results in the best performance on the validation set (i.e., the average performance across the cross-validation folds).\n",
    "\n",
    "The grid of hyperparameter values is defined using the param_grid parameter of GridSearchCV. For example, in the code snippet provided in the question, the param_grid specifies three different sets of hyperparameters to search over:\n",
    "\n",
    "param_grid = [              {'C': [1, 10, 100, 1000], 'kernel': ['linear']},\n",
    "              {'C': [1, 10, 100, 1000], 'degree': [2, 3, 4], 'kernel': ['poly']},\n",
    "              {'C': [1, 10, 100, 1000], 'gamma': [0.01, 0.1, 1.0], 'kernel': ['rbf']},\n",
    "              ]\n",
    "              \n",
    "This grid includes different combinations of values for the regularization parameter C, the degree of the polynomial kernel (degree) and the gamma parameter for the RBF kernel (gamma).\n",
    "\n",
    "For each combination of hyperparameters in the grid, the model is trained and evaluated using cross-validation. The optimal hyperparameters are selected based on the average performance across the cross-validation folds.\n",
    "\n",
    "Once the optimal hyperparameters are selected, a final model is trained using these hyperparameters on the entire training set, and the performance is evaluated on a separate test set to estimate how well the model generalizes to new, unseen data.\n",
    "\n",
    "- Does that match your previous study? Yes, this procedure matches the concept of hyperparameter tuning that was previously studied. Grid search with cross-validation is a commonly used method to find the best hyperparameters for a machine learning model."
   ]
  },
  {
   "cell_type": "code",
   "execution_count": null,
   "metadata": {},
   "outputs": [],
   "source": []
  }
 ],
 "metadata": {
  "kernelspec": {
   "display_name": "Python 3 (ipykernel)",
   "language": "python",
   "name": "python3"
  },
  "language_info": {
   "codemirror_mode": {
    "name": "ipython",
    "version": 3
   },
   "file_extension": ".py",
   "mimetype": "text/x-python",
   "name": "python",
   "nbconvert_exporter": "python",
   "pygments_lexer": "ipython3",
   "version": "3.9.7"
  },
  "varInspector": {
   "cols": {
    "lenName": 16,
    "lenType": 16,
    "lenVar": 40
   },
   "kernels_config": {
    "python": {
     "delete_cmd_postfix": "",
     "delete_cmd_prefix": "del ",
     "library": "var_list.py",
     "varRefreshCmd": "print(var_dic_list())"
    },
    "r": {
     "delete_cmd_postfix": ") ",
     "delete_cmd_prefix": "rm(",
     "library": "var_list.r",
     "varRefreshCmd": "cat(var_dic_list()) "
    }
   },
   "types_to_exclude": [
    "module",
    "function",
    "builtin_function_or_method",
    "instance",
    "_Feature"
   ],
   "window_display": false
  }
 },
 "nbformat": 4,
 "nbformat_minor": 4
}
