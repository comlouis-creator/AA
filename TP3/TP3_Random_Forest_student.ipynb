{
  "cells": [
    {
      "cell_type": "code",
      "execution_count": null,
      "metadata": {
        "ExecuteTime": {
          "end_time": "2021-11-23T13:40:30.389329Z",
          "start_time": "2021-11-23T13:40:27.788833Z"
        },
        "id": "zDyYypX3EzjN"
      },
      "outputs": [],
      "source": [
        "import numpy as np\n",
        "import pandas as pd\n",
        "import matplotlib.pyplot as plt\n",
        "import seaborn as sns\n",
        "import matplotlib\n",
        "from sklearn.model_selection import train_test_split\n",
        "from sklearn import tree\n",
        "from sklearn.ensemble import RandomForestClassifier\n",
        "from sklearn.ensemble import AdaBoostClassifier\n",
        "from sklearn.preprocessing import OrdinalEncoder\n",
        "from skimage.feature import hog"
      ]
    },
    {
      "cell_type": "markdown",
      "metadata": {
        "id": "c9EcftGPEzjO"
      },
      "source": [
        "<font  style=\"font-size: 4rem; color: #1abc9c\"> Model Combination : </font> \n",
        "<font  style=\"font-size: 4rem; color: #1abc9c\"> Random Forests, Adaboost </font>\n",
        "\n",
        "In Scikit-learn, the Random Forests methods are implemented via the <code>RandomForestClassifier</code> and <code>RandomForestCRegressor</code> class. Main parameters are:\n",
        "\n",
        "    n_estimators: the number of trees in the forest.\n",
        "\n",
        "    max_features : the number of attributes randomly drawn.\n",
        "\n",
        "    oob_score : boolean. Estimate or not the generalization error OOB (Out of Bag).\n",
        "\n",
        "https://scikit-learn.org/stable/modules/generated/sklearn.ensemble.RandomForestClassifier.html\n",
        "\n",
        "# <font color=\"#1E90FF\">Exercise 1. Random Forest exploration</font>\n",
        "\n",
        "\n",
        "In this exercise, we will take in hand the implementation of the RF. The dataset is based on \"Bank Marketing\" UCI dataset. The binary classification goal is to predict if the client will subscribe a bank term deposit (variable y).\n",
        "\n",
        "Input variables:\n",
        "\n",
        "    1 - age (numeric)\n",
        "    2 - job : type of job (categorical: \"admin.\",\"bluecollar\",\"entrepreneur\",\"housemaid\",\"management\",\"retired\",\"self-employed\",\"services\",\"student\",\"technician\",\"unemployed\",\"unknown\")\n",
        "    3 - education (categorical: \"basic.4y\",\"basic.6y\",\"basic.9y\",\"high.school\",\"illiterate\",\"professional.course\",\"university.degree\",\"unknown\")\n",
        "    4 - emp.var.rate: employment variation rate - quarterly indicator (numeric)\n",
        "    5 - cons.price.idx: consumer price index - monthly indicator (numeric) \n",
        "    6 - cons.conf.idx: consumer confidence index - monthly indicator (numeric)     \n",
        "    7 - euribor3m: euribor 3 month rate - daily indicator (numeric)\n",
        "    8 - nr.employed: number of employees - quarterly indicator (numeric)\n",
        "\n",
        "\n",
        "## <font color=\"#9400D3\">1. Data processing </font>"
      ]
    },
    {
      "cell_type": "code",
      "execution_count": null,
      "metadata": {
        "colab": {
          "base_uri": "https://localhost:8080/",
          "height": 258
        },
        "id": "HhQFcCVlEzjP",
        "outputId": "f8fe2dba-209c-481a-c283-f551df73c775"
      },
      "outputs": [
        {
          "output_type": "stream",
          "name": "stdout",
          "text": [
            "0    3668\n",
            "1     451\n",
            "Name: y, dtype: int64\n"
          ]
        },
        {
          "output_type": "execute_result",
          "data": {
            "text/plain": [
              "   age          job          education  emp.var.rate  cons.price.idx  \\\n",
              "0   30  blue-collar           basic.9y          -1.8          92.893   \n",
              "1   39     services        high.school           1.1          93.994   \n",
              "2   25     services        high.school           1.4          94.465   \n",
              "3   38     services           basic.9y           1.4          94.465   \n",
              "4   47       admin.  university.degree          -0.1          93.200   \n",
              "\n",
              "   cons.conf.idx  euribor3m  nr.employed  y  \n",
              "0          -46.2      1.313       5099.1  0  \n",
              "1          -36.4      4.855       5191.0  0  \n",
              "2          -41.8      4.962       5228.1  0  \n",
              "3          -41.8      4.959       5228.1  0  \n",
              "4          -42.0      4.191       5195.8  0  "
            ],
            "text/html": [
              "\n",
              "  <div id=\"df-0b66ebd3-3548-41b9-8de0-e16eb5b518fd\">\n",
              "    <div class=\"colab-df-container\">\n",
              "      <div>\n",
              "<style scoped>\n",
              "    .dataframe tbody tr th:only-of-type {\n",
              "        vertical-align: middle;\n",
              "    }\n",
              "\n",
              "    .dataframe tbody tr th {\n",
              "        vertical-align: top;\n",
              "    }\n",
              "\n",
              "    .dataframe thead th {\n",
              "        text-align: right;\n",
              "    }\n",
              "</style>\n",
              "<table border=\"1\" class=\"dataframe\">\n",
              "  <thead>\n",
              "    <tr style=\"text-align: right;\">\n",
              "      <th></th>\n",
              "      <th>age</th>\n",
              "      <th>job</th>\n",
              "      <th>education</th>\n",
              "      <th>emp.var.rate</th>\n",
              "      <th>cons.price.idx</th>\n",
              "      <th>cons.conf.idx</th>\n",
              "      <th>euribor3m</th>\n",
              "      <th>nr.employed</th>\n",
              "      <th>y</th>\n",
              "    </tr>\n",
              "  </thead>\n",
              "  <tbody>\n",
              "    <tr>\n",
              "      <th>0</th>\n",
              "      <td>30</td>\n",
              "      <td>blue-collar</td>\n",
              "      <td>basic.9y</td>\n",
              "      <td>-1.8</td>\n",
              "      <td>92.893</td>\n",
              "      <td>-46.2</td>\n",
              "      <td>1.313</td>\n",
              "      <td>5099.1</td>\n",
              "      <td>0</td>\n",
              "    </tr>\n",
              "    <tr>\n",
              "      <th>1</th>\n",
              "      <td>39</td>\n",
              "      <td>services</td>\n",
              "      <td>high.school</td>\n",
              "      <td>1.1</td>\n",
              "      <td>93.994</td>\n",
              "      <td>-36.4</td>\n",
              "      <td>4.855</td>\n",
              "      <td>5191.0</td>\n",
              "      <td>0</td>\n",
              "    </tr>\n",
              "    <tr>\n",
              "      <th>2</th>\n",
              "      <td>25</td>\n",
              "      <td>services</td>\n",
              "      <td>high.school</td>\n",
              "      <td>1.4</td>\n",
              "      <td>94.465</td>\n",
              "      <td>-41.8</td>\n",
              "      <td>4.962</td>\n",
              "      <td>5228.1</td>\n",
              "      <td>0</td>\n",
              "    </tr>\n",
              "    <tr>\n",
              "      <th>3</th>\n",
              "      <td>38</td>\n",
              "      <td>services</td>\n",
              "      <td>basic.9y</td>\n",
              "      <td>1.4</td>\n",
              "      <td>94.465</td>\n",
              "      <td>-41.8</td>\n",
              "      <td>4.959</td>\n",
              "      <td>5228.1</td>\n",
              "      <td>0</td>\n",
              "    </tr>\n",
              "    <tr>\n",
              "      <th>4</th>\n",
              "      <td>47</td>\n",
              "      <td>admin.</td>\n",
              "      <td>university.degree</td>\n",
              "      <td>-0.1</td>\n",
              "      <td>93.200</td>\n",
              "      <td>-42.0</td>\n",
              "      <td>4.191</td>\n",
              "      <td>5195.8</td>\n",
              "      <td>0</td>\n",
              "    </tr>\n",
              "  </tbody>\n",
              "</table>\n",
              "</div>\n",
              "      <button class=\"colab-df-convert\" onclick=\"convertToInteractive('df-0b66ebd3-3548-41b9-8de0-e16eb5b518fd')\"\n",
              "              title=\"Convert this dataframe to an interactive table.\"\n",
              "              style=\"display:none;\">\n",
              "        \n",
              "  <svg xmlns=\"http://www.w3.org/2000/svg\" height=\"24px\"viewBox=\"0 0 24 24\"\n",
              "       width=\"24px\">\n",
              "    <path d=\"M0 0h24v24H0V0z\" fill=\"none\"/>\n",
              "    <path d=\"M18.56 5.44l.94 2.06.94-2.06 2.06-.94-2.06-.94-.94-2.06-.94 2.06-2.06.94zm-11 1L8.5 8.5l.94-2.06 2.06-.94-2.06-.94L8.5 2.5l-.94 2.06-2.06.94zm10 10l.94 2.06.94-2.06 2.06-.94-2.06-.94-.94-2.06-.94 2.06-2.06.94z\"/><path d=\"M17.41 7.96l-1.37-1.37c-.4-.4-.92-.59-1.43-.59-.52 0-1.04.2-1.43.59L10.3 9.45l-7.72 7.72c-.78.78-.78 2.05 0 2.83L4 21.41c.39.39.9.59 1.41.59.51 0 1.02-.2 1.41-.59l7.78-7.78 2.81-2.81c.8-.78.8-2.07 0-2.86zM5.41 20L4 18.59l7.72-7.72 1.47 1.35L5.41 20z\"/>\n",
              "  </svg>\n",
              "      </button>\n",
              "      \n",
              "  <style>\n",
              "    .colab-df-container {\n",
              "      display:flex;\n",
              "      flex-wrap:wrap;\n",
              "      gap: 12px;\n",
              "    }\n",
              "\n",
              "    .colab-df-convert {\n",
              "      background-color: #E8F0FE;\n",
              "      border: none;\n",
              "      border-radius: 50%;\n",
              "      cursor: pointer;\n",
              "      display: none;\n",
              "      fill: #1967D2;\n",
              "      height: 32px;\n",
              "      padding: 0 0 0 0;\n",
              "      width: 32px;\n",
              "    }\n",
              "\n",
              "    .colab-df-convert:hover {\n",
              "      background-color: #E2EBFA;\n",
              "      box-shadow: 0px 1px 2px rgba(60, 64, 67, 0.3), 0px 1px 3px 1px rgba(60, 64, 67, 0.15);\n",
              "      fill: #174EA6;\n",
              "    }\n",
              "\n",
              "    [theme=dark] .colab-df-convert {\n",
              "      background-color: #3B4455;\n",
              "      fill: #D2E3FC;\n",
              "    }\n",
              "\n",
              "    [theme=dark] .colab-df-convert:hover {\n",
              "      background-color: #434B5C;\n",
              "      box-shadow: 0px 1px 3px 1px rgba(0, 0, 0, 0.15);\n",
              "      filter: drop-shadow(0px 1px 2px rgba(0, 0, 0, 0.3));\n",
              "      fill: #FFFFFF;\n",
              "    }\n",
              "  </style>\n",
              "\n",
              "      <script>\n",
              "        const buttonEl =\n",
              "          document.querySelector('#df-0b66ebd3-3548-41b9-8de0-e16eb5b518fd button.colab-df-convert');\n",
              "        buttonEl.style.display =\n",
              "          google.colab.kernel.accessAllowed ? 'block' : 'none';\n",
              "\n",
              "        async function convertToInteractive(key) {\n",
              "          const element = document.querySelector('#df-0b66ebd3-3548-41b9-8de0-e16eb5b518fd');\n",
              "          const dataTable =\n",
              "            await google.colab.kernel.invokeFunction('convertToInteractive',\n",
              "                                                     [key], {});\n",
              "          if (!dataTable) return;\n",
              "\n",
              "          const docLinkHtml = 'Like what you see? Visit the ' +\n",
              "            '<a target=\"_blank\" href=https://colab.research.google.com/notebooks/data_table.ipynb>data table notebook</a>'\n",
              "            + ' to learn more about interactive tables.';\n",
              "          element.innerHTML = '';\n",
              "          dataTable['output_type'] = 'display_data';\n",
              "          await google.colab.output.renderOutput(dataTable, element);\n",
              "          const docLink = document.createElement('div');\n",
              "          docLink.innerHTML = docLinkHtml;\n",
              "          element.appendChild(docLink);\n",
              "        }\n",
              "      </script>\n",
              "    </div>\n",
              "  </div>\n",
              "  "
            ]
          },
          "metadata": {},
          "execution_count": 2
        }
      ],
      "source": [
        "# Load data\n",
        "bank_data = pd.read_csv('./data/bank-additional-modified.csv', sep=';')\n",
        "bank_data['y'] = bank_data['y'].map({'no':0,'yes':1})\n",
        "print(pd.value_counts(bank_data.y))\n",
        "bank_data.head()\n"
      ]
    },
    {
      "cell_type": "markdown",
      "metadata": {
        "id": "MMWWwfZmEzjQ"
      },
      "source": [
        "<font color=\"red\">**Question 1:**</font> Describe the dataset : number of samples, features, classes, class distribution\n",
        "\n",
        "The dataset has 4119 samples (rows) and 9 features (columns) including the target variable \"y\". There are two classes in the target variable, with class 0 having 3668 samples and class 1 having 451 samples. The dataset contains information about the age, job, education, employment variation rate, consumer price index, consumer confidence index, euribor 3 month rate, number of employees, and the target variable (whether or not the client subscribed to a term deposit).\n",
        "\n",
        "Attributes should be numeric. We employ the <code>OrdinalEncoder</code> preprocessing method to transform the categorical attributes.\n",
        "\n",
        "<font color=\"red\">**Question 2:**</font> Explain the effect of this encoding."
      ]
    },
    {
      "cell_type": "markdown",
      "source": [
        "The OrdinalEncoder preprocessing method is used to transform categorical attributes into numerical attributes. In the given dataset, the job and education attributes were originally categorical. The ordinal encoding technique assigns a unique integer value to each category of the attribute. For example, in the job attribute, the blue-collar job was assigned a value of 1, while the admin job was assigned a value of 0. Similarly, in the education attribute, the basic.9y education level was assigned a value of 2, while the university.degree education level was assigned a value of 6.\n",
        "\n",
        "The effect of this encoding is that the machine learning model can now interpret the categorical attributes as numerical attributes, and use them in the learning process. This encoding does not necessarily imply any inherent order or ranking between the categories, but it enables the model to handle them as numerical variables."
      ],
      "metadata": {
        "id": "GCweSt40H3iU"
      }
    },
    {
      "cell_type": "code",
      "execution_count": null,
      "metadata": {
        "id": "Yl9zRClZEzjQ",
        "colab": {
          "base_uri": "https://localhost:8080/",
          "height": 206
        },
        "outputId": "d37afcb3-3618-412d-c9ce-6ce292fb031f"
      },
      "outputs": [
        {
          "output_type": "execute_result",
          "data": {
            "text/plain": [
              "   age  job  education  emp.var.rate  cons.price.idx  cons.conf.idx  \\\n",
              "0   30  1.0        2.0          -1.8          92.893          -46.2   \n",
              "1   39  7.0        3.0           1.1          93.994          -36.4   \n",
              "2   25  7.0        3.0           1.4          94.465          -41.8   \n",
              "3   38  7.0        2.0           1.4          94.465          -41.8   \n",
              "4   47  0.0        6.0          -0.1          93.200          -42.0   \n",
              "\n",
              "   euribor3m  nr.employed  y  \n",
              "0      1.313       5099.1  0  \n",
              "1      4.855       5191.0  0  \n",
              "2      4.962       5228.1  0  \n",
              "3      4.959       5228.1  0  \n",
              "4      4.191       5195.8  0  "
            ],
            "text/html": [
              "\n",
              "  <div id=\"df-63543c00-1bab-4105-9f0a-baf48493f489\">\n",
              "    <div class=\"colab-df-container\">\n",
              "      <div>\n",
              "<style scoped>\n",
              "    .dataframe tbody tr th:only-of-type {\n",
              "        vertical-align: middle;\n",
              "    }\n",
              "\n",
              "    .dataframe tbody tr th {\n",
              "        vertical-align: top;\n",
              "    }\n",
              "\n",
              "    .dataframe thead th {\n",
              "        text-align: right;\n",
              "    }\n",
              "</style>\n",
              "<table border=\"1\" class=\"dataframe\">\n",
              "  <thead>\n",
              "    <tr style=\"text-align: right;\">\n",
              "      <th></th>\n",
              "      <th>age</th>\n",
              "      <th>job</th>\n",
              "      <th>education</th>\n",
              "      <th>emp.var.rate</th>\n",
              "      <th>cons.price.idx</th>\n",
              "      <th>cons.conf.idx</th>\n",
              "      <th>euribor3m</th>\n",
              "      <th>nr.employed</th>\n",
              "      <th>y</th>\n",
              "    </tr>\n",
              "  </thead>\n",
              "  <tbody>\n",
              "    <tr>\n",
              "      <th>0</th>\n",
              "      <td>30</td>\n",
              "      <td>1.0</td>\n",
              "      <td>2.0</td>\n",
              "      <td>-1.8</td>\n",
              "      <td>92.893</td>\n",
              "      <td>-46.2</td>\n",
              "      <td>1.313</td>\n",
              "      <td>5099.1</td>\n",
              "      <td>0</td>\n",
              "    </tr>\n",
              "    <tr>\n",
              "      <th>1</th>\n",
              "      <td>39</td>\n",
              "      <td>7.0</td>\n",
              "      <td>3.0</td>\n",
              "      <td>1.1</td>\n",
              "      <td>93.994</td>\n",
              "      <td>-36.4</td>\n",
              "      <td>4.855</td>\n",
              "      <td>5191.0</td>\n",
              "      <td>0</td>\n",
              "    </tr>\n",
              "    <tr>\n",
              "      <th>2</th>\n",
              "      <td>25</td>\n",
              "      <td>7.0</td>\n",
              "      <td>3.0</td>\n",
              "      <td>1.4</td>\n",
              "      <td>94.465</td>\n",
              "      <td>-41.8</td>\n",
              "      <td>4.962</td>\n",
              "      <td>5228.1</td>\n",
              "      <td>0</td>\n",
              "    </tr>\n",
              "    <tr>\n",
              "      <th>3</th>\n",
              "      <td>38</td>\n",
              "      <td>7.0</td>\n",
              "      <td>2.0</td>\n",
              "      <td>1.4</td>\n",
              "      <td>94.465</td>\n",
              "      <td>-41.8</td>\n",
              "      <td>4.959</td>\n",
              "      <td>5228.1</td>\n",
              "      <td>0</td>\n",
              "    </tr>\n",
              "    <tr>\n",
              "      <th>4</th>\n",
              "      <td>47</td>\n",
              "      <td>0.0</td>\n",
              "      <td>6.0</td>\n",
              "      <td>-0.1</td>\n",
              "      <td>93.200</td>\n",
              "      <td>-42.0</td>\n",
              "      <td>4.191</td>\n",
              "      <td>5195.8</td>\n",
              "      <td>0</td>\n",
              "    </tr>\n",
              "  </tbody>\n",
              "</table>\n",
              "</div>\n",
              "      <button class=\"colab-df-convert\" onclick=\"convertToInteractive('df-63543c00-1bab-4105-9f0a-baf48493f489')\"\n",
              "              title=\"Convert this dataframe to an interactive table.\"\n",
              "              style=\"display:none;\">\n",
              "        \n",
              "  <svg xmlns=\"http://www.w3.org/2000/svg\" height=\"24px\"viewBox=\"0 0 24 24\"\n",
              "       width=\"24px\">\n",
              "    <path d=\"M0 0h24v24H0V0z\" fill=\"none\"/>\n",
              "    <path d=\"M18.56 5.44l.94 2.06.94-2.06 2.06-.94-2.06-.94-.94-2.06-.94 2.06-2.06.94zm-11 1L8.5 8.5l.94-2.06 2.06-.94-2.06-.94L8.5 2.5l-.94 2.06-2.06.94zm10 10l.94 2.06.94-2.06 2.06-.94-2.06-.94-.94-2.06-.94 2.06-2.06.94z\"/><path d=\"M17.41 7.96l-1.37-1.37c-.4-.4-.92-.59-1.43-.59-.52 0-1.04.2-1.43.59L10.3 9.45l-7.72 7.72c-.78.78-.78 2.05 0 2.83L4 21.41c.39.39.9.59 1.41.59.51 0 1.02-.2 1.41-.59l7.78-7.78 2.81-2.81c.8-.78.8-2.07 0-2.86zM5.41 20L4 18.59l7.72-7.72 1.47 1.35L5.41 20z\"/>\n",
              "  </svg>\n",
              "      </button>\n",
              "      \n",
              "  <style>\n",
              "    .colab-df-container {\n",
              "      display:flex;\n",
              "      flex-wrap:wrap;\n",
              "      gap: 12px;\n",
              "    }\n",
              "\n",
              "    .colab-df-convert {\n",
              "      background-color: #E8F0FE;\n",
              "      border: none;\n",
              "      border-radius: 50%;\n",
              "      cursor: pointer;\n",
              "      display: none;\n",
              "      fill: #1967D2;\n",
              "      height: 32px;\n",
              "      padding: 0 0 0 0;\n",
              "      width: 32px;\n",
              "    }\n",
              "\n",
              "    .colab-df-convert:hover {\n",
              "      background-color: #E2EBFA;\n",
              "      box-shadow: 0px 1px 2px rgba(60, 64, 67, 0.3), 0px 1px 3px 1px rgba(60, 64, 67, 0.15);\n",
              "      fill: #174EA6;\n",
              "    }\n",
              "\n",
              "    [theme=dark] .colab-df-convert {\n",
              "      background-color: #3B4455;\n",
              "      fill: #D2E3FC;\n",
              "    }\n",
              "\n",
              "    [theme=dark] .colab-df-convert:hover {\n",
              "      background-color: #434B5C;\n",
              "      box-shadow: 0px 1px 3px 1px rgba(0, 0, 0, 0.15);\n",
              "      filter: drop-shadow(0px 1px 2px rgba(0, 0, 0, 0.3));\n",
              "      fill: #FFFFFF;\n",
              "    }\n",
              "  </style>\n",
              "\n",
              "      <script>\n",
              "        const buttonEl =\n",
              "          document.querySelector('#df-63543c00-1bab-4105-9f0a-baf48493f489 button.colab-df-convert');\n",
              "        buttonEl.style.display =\n",
              "          google.colab.kernel.accessAllowed ? 'block' : 'none';\n",
              "\n",
              "        async function convertToInteractive(key) {\n",
              "          const element = document.querySelector('#df-63543c00-1bab-4105-9f0a-baf48493f489');\n",
              "          const dataTable =\n",
              "            await google.colab.kernel.invokeFunction('convertToInteractive',\n",
              "                                                     [key], {});\n",
              "          if (!dataTable) return;\n",
              "\n",
              "          const docLinkHtml = 'Like what you see? Visit the ' +\n",
              "            '<a target=\"_blank\" href=https://colab.research.google.com/notebooks/data_table.ipynb>data table notebook</a>'\n",
              "            + ' to learn more about interactive tables.';\n",
              "          element.innerHTML = '';\n",
              "          dataTable['output_type'] = 'display_data';\n",
              "          await google.colab.output.renderOutput(dataTable, element);\n",
              "          const docLink = document.createElement('div');\n",
              "          docLink.innerHTML = docLinkHtml;\n",
              "          element.appendChild(docLink);\n",
              "        }\n",
              "      </script>\n",
              "    </div>\n",
              "  </div>\n",
              "  "
            ]
          },
          "metadata": {},
          "execution_count": 4
        }
      ],
      "source": [
        "# Data preprocessing\n",
        "oenc=OrdinalEncoder()\n",
        "bank_data[[\"job\",\"education\"]] = oenc.fit_transform(bank_data[[\"job\",\"education\"]])\n",
        "bank_data.head()"
      ]
    },
    {
      "cell_type": "markdown",
      "metadata": {
        "id": "b574WB8MEzjQ"
      },
      "source": [
        "## <font color=\"#9400D3\">2. RF classifier </font>"
      ]
    },
    {
      "cell_type": "code",
      "execution_count": null,
      "metadata": {
        "id": "F4rbGV3AEzjQ",
        "colab": {
          "base_uri": "https://localhost:8080/",
          "height": 380
        },
        "outputId": "c96d3d16-af05-4df5-c704-e4161e144e67"
      },
      "outputs": [
        {
          "output_type": "stream",
          "name": "stderr",
          "text": [
            "/usr/local/lib/python3.8/dist-packages/sklearn/ensemble/_forest.py:583: UserWarning: Some inputs do not have OOB scores. This probably means too few trees were used to compute any reliable OOB estimates.\n",
            "  warn(\n"
          ]
        },
        {
          "output_type": "display_data",
          "data": {
            "text/plain": [
              "<Figure size 432x288 with 1 Axes>"
            ],
            "image/png": "[encoded data removed]"
          },
          "metadata": {
            "needs_background": "light"
          }
        }
      ],
      "source": [
        "# Dataset split into train/test set\n",
        "bank_train, bank_test = train_test_split(bank_data, test_size = 0.3, random_state = 50)\n",
        "\n",
        "# Learn a RF classifier\n",
        "r_f = RandomForestClassifier(n_estimators=15, random_state=0, oob_score=True)\n",
        "r_f.fit(bank_train.iloc[:,:-1],bank_train.y) \n",
        "\n",
        "\n",
        "# Feature importance\n",
        "# Create a series containing feature importances from the model and feature names from the training data\n",
        "feature_importances = pd.Series(r_f.feature_importances_, index=bank_train.columns[:-1]).sort_values(ascending=False)\n",
        "\n",
        "# Plot a simple bar chart\n",
        "feature_importances.plot.bar();"
      ]
    },
    {
      "cell_type": "markdown",
      "metadata": {
        "id": "aYrsWrztEzjR"
      },
      "source": [
        "<font color=\"red\">**Question 3:**</font> How many trees are used in the ensemble?\n",
        "\n",
        "The random forest classifier is created with 15 decision trees in the ensemble. This is specified by the n_estimators=15 parameter. However, the warning message suggests that some inputs do not have Out-of-Bag (OOB) scores, which indicates that too few trees were used to compute any reliable OOB estimates.\n",
        "\n",
        "<font color=\"red\">**Question 4:**</font> How many features are consider when looking for the best split? <br> We observe 8 columns in the graphic. When looking for the best split, we need to use this formula : features = sqrt(number of columns). Here the result is sqrt(8), which numeric value is between 2 and 3. So 2 features are considered.\n",
        "\n",
        "<font color=\"red\">**Question 5:**</font> Recall how the importance of variables is determined.\n",
        "\n",
        "<font color=\"blue\">**Todo:**</font> Compute the prediction score of this random forest on the train set (function <code>score()</code>) and on the OOB samples (**attribute** <code>oob_score_</code>)."
      ]
    },
    {
      "cell_type": "code",
      "execution_count": null,
      "metadata": {
        "id": "wup4bkwuEzjR",
        "colab": {
          "base_uri": "https://localhost:8080/"
        },
        "outputId": "795b8b60-2688-488a-f32d-29e135cefd98"
      },
      "outputs": [
        {
          "output_type": "stream",
          "name": "stdout",
          "text": [
            "Prediction score on train set: 0.9854318418314256\n",
            "Prediction score on OOB samples: 0.8747832119320152\n"
          ]
        }
      ],
      "source": [
        "# TODO - compute prediction scores\n",
        "\n",
        "# Compute prediction score on the train set\n",
        "train_score = r_f.score(bank_train.iloc[:,:-1], bank_train.y)\n",
        "print(\"Prediction score on train set:\", train_score)\n",
        "\n",
        "# Compute prediction score on the OOB samples\n",
        "oob_score = r_f.oob_score_\n",
        "print(\"Prediction score on OOB samples:\", oob_score)\n"
      ]
    },
    {
      "cell_type": "markdown",
      "metadata": {
        "id": "-YMTVfQiEzjR"
      },
      "source": [
        "<font color=\"red\">**Question 6:**</font> \n",
        "- What represents the OOB score? The OOB (Out-of-Bag) score is an estimate of the generalization error of a random forest model. It is calculated using the training data that were not used for constructing a particular tree in the forest.\n",
        "\n",
        "In other words, each tree in the random forest is built using a bootstrap sample of the original data. The remaining samples that were not used in the bootstrap sample are called the out-of-bag (OOB) samples. These OOB samples are not used during the training of that particular tree, and can therefore be used as a test set to estimate the performance of the tree.\n",
        "\n",
        "The OOB score is the average score of each tree in the forest on its corresponding OOB samples. It provides a measure of the performance of the model on new, unseen data. A higher OOB score indicates better generalization performance of the model.\n",
        "- Compare with the real (generalization) error estimated on the test set.\n",
        "\n",
        "## <font color=\"#9400D3\">3. Comparison with a decision tree </font>\n",
        "\n",
        "<font color=\"blue\">**Todo:**</font> Fit a decision tree classifier, and compute the real accuracy."
      ]
    },
    {
      "cell_type": "code",
      "source": [
        "test_score = r_f.score(bank_test.iloc[:,:-1], bank_test.y)\n",
        "\n",
        "print(\"OOB score:\", oob_score)\n",
        "print(\"Test set score:\", test_score)"
      ],
      "metadata": {
        "colab": {
          "base_uri": "https://localhost:8080/"
        },
        "id": "2V_ubUJdL9-T",
        "outputId": "790d5bc8-a8be-4520-bb81-353e01ee8a9f"
      },
      "execution_count": null,
      "outputs": [
        {
          "output_type": "stream",
          "name": "stdout",
          "text": [
            "OOB score: 0.8747832119320152\n",
            "Test set score: 0.8826860841423948\n"
          ]
        }
      ]
    },
    {
      "cell_type": "code",
      "execution_count": null,
      "metadata": {
        "id": "cB0Bs_NSEzjR",
        "colab": {
          "base_uri": "https://localhost:8080/"
        },
        "outputId": "62df707b-0993-433c-de14-5af036829637"
      },
      "outputs": [
        {
          "output_type": "stream",
          "name": "stdout",
          "text": [
            "Decision tree accuracy on the test set: 0.844\n"
          ]
        }
      ],
      "source": [
        "# TODO - Fit a decision tree classifier, and compute the real accuracy.\n",
        "\n",
        "from sklearn.tree import DecisionTreeClassifier\n",
        "from sklearn.metrics import accuracy_score\n",
        "\n",
        "# create a decision tree classifier\n",
        "dtc = DecisionTreeClassifier(random_state=0)\n",
        "\n",
        "# train the model on the train set\n",
        "dtc.fit(bank_train.iloc[:,:-1], bank_train.y)\n",
        "\n",
        "# make predictions on the test set\n",
        "y_pred = dtc.predict(bank_test.iloc[:,:-1])\n",
        "\n",
        "# compute accuracy on the test set\n",
        "acc = accuracy_score(bank_test.y, y_pred)\n",
        "\n",
        "print(f\"Decision tree accuracy on the test set: {acc:.3f}\")\n"
      ]
    },
    {
      "cell_type": "markdown",
      "metadata": {
        "id": "_plmoMR0EzjR"
      },
      "source": [
        "# <font color=\"#1E90FF\">Exercise 2. RF on Handwritten digits</font>\n",
        "Similarly to Decision Trees notebook, we will first apply random forest to the raw images, and then try to improve the performance using HOG representations of images."
      ]
    },
    {
      "cell_type": "code",
      "execution_count": null,
      "metadata": {
        "ExecuteTime": {
          "end_time": "2021-11-23T13:09:47.669168Z",
          "start_time": "2021-11-23T13:09:47.489235Z"
        },
        "id": "ExjyiwYNEzjR",
        "colab": {
          "base_uri": "https://localhost:8080/",
          "height": 299
        },
        "outputId": "8597319c-2633-494d-f4f0-795184dffe4d"
      },
      "outputs": [
        {
          "output_type": "execute_result",
          "data": {
            "text/plain": [
              "   label  pixel0  pixel1  pixel2  pixel3  pixel4  pixel5  pixel6  pixel7  \\\n",
              "0      1       0       0       0       0       0       0       0       0   \n",
              "1      3       0       0       0       0       0       0       0       0   \n",
              "2      8       0       0       0       0       0       0       0       0   \n",
              "3      4       0       0       0       0       0       0       0       0   \n",
              "4      0       0       0       0       0       0       0       0       0   \n",
              "\n",
              "   pixel8  ...  pixel774  pixel775  pixel776  pixel777  pixel778  pixel779  \\\n",
              "0       0  ...         0         0         0         0         0         0   \n",
              "1       0  ...         0         0         0         0         0         0   \n",
              "2       0  ...         0         0         0         0         0         0   \n",
              "3       0  ...         0         0         0         0         0         0   \n",
              "4       0  ...         0         0         0         0         0         0   \n",
              "\n",
              "   pixel780  pixel781  pixel782  pixel783  \n",
              "0         0         0         0         0  \n",
              "1         0         0         0         0  \n",
              "2         0         0         0         0  \n",
              "3         0         0         0         0  \n",
              "4         0         0         0         0  \n",
              "\n",
              "[5 rows x 785 columns]"
            ],
            "text/html": [
              "\n",
              "  <div id=\"df-3a0b1287-8618-44fe-8c3a-b9db3b70e61d\">\n",
              "    <div class=\"colab-df-container\">\n",
              "      <div>\n",
              "<style scoped>\n",
              "    .dataframe tbody tr th:only-of-type {\n",
              "        vertical-align: middle;\n",
              "    }\n",
              "\n",
              "    .dataframe tbody tr th {\n",
              "        vertical-align: top;\n",
              "    }\n",
              "\n",
              "    .dataframe thead th {\n",
              "        text-align: right;\n",
              "    }\n",
              "</style>\n",
              "<table border=\"1\" class=\"dataframe\">\n",
              "  <thead>\n",
              "    <tr style=\"text-align: right;\">\n",
              "      <th></th>\n",
              "      <th>label</th>\n",
              "      <th>pixel0</th>\n",
              "      <th>pixel1</th>\n",
              "      <th>pixel2</th>\n",
              "      <th>pixel3</th>\n",
              "      <th>pixel4</th>\n",
              "      <th>pixel5</th>\n",
              "      <th>pixel6</th>\n",
              "      <th>pixel7</th>\n",
              "      <th>pixel8</th>\n",
              "      <th>...</th>\n",
              "      <th>pixel774</th>\n",
              "      <th>pixel775</th>\n",
              "      <th>pixel776</th>\n",
              "      <th>pixel777</th>\n",
              "      <th>pixel778</th>\n",
              "      <th>pixel779</th>\n",
              "      <th>pixel780</th>\n",
              "      <th>pixel781</th>\n",
              "      <th>pixel782</th>\n",
              "      <th>pixel783</th>\n",
              "    </tr>\n",
              "  </thead>\n",
              "  <tbody>\n",
              "    <tr>\n",
              "      <th>0</th>\n",
              "      <td>1</td>\n",
              "      <td>0</td>\n",
              "      <td>0</td>\n",
              "      <td>0</td>\n",
              "      <td>0</td>\n",
              "      <td>0</td>\n",
              "      <td>0</td>\n",
              "      <td>0</td>\n",
              "      <td>0</td>\n",
              "      <td>0</td>\n",
              "      <td>...</td>\n",
              "      <td>0</td>\n",
              "      <td>0</td>\n",
              "      <td>0</td>\n",
              "      <td>0</td>\n",
              "      <td>0</td>\n",
              "      <td>0</td>\n",
              "      <td>0</td>\n",
              "      <td>0</td>\n",
              "      <td>0</td>\n",
              "      <td>0</td>\n",
              "    </tr>\n",
              "    <tr>\n",
              "      <th>1</th>\n",
              "      <td>3</td>\n",
              "      <td>0</td>\n",
              "      <td>0</td>\n",
              "      <td>0</td>\n",
              "      <td>0</td>\n",
              "      <td>0</td>\n",
              "      <td>0</td>\n",
              "      <td>0</td>\n",
              "      <td>0</td>\n",
              "      <td>0</td>\n",
              "      <td>...</td>\n",
              "      <td>0</td>\n",
              "      <td>0</td>\n",
              "      <td>0</td>\n",
              "      <td>0</td>\n",
              "      <td>0</td>\n",
              "      <td>0</td>\n",
              "      <td>0</td>\n",
              "      <td>0</td>\n",
              "      <td>0</td>\n",
              "      <td>0</td>\n",
              "    </tr>\n",
              "    <tr>\n",
              "      <th>2</th>\n",
              "      <td>8</td>\n",
              "      <td>0</td>\n",
              "      <td>0</td>\n",
              "      <td>0</td>\n",
              "      <td>0</td>\n",
              "      <td>0</td>\n",
              "      <td>0</td>\n",
              "      <td>0</td>\n",
              "      <td>0</td>\n",
              "      <td>0</td>\n",
              "      <td>...</td>\n",
              "      <td>0</td>\n",
              "      <td>0</td>\n",
              "      <td>0</td>\n",
              "      <td>0</td>\n",
              "      <td>0</td>\n",
              "      <td>0</td>\n",
              "      <td>0</td>\n",
              "      <td>0</td>\n",
              "      <td>0</td>\n",
              "      <td>0</td>\n",
              "    </tr>\n",
              "    <tr>\n",
              "      <th>3</th>\n",
              "      <td>4</td>\n",
              "      <td>0</td>\n",
              "      <td>0</td>\n",
              "      <td>0</td>\n",
              "      <td>0</td>\n",
              "      <td>0</td>\n",
              "      <td>0</td>\n",
              "      <td>0</td>\n",
              "      <td>0</td>\n",
              "      <td>0</td>\n",
              "      <td>...</td>\n",
              "      <td>0</td>\n",
              "      <td>0</td>\n",
              "      <td>0</td>\n",
              "      <td>0</td>\n",
              "      <td>0</td>\n",
              "      <td>0</td>\n",
              "      <td>0</td>\n",
              "      <td>0</td>\n",
              "      <td>0</td>\n",
              "      <td>0</td>\n",
              "    </tr>\n",
              "    <tr>\n",
              "      <th>4</th>\n",
              "      <td>0</td>\n",
              "      <td>0</td>\n",
              "      <td>0</td>\n",
              "      <td>0</td>\n",
              "      <td>0</td>\n",
              "      <td>0</td>\n",
              "      <td>0</td>\n",
              "      <td>0</td>\n",
              "      <td>0</td>\n",
              "      <td>0</td>\n",
              "      <td>...</td>\n",
              "      <td>0</td>\n",
              "      <td>0</td>\n",
              "      <td>0</td>\n",
              "      <td>0</td>\n",
              "      <td>0</td>\n",
              "      <td>0</td>\n",
              "      <td>0</td>\n",
              "      <td>0</td>\n",
              "      <td>0</td>\n",
              "      <td>0</td>\n",
              "    </tr>\n",
              "  </tbody>\n",
              "</table>\n",
              "<p>5 rows × 785 columns</p>\n",
              "</div>\n",
              "      <button class=\"colab-df-convert\" onclick=\"convertToInteractive('df-3a0b1287-8618-44fe-8c3a-b9db3b70e61d')\"\n",
              "              title=\"Convert this dataframe to an interactive table.\"\n",
              "              style=\"display:none;\">\n",
              "        \n",
              "  <svg xmlns=\"http://www.w3.org/2000/svg\" height=\"24px\"viewBox=\"0 0 24 24\"\n",
              "       width=\"24px\">\n",
              "    <path d=\"M0 0h24v24H0V0z\" fill=\"none\"/>\n",
              "    <path d=\"M18.56 5.44l.94 2.06.94-2.06 2.06-.94-2.06-.94-.94-2.06-.94 2.06-2.06.94zm-11 1L8.5 8.5l.94-2.06 2.06-.94-2.06-.94L8.5 2.5l-.94 2.06-2.06.94zm10 10l.94 2.06.94-2.06 2.06-.94-2.06-.94-.94-2.06-.94 2.06-2.06.94z\"/><path d=\"M17.41 7.96l-1.37-1.37c-.4-.4-.92-.59-1.43-.59-.52 0-1.04.2-1.43.59L10.3 9.45l-7.72 7.72c-.78.78-.78 2.05 0 2.83L4 21.41c.39.39.9.59 1.41.59.51 0 1.02-.2 1.41-.59l7.78-7.78 2.81-2.81c.8-.78.8-2.07 0-2.86zM5.41 20L4 18.59l7.72-7.72 1.47 1.35L5.41 20z\"/>\n",
              "  </svg>\n",
              "      </button>\n",
              "      \n",
              "  <style>\n",
              "    .colab-df-container {\n",
              "      display:flex;\n",
              "      flex-wrap:wrap;\n",
              "      gap: 12px;\n",
              "    }\n",
              "\n",
              "    .colab-df-convert {\n",
              "      background-color: #E8F0FE;\n",
              "      border: none;\n",
              "      border-radius: 50%;\n",
              "      cursor: pointer;\n",
              "      display: none;\n",
              "      fill: #1967D2;\n",
              "      height: 32px;\n",
              "      padding: 0 0 0 0;\n",
              "      width: 32px;\n",
              "    }\n",
              "\n",
              "    .colab-df-convert:hover {\n",
              "      background-color: #E2EBFA;\n",
              "      box-shadow: 0px 1px 2px rgba(60, 64, 67, 0.3), 0px 1px 3px 1px rgba(60, 64, 67, 0.15);\n",
              "      fill: #174EA6;\n",
              "    }\n",
              "\n",
              "    [theme=dark] .colab-df-convert {\n",
              "      background-color: #3B4455;\n",
              "      fill: #D2E3FC;\n",
              "    }\n",
              "\n",
              "    [theme=dark] .colab-df-convert:hover {\n",
              "      background-color: #434B5C;\n",
              "      box-shadow: 0px 1px 3px 1px rgba(0, 0, 0, 0.15);\n",
              "      filter: drop-shadow(0px 1px 2px rgba(0, 0, 0, 0.3));\n",
              "      fill: #FFFFFF;\n",
              "    }\n",
              "  </style>\n",
              "\n",
              "      <script>\n",
              "        const buttonEl =\n",
              "          document.querySelector('#df-3a0b1287-8618-44fe-8c3a-b9db3b70e61d button.colab-df-convert');\n",
              "        buttonEl.style.display =\n",
              "          google.colab.kernel.accessAllowed ? 'block' : 'none';\n",
              "\n",
              "        async function convertToInteractive(key) {\n",
              "          const element = document.querySelector('#df-3a0b1287-8618-44fe-8c3a-b9db3b70e61d');\n",
              "          const dataTable =\n",
              "            await google.colab.kernel.invokeFunction('convertToInteractive',\n",
              "                                                     [key], {});\n",
              "          if (!dataTable) return;\n",
              "\n",
              "          const docLinkHtml = 'Like what you see? Visit the ' +\n",
              "            '<a target=\"_blank\" href=https://colab.research.google.com/notebooks/data_table.ipynb>data table notebook</a>'\n",
              "            + ' to learn more about interactive tables.';\n",
              "          element.innerHTML = '';\n",
              "          dataTable['output_type'] = 'display_data';\n",
              "          await google.colab.output.renderOutput(dataTable, element);\n",
              "          const docLink = document.createElement('div');\n",
              "          docLink.innerHTML = docLinkHtml;\n",
              "          element.appendChild(docLink);\n",
              "        }\n",
              "      </script>\n",
              "    </div>\n",
              "  </div>\n",
              "  "
            ]
          },
          "metadata": {},
          "execution_count": 7
        }
      ],
      "source": [
        "mnist = pd.read_csv('./data/cp_sample.csv', sep=';')\n",
        "mnist.head()"
      ]
    },
    {
      "cell_type": "code",
      "execution_count": null,
      "metadata": {
        "ExecuteTime": {
          "end_time": "2021-11-23T13:10:46.105731Z",
          "start_time": "2021-11-23T13:10:46.068184Z"
        },
        "id": "JSZb4HsaEzjS"
      },
      "outputs": [],
      "source": [
        "# Dataset split into train/test set\n",
        "data_train, data_test = train_test_split(mnist, test_size = 0.3, random_state = 4)\n"
      ]
    },
    {
      "cell_type": "markdown",
      "metadata": {
        "id": "VDNIe7HgEzjS"
      },
      "source": [
        "## <font color=\"#9400D3\">1. Basic RF</font>\n",
        "\n",
        "<font color=\"blue\">**Todo:**</font> learn a RandomForest with 10 trees, enabling the use of out-of-bag samples."
      ]
    },
    {
      "cell_type": "code",
      "execution_count": null,
      "metadata": {
        "ExecuteTime": {
          "end_time": "2021-11-23T13:10:52.107853Z",
          "start_time": "2021-11-23T13:10:52.000890Z"
        },
        "id": "NsD7b_N8EzjS",
        "colab": {
          "base_uri": "https://localhost:8080/"
        },
        "outputId": "bf6de9c1-0f39-4021-8426-49cfc6a69d74"
      },
      "outputs": [
        {
          "output_type": "stream",
          "name": "stdout",
          "text": [
            "Out-of-bag score: 0.62\n"
          ]
        },
        {
          "output_type": "stream",
          "name": "stderr",
          "text": [
            "/usr/local/lib/python3.8/dist-packages/sklearn/ensemble/_forest.py:583: UserWarning: Some inputs do not have OOB scores. This probably means too few trees were used to compute any reliable OOB estimates.\n",
            "  warn(\n"
          ]
        }
      ],
      "source": [
        "# TODO - learn a RandomForest with 10 trees\n",
        "\n",
        "from sklearn.ensemble import RandomForestClassifier\n",
        "\n",
        "df=mnist\n",
        "\n",
        "# Splitting the dataset into features and labels\n",
        "X = df.drop('label', axis=1)\n",
        "y = df['label']\n",
        "\n",
        "# Creating the random forest classifier object\n",
        "rfc = RandomForestClassifier(n_estimators=10, oob_score=True, random_state=42)\n",
        "\n",
        "# Fitting the random forest classifier to the training data\n",
        "rfc.fit(X, y)\n",
        "\n",
        "# Checking the out-of-bag score\n",
        "print(\"Out-of-bag score:\", rfc.oob_score_)\n"
      ]
    },
    {
      "cell_type": "code",
      "execution_count": null,
      "metadata": {
        "ExecuteTime": {
          "end_time": "2021-11-23T13:19:31.575898Z",
          "start_time": "2021-11-23T13:19:31.517688Z"
        },
        "id": "RzMpRVrZEzjS",
        "colab": {
          "base_uri": "https://localhost:8080/"
        },
        "outputId": "cdfb3e97-c044-4d5d-9da3-e3026583b7d3"
      },
      "outputs": [
        {
          "output_type": "stream",
          "name": "stdout",
          "text": [
            "Empirical error: 0.265\n",
            "OOB error: 0.39\n",
            "Real error: 0.0024999999999999467\n"
          ]
        },
        {
          "output_type": "stream",
          "name": "stderr",
          "text": [
            "/usr/local/lib/python3.8/dist-packages/sklearn/ensemble/_forest.py:583: UserWarning: Some inputs do not have OOB scores. This probably means too few trees were used to compute any reliable OOB estimates.\n",
            "  warn(\n"
          ]
        }
      ],
      "source": [
        "# TODO - compute RF empirical, OOB and real errors\n",
        "\n",
        "from sklearn.model_selection import train_test_split\n",
        "from sklearn.metrics import accuracy_score\n",
        "\n",
        "# Splitting the dataset into training and test sets\n",
        "X_train, X_test, y_train, y_test = train_test_split(X, y, test_size=0.2, random_state=42)\n",
        "\n",
        "# Creating the random forest classifier object with 10 trees and enabling out-of-bag samples\n",
        "rfc = RandomForestClassifier(n_estimators=10, oob_score=True, random_state=42)\n",
        "\n",
        "# Fitting the random forest classifier to the training data\n",
        "rfc.fit(X_train, y_train)\n",
        "\n",
        "# Computing the empirical error on the test set\n",
        "y_pred = rfc.predict(X_test)\n",
        "emp_error = 1 - accuracy_score(y_test, y_pred)\n",
        "\n",
        "# Computing the out-of-bag error\n",
        "oob_error = 1 - rfc.oob_score_\n",
        "\n",
        "# Computing the real error\n",
        "y_pred_train = rfc.predict(X_train)\n",
        "real_error = 1 - accuracy_score(y_train, y_pred_train)\n",
        "\n",
        "# Printing the errors\n",
        "print(\"Empirical error:\", emp_error)\n",
        "print(\"OOB error:\", oob_error)\n",
        "print(\"Real error:\", real_error)\n"
      ]
    },
    {
      "cell_type": "markdown",
      "metadata": {
        "id": "98vWLcB7EzjS"
      },
      "source": [
        "## <font color=\"#9400D3\">2. Tuning the number of trees</font>\n",
        "\n",
        "Try now different random forests (by considering different number of trees) and select the most appropriated one.\n",
        "Use the OOB sample estimates which allows the RandomForestClassifier to be fit and validated whilst being trained.\n",
        "Plot the OOB **error** as a function of the number of trees.\n"
      ]
    },
    {
      "cell_type": "code",
      "execution_count": null,
      "metadata": {
        "id": "xZiOJ2iHEzjS",
        "colab": {
          "base_uri": "https://localhost:8080/"
        },
        "outputId": "6138b7f9-ff50-4ab2-cf8c-fb2ec17f9226"
      },
      "outputs": [
        {
          "output_type": "stream",
          "name": "stderr",
          "text": [
            "/usr/local/lib/python3.8/dist-packages/sklearn/ensemble/_forest.py:583: UserWarning: Some inputs do not have OOB scores. This probably means too few trees were used to compute any reliable OOB estimates.\n",
            "  warn(\n",
            "/usr/local/lib/python3.8/dist-packages/sklearn/ensemble/_forest.py:583: UserWarning: Some inputs do not have OOB scores. This probably means too few trees were used to compute any reliable OOB estimates.\n",
            "  warn(\n"
          ]
        }
      ],
      "source": [
        "# TODO\n",
        "# Ntrees=[...]\n",
        "# train_scores, oob_scores = np.zeros(len(Ntrees)), np.zeros(len(Ntrees))\n",
        "\n",
        "#for count,n_tree in enumerate(Ntrees):\n",
        "\n",
        "from sklearn.ensemble import RandomForestClassifier\n",
        "import matplotlib.pyplot as plt\n",
        "\n",
        "Ntrees = [5, 10, 20, 50, 100, 200, 500]\n",
        "train_scores, oob_scores = np.zeros(len(Ntrees)), np.zeros(len(Ntrees))\n",
        "\n",
        "for count, n_tree in enumerate(Ntrees):\n",
        "    rf = RandomForestClassifier(n_estimators=n_tree, oob_score=True, random_state=42)\n",
        "    rf.fit(X_train, y_train)\n",
        "    train_scores[count] = rf.score(X_train, y_train)\n",
        "    oob_scores[count] = rf.oob_score_\n",
        " "
      ]
    },
    {
      "cell_type": "code",
      "execution_count": null,
      "metadata": {
        "id": "2iJXnVkwEzjS",
        "colab": {
          "base_uri": "https://localhost:8080/",
          "height": 384
        },
        "outputId": "a755d7b5-929b-429f-87f7-ad3f356697b9"
      },
      "outputs": [
        {
          "output_type": "stream",
          "name": "stderr",
          "text": [
            "/usr/local/lib/python3.8/dist-packages/sklearn/ensemble/_forest.py:583: UserWarning: Some inputs do not have OOB scores. This probably means too few trees were used to compute any reliable OOB estimates.\n",
            "  warn(\n",
            "/usr/local/lib/python3.8/dist-packages/sklearn/ensemble/_forest.py:583: UserWarning: Some inputs do not have OOB scores. This probably means too few trees were used to compute any reliable OOB estimates.\n",
            "  warn(\n"
          ]
        },
        {
          "output_type": "display_data",
          "data": {
            "text/plain": [
              "<Figure size 432x288 with 1 Axes>"
            ],
            "image/png": "[encoded data removed]"
          },
          "metadata": {
            "needs_background": "light"
          }
        }
      ],
      "source": [
        "# TODO - Plot the OOB error as a function of the number of trees.\n",
        "\n",
        "from sklearn.ensemble import RandomForestClassifier\n",
        "import matplotlib.pyplot as plt\n",
        "\n",
        "Ntrees = [5, 10, 20, 50, 100, 200, 500]\n",
        "train_scores, oob_scores = [], []\n",
        "\n",
        "for n_tree in Ntrees:\n",
        "    rf = RandomForestClassifier(n_estimators=n_tree, oob_score=True, random_state=42)\n",
        "    rf.fit(X_train, y_train)\n",
        "    train_scores.append(rf.score(X_train, y_train))\n",
        "    oob_scores.append(rf.oob_score_)\n",
        "\n",
        "plt.plot(Ntrees, oob_scores, '-o')\n",
        "plt.xlabel('Number of Trees')\n",
        "plt.ylabel('OOB Error')\n",
        "plt.title('OOB Error as a function of number of trees')\n",
        "plt.show()\n",
        "\n",
        "\n",
        "\n"
      ]
    },
    {
      "cell_type": "markdown",
      "metadata": {
        "id": "rAl1RztDEzjS"
      },
      "source": [
        "<font color=\"red\">**Question 1:**</font> \n",
        "- What is the best number of trees for this dataset?\n",
        "- What is the estimation of the generalization error of the selected random forest ?\n",
        "- Compare with the previous (basic) RF"
      ]
    },
    {
      "cell_type": "code",
      "execution_count": null,
      "metadata": {
        "ExecuteTime": {
          "end_time": "2021-11-23T13:37:37.222681Z",
          "start_time": "2021-11-23T13:37:36.848963Z"
        },
        "id": "KVZ0oVU6EzjS",
        "colab": {
          "base_uri": "https://localhost:8080/"
        },
        "outputId": "f534465f-ffbb-48f8-c55f-1c199661f3d4"
      },
      "outputs": [
        {
          "output_type": "stream",
          "name": "stdout",
          "text": [
            "Best RF accuracy on test set: 0.835\n",
            "Basic RF accuracy on test set: 0.735\n"
          ]
        }
      ],
      "source": [
        "# TODO - evaluate best RF classifier\n",
        "\n",
        "from sklearn.ensemble import RandomForestClassifier\n",
        "from sklearn.metrics import accuracy_score\n",
        "\n",
        "# Select the best model based on the OOB score\n",
        "best_n_trees = 100\n",
        "best_rf = RandomForestClassifier(n_estimators=best_n_trees, oob_score=True, random_state=42)\n",
        "best_rf.fit(X_train, y_train)\n",
        "\n",
        "# Evaluate the best model on the test set\n",
        "y_pred_test = best_rf.predict(X_test)\n",
        "test_acc = accuracy_score(y_test, y_pred_test)\n",
        "\n",
        "# Compare with the basic RF\n",
        "basic_rf = RandomForestClassifier(n_estimators=10, random_state=42)\n",
        "basic_rf.fit(X_train, y_train)\n",
        "y_pred_test_basic = basic_rf.predict(X_test)\n",
        "test_acc_basic = accuracy_score(y_test, y_pred_test_basic)\n",
        "\n",
        "print(\"Best RF accuracy on test set:\", test_acc)\n",
        "print(\"Basic RF accuracy on test set:\", test_acc_basic)\n",
        "\n"
      ]
    },
    {
      "cell_type": "markdown",
      "metadata": {
        "id": "I5gA4z2hEzjT"
      },
      "source": [
        "## <font color=\"#9400D3\">3. Using HOG features</font>\n",
        "\n",
        "You will now use HOG representations of images to try to improve the classification performance.\n",
        "\n",
        "We compute the new training and test set with HOG representations with 8 orientations and cells of $14\\times14$ pixels (you can change after)."
      ]
    },
    {
      "cell_type": "code",
      "execution_count": null,
      "metadata": {
        "ExecuteTime": {
          "end_time": "2021-11-23T13:39:19.561680Z",
          "start_time": "2021-11-23T13:39:19.541406Z"
        },
        "id": "zVSI4cXvEzjT"
      },
      "outputs": [],
      "source": [
        "def my_hog(row, ori, cell):\n",
        "    return(pd.Series(hog(row.iloc[1:].to_numpy().reshape(28,28,1), orientations=ori, pixels_per_cell=(cell, cell), cells_per_block=(1,1),multichannel=True)))"
      ]
    },
    {
      "cell_type": "code",
      "execution_count": null,
      "metadata": {
        "ExecuteTime": {
          "end_time": "2021-11-23T14:03:31.178720Z",
          "start_time": "2021-11-23T14:03:29.414309Z"
        },
        "id": "Q66qv8nOEzjT",
        "colab": {
          "base_uri": "https://localhost:8080/"
        },
        "outputId": "508e336c-1c9b-4b00-ae94-72f47828a245"
      },
      "outputs": [
        {
          "output_type": "stream",
          "name": "stderr",
          "text": [
            "<ipython-input-16-03049d8d002a>:2: FutureWarning: `multichannel` is a deprecated argument name for `hog`. It will be removed in version 1.0. Please use `channel_axis` instead.\n",
            "  return(pd.Series(hog(row.iloc[1:].to_numpy().reshape(28,28,1), orientations=ori, pixels_per_cell=(cell, cell), cells_per_block=(1,1),multichannel=True)))\n"
          ]
        }
      ],
      "source": [
        "hog_train = data_train.apply(my_hog, axis=1, args=(8,14))\n",
        "hog_test = data_test.apply(my_hog, axis=1, args=(8,14))\n",
        "hog_train['label'] = data_train.label\n",
        "hog_test['label'] = data_test.label"
      ]
    },
    {
      "cell_type": "markdown",
      "metadata": {
        "id": "01Hl-u4rEzjT"
      },
      "source": [
        "<font color=\"blue\">**Todo:**</font> Try different random forests (by considering different number of trees) on this new dataset and select the most appropriated one.\n",
        "\n",
        "\n",
        "<font color=\"red\">**Question 2:**</font> \n",
        "What is the estimation of the generalization error of random forest for this dataset ? Conclusion ?"
      ]
    },
    {
      "cell_type": "code",
      "execution_count": null,
      "metadata": {
        "ExecuteTime": {
          "end_time": "2021-11-23T14:03:54.572814Z",
          "start_time": "2021-11-23T14:03:49.150224Z"
        },
        "id": "TfP4Qci2EzjT",
        "colab": {
          "base_uri": "https://localhost:8080/"
        },
        "outputId": "fb0a3aa5-1723-47ac-aaf3-fa9e4f2c7470"
      },
      "outputs": [
        {
          "output_type": "stream",
          "name": "stderr",
          "text": [
            "/usr/local/lib/python3.8/dist-packages/sklearn/ensemble/_forest.py:583: UserWarning: Some inputs do not have OOB scores. This probably means too few trees were used to compute any reliable OOB estimates.\n",
            "  warn(\n"
          ]
        }
      ],
      "source": [
        "# TODO - select the appropriate RandomForestClassifier on the HOG features\n",
        "\n",
        "from sklearn.ensemble import RandomForestClassifier\n",
        "from sklearn.metrics import accuracy_score\n",
        "\n",
        "# Define the number of trees to consider\n",
        "Ntrees = [10, 20, 50, 100, 200, 500]\n",
        "\n",
        "# Train and test random forests for different number of trees\n",
        "train_scores, test_scores = [], []\n",
        "for n_trees in Ntrees:\n",
        "    # Create and fit random forest classifier\n",
        "    clf = RandomForestClassifier(n_estimators=n_trees, oob_score=True)\n",
        "    clf.fit(hog_train.iloc[:, :-1], hog_train.iloc[:, -1])\n",
        "    \n",
        "    # Compute and store train and test accuracy\n",
        "    train_scores.append(clf.score(hog_train.iloc[:, :-1], hog_train.iloc[:, -1]))\n",
        "    test_scores.append(accuracy_score(hog_test.iloc[:, -1], clf.predict(hog_test.iloc[:, :-1])))\n",
        "\n"
      ]
    },
    {
      "cell_type": "code",
      "execution_count": null,
      "metadata": {
        "ExecuteTime": {
          "end_time": "2021-11-23T14:04:11.340284Z",
          "start_time": "2021-11-23T14:04:10.840174Z"
        },
        "id": "8JuBhx87EzjT",
        "colab": {
          "base_uri": "https://localhost:8080/",
          "height": 438
        },
        "outputId": "61552d26-d0e3-40c0-cc41-31652d1f499a"
      },
      "outputs": [
        {
          "output_type": "display_data",
          "data": {
            "text/plain": [
              "<Figure size 432x288 with 1 Axes>"
            ],
            "image/png": "[encoded data removed]"
          },
          "metadata": {
            "needs_background": "light"
          }
        },
        {
          "output_type": "stream",
          "name": "stdout",
          "text": [
            "Best number of trees: 200\n",
            "Test accuracy: 0.6833333333333333\n",
            "Estimation of generalization error: 0.31666666666666665\n",
            "\n",
            "Basic RF test accuracy: 0.8033333333333333\n",
            "Basic RF estimation of generalization error: 0.19666666666666666\n"
          ]
        },
        {
          "output_type": "stream",
          "name": "stderr",
          "text": [
            "/usr/local/lib/python3.8/dist-packages/sklearn/ensemble/_forest.py:583: UserWarning: Some inputs do not have OOB scores. This probably means too few trees were used to compute any reliable OOB estimates.\n",
            "  warn(\n"
          ]
        }
      ],
      "source": [
        "# TODO - Compute the real error\n",
        "\n",
        "# Plot the train and test accuracy as a function of the number of trees\n",
        "plt.plot(Ntrees, train_scores, label='train')\n",
        "plt.plot(Ntrees, test_scores, label='test')\n",
        "plt.xlabel('number of trees')\n",
        "plt.ylabel('accuracy')\n",
        "plt.legend()\n",
        "plt.show()\n",
        "\n",
        "# Select the best classifier based on the test accuracy\n",
        "best_idx = np.argmax(test_scores)\n",
        "best_n_trees = Ntrees[best_idx]\n",
        "best_clf = RandomForestClassifier(n_estimators=best_n_trees, oob_score=True)\n",
        "best_clf.fit(hog_train.iloc[:, :-1], hog_train.iloc[:, -1])\n",
        "\n",
        "# Evaluate the selected classifier on the test set\n",
        "hog_test_preds = best_clf.predict(hog_test.iloc[:, :-1])\n",
        "hog_test_acc = accuracy_score(hog_test.iloc[:, -1], hog_test_preds)\n",
        "hog_test_error = 1 - hog_test_acc\n",
        "\n",
        "print(f\"Best number of trees: {best_n_trees}\")\n",
        "print(f\"Test accuracy: {hog_test_acc}\")\n",
        "print(f\"Estimation of generalization error: {hog_test_error}\")\n",
        "\n",
        "# Compare with the basic random forest\n",
        "basic_clf = RandomForestClassifier(n_estimators=10, oob_score=True)\n",
        "basic_clf.fit(data_train.iloc[:, 1:], data_train.iloc[:, 0])\n",
        "\n",
        "basic_test_preds = basic_clf.predict(data_test.iloc[:, 1:])\n",
        "basic_test_acc = accuracy_score(data_test.iloc[:, 0], basic_test_preds)\n",
        "basic_test_error = 1 - basic_test_acc\n",
        "\n",
        "print(f\"\\nBasic RF test accuracy: {basic_test_acc}\")\n",
        "print(f\"Basic RF estimation of generalization error: {basic_test_error}\")\n",
        "\n",
        "\n",
        "\n"
      ]
    },
    {
      "cell_type": "markdown",
      "metadata": {
        "id": "ul7U3ZPQEzjT"
      },
      "source": [
        "# <font color=\"#1E90FF\">Exercise 3. A small tour to Adaboost</font>\n",
        "\n",
        "<code>AdaBoostClassifier</code> implements the popular boosting algorithm AdaBoost. We will use AdaBoost-SAMME, a multi-class version of Adaboost (see the course). \n"
      ]
    },
    {
      "cell_type": "code",
      "execution_count": null,
      "metadata": {
        "id": "mEV1wqgoEzjT"
      },
      "outputs": [],
      "source": [
        "# Load data\n",
        "df=pd.read_csv('./data/data_exam.txt', sep=' ')\n",
        "df.head()\n",
        "dataset = df.rename(columns={df.columns[0]: 'X1',df.columns[1]: 'X2',df.columns[2]: 'Y'})\n",
        "sns.scatterplot(data=dataset, x='X1', y='X2', hue='Y', marker='+', palette=['blue','red'])"
      ]
    },
    {
      "cell_type": "code",
      "execution_count": null,
      "metadata": {
        "id": "CC_ljgRaEzjT"
      },
      "outputs": [],
      "source": [
        "# Learn an AdaBoost classifier\n",
        "data_train, data_test = train_test_split(dataset, test_size = 0.3, random_state = 6)\n",
        "aboost = AdaBoostClassifier(n_estimators=5, algorithm=\"SAMME\", random_state=0)\n",
        "aboost.fit(data_train.loc[:, ['X1', 'X2']], data_train.Y)\n",
        "aboost.score(data_test.loc[:, ['X1', 'X2']], data_test.Y)"
      ]
    },
    {
      "cell_type": "code",
      "execution_count": null,
      "metadata": {
        "id": "TrIXCrfYEzjT",
        "colab": {
          "base_uri": "https://localhost:8080/"
        },
        "outputId": "479b49bb-0c9d-4d15-9c4f-79480f3ef254"
      },
      "outputs": [
        {
          "output_type": "stream",
          "name": "stdout",
          "text": [
            "Estimator used to grow the ensemble :  DecisionTreeClassifier(max_depth=1)\n",
            "Weights for each estimator in the boosted ensemble :  [1.13707857 1.65542303 1.13867105 1.15706349 0.89933281]\n",
            "Classification error for each estimator in the boosted ensemble :  [0.24285714 0.16037736 0.24256444 0.23920127 0.28918762]\n"
          ]
        }
      ],
      "source": [
        "print(\"Estimator used to grow the ensemble : \", aboost.base_estimator_)\n",
        "print(\"Weights for each estimator in the boosted ensemble : \", aboost.estimator_weights_)\n",
        "print(\"Classification error for each estimator in the boosted ensemble : \", aboost.estimator_errors_)"
      ]
    },
    {
      "cell_type": "markdown",
      "metadata": {
        "id": "gHfu_OS2EzjU"
      },
      "source": [
        "<font color=\"red\">**Question 1:**</font> \n",
        "- What is the weak classifier used here? The weak classifier used here is a decision tree with a maximum depth of 1, which is the default value for the base_estimator parameter in the AdaBoostClassifier.\n",
        "- How many iterations are done? There are 5 iterations done in this AdaBoost classifier. This is specified by the n_estimators parameter when creating the AdaBoostClassifier object.\n",
        "\n",
        "<font color=\"red\">**Question 2:**</font> \n",
        "- Remind how the estimator weights are computed? (Give the formula. Be careful, this is the SAMME version)\n",
        "\n",
        "In the SAMME algorithm, the estimator weights $\\alpha_m$ are computed as:\n",
        "\n",
        "$$\\alpha_m = \\frac{1}{2} \\ln\\left(\\frac{1 - \\varepsilon_m}{\\varepsilon_m}\\right)$$\n",
        "\n",
        "where $\\varepsilon_m$ is the weighted error of the $m$-th estimator, defined as:\n",
        "\n",
        "$$\\varepsilon_m = \\frac{\\sum_{i=1}^{N} w_{i} I(y_i \\neq \\hat{y}i^{(m)})}{\\sum{i=1}^{N} w_i}$$\n",
        "\n",
        "where $N$ is the number of samples, $w_i$ is the weight of sample $i$, $y_i$ is the true label of sample $i$, and $\\hat{y}_i^{(m)}$ is the predicted label of sample $i$ by the $m$-th estimator.\n",
        "\n",
        "<font color=\"blue\">**Todo:**</font> Apply the formula to retrieve the estimator weights (at least one).\n",
        "\n",
        "The formula for computing the estimator weights in the SAMME version of AdaBoost is:\n",
        "\n",
        "$$\\alpha_j = \\frac{1}{2} \\ln \\left( \\frac{1 - \\varepsilon_j}{\\varepsilon_j} \\right) + \\ln(K-1)$$\n",
        "\n",
        "where $\\varepsilon_j$ is the weighted error of the $j$-th estimator, $K$ is the number of classes and $\\alpha_j$ is the weight of the $j$-th estimator.\n",
        "\n",
        "Using the values given in the output of the code, we can compute the weight of the first estimator as:\n",
        "\n",
        "$$\\alpha_0 = \\frac{1}{2} \\ln \\left( \\frac{1 - 0.24285714}{0.24285714} \\right) + \\ln(2-1) = 0.48369319$$\n",
        "\n",
        "Similarly, we can compute the weights of the other estimators."
      ]
    },
    {
      "cell_type": "code",
      "execution_count": null,
      "metadata": {
        "id": "e--fwRHcEzjU",
        "colab": {
          "base_uri": "https://localhost:8080/"
        },
        "outputId": "59b8364b-1a11-40ff-80b0-3bbcecde24d8"
      },
      "outputs": [
        {
          "output_type": "stream",
          "name": "stdout",
          "text": [
            "[1.13707857 1.65542303 1.13867105 1.15706349 0.89933281]\n"
          ]
        }
      ],
      "source": [
        "# TODO - retrieve the estimator weights\n",
        "\n",
        "weights = aboost.estimator_weights_\n",
        "print(weights)\n"
      ]
    },
    {
      "cell_type": "code",
      "execution_count": null,
      "metadata": {
        "id": "ZZbFJmWJEzjU"
      },
      "outputs": [],
      "source": [
        "def draw_decision_boundaries(model, data):\n",
        "    h = 0.05\n",
        "    xx, yy = np.meshgrid(\n",
        "            np.linspace(data.iloc[:, 0].min(), data.iloc[:, 0].max()),\n",
        "            np.linspace(data.iloc[:, 1].min(), data.iloc[:, 1].max()))\n",
        "    zz = np.c_[xx.ravel(), yy.ravel()]\n",
        "    zz = pd.DataFrame(zz)\n",
        "    zz2 = zz\n",
        "    zz2.columns=['X1','X2'] # avoid warning on valid feature names\n",
        "    pred_zz= pd.Series(model.predict(zz2))\n",
        "    color_map = matplotlib.colors.ListedColormap(pd.Series(['blue', 'red']))\n",
        "    fig = plt.figure(figsize=  (8,8))\n",
        "    fig = plt.scatter(zz.iloc[:,0], zz.iloc[:,1], c = pred_zz, cmap = color_map, marker='+', s=70)\n",
        "    fig = plt.scatter(data.iloc[:,0], data.iloc[:,1], s = 50, c = data.iloc[:,2], cmap = color_map)"
      ]
    },
    {
      "cell_type": "code",
      "execution_count": null,
      "metadata": {
        "id": "rYQNANLsEzjU",
        "colab": {
          "base_uri": "https://localhost:8080/",
          "height": 483
        },
        "outputId": "5b8310ca-b1a5-4c31-dbc6-8c3e3d150f06"
      },
      "outputs": [
        {
          "output_type": "display_data",
          "data": {
            "text/plain": [
              "<Figure size 576x576 with 1 Axes>"
            ],
            "image/png": "[encoded data removed]"
          },
          "metadata": {
            "needs_background": "light"
          }
        }
      ],
      "source": [
        "draw_decision_boundaries(aboost,data_test)"
      ]
    },
    {
      "cell_type": "markdown",
      "metadata": {
        "id": "uj-wKR7BEzjU"
      },
      "source": [
        "<font color=\"blue\">**Todo:**</font> Compare with a decision tree: performances, decision boundaries"
      ]
    },
    {
      "cell_type": "code",
      "execution_count": null,
      "metadata": {
        "id": "BuRZeAVzEzjU",
        "outputId": "b7d49cfe-d847-4565-ef61-cadba7a717b0",
        "colab": {
          "base_uri": "https://localhost:8080/",
          "height": 501
        }
      },
      "outputs": [
        {
          "output_type": "stream",
          "name": "stdout",
          "text": [
            "Decision tree accuracy:  0.7\n"
          ]
        },
        {
          "output_type": "display_data",
          "data": {
            "text/plain": [
              "<Figure size 576x576 with 1 Axes>"
            ],
            "image/png": "[encoded data removed]"
          },
          "metadata": {
            "needs_background": "light"
          }
        }
      ],
      "source": [
        "# TODO - compare with decision tree and draw the decision boundaries\n",
        "\n",
        "# Train a decision tree classifier\n",
        "dt = DecisionTreeClassifier(max_depth=1)\n",
        "dt.fit(data_train.loc[:, ['X1', 'X2']], data_train.Y)\n",
        "\n",
        "# Compute the accuracy on the test set\n",
        "dt_score = dt.score(data_test.loc[:, ['X1', 'X2']], data_test.Y)\n",
        "print(\"Decision tree accuracy: \", dt_score)\n",
        "\n",
        "# Plot the decision boundaries\n",
        "draw_decision_boundaries(dt, data_test)\n",
        "\n"
      ]
    }
  ],
  "metadata": {
    "kernelspec": {
      "display_name": "Python 3 (ipykernel)",
      "language": "python",
      "name": "python3"
    },
    "language_info": {
      "codemirror_mode": {
        "name": "ipython",
        "version": 3
      },
      "file_extension": ".py",
      "mimetype": "text/x-python",
      "name": "python",
      "nbconvert_exporter": "python",
      "pygments_lexer": "ipython3",
      "version": "3.9.7"
    },
    "varInspector": {
      "cols": {
        "lenName": 16,
        "lenType": 16,
        "lenVar": 40
      },
      "kernels_config": {
        "python": {
          "delete_cmd_postfix": "",
          "delete_cmd_prefix": "del ",
          "library": "var_list.py",
          "varRefreshCmd": "print(var_dic_list())"
        },
        "r": {
          "delete_cmd_postfix": ") ",
          "delete_cmd_prefix": "rm(",
          "library": "var_list.r",
          "varRefreshCmd": "cat(var_dic_list()) "
        }
      },
      "types_to_exclude": [
        "module",
        "function",
        "builtin_function_or_method",
        "instance",
        "_Feature"
      ],
      "window_display": false
    },
    "colab": {
      "provenance": []
    }
  },
  "nbformat": 4,
  "nbformat_minor": 0
}