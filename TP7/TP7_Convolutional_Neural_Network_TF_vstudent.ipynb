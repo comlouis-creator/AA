{
  "cells": [
    {
      "cell_type": "markdown",
      "id": "110b3ea8",
      "metadata": {
        "id": "110b3ea8"
      },
      "source": [
        "<font  style=\"font-size: 4rem; color: darkviolet\"> Convolutional Neural Networks in TensorFlow </font>\n",
        "\n",
        "AA - 2022/23 - TP7\n",
        "\n",
        "*This assignement is inspired by the Deep Learning course on Coursera by Andrew Ng, Stanford University, for which we are thankful.*\n",
        "\n",
        "In this assignment, you will learn how to build and train Convolutional Neural Networks (ConvNets) using TensorFlow Keras API. You will be working on two different tasks. First, you will build a binary classifier using the Sequential API to classify the mood of a given person as either positive or negative. Next, you will build a multiclass classifier using the Functional API to identify sign language digits.\n",
        "\n",
        "Before starting this assignment, you should have a basic understanding of TensorFlow.\n",
        "\n",
        "You're encouraged to read the official documentation. You can find the docs for the Sequential and Functional APIs here:\n",
        "\n",
        "https://www.tensorflow.org/guide/keras/sequential_model\n",
        "\n",
        "https://www.tensorflow.org/guide/keras/functional\n",
        "\n",
        "\n",
        "## Table of Contents\n",
        "- [1 - The Sequential API](#1)\n",
        "    - [1.1 - The Happy House Dataset](#1.1)\n",
        "    - [1.2 - Create the Sequential Model](#1.2)\n",
        "        - [Exercise 1.2.1 - happyModel](#ex-1.2.1)\n",
        "    - [1.3 - Train and Evaluate the Model](#1.3)\n",
        "- [2 - The Functional API](#2)\n",
        "    - [2.1 - The SIGNS Dataset](#2.1)\n",
        "    - [2.2 - Forward Propagation](#2.2)\n",
        "        - [Exercise 2.2.1 - convolutional_model](#ex-2.2.1)\n",
        "    - [2.3 - Train the Model](#2.3)\n",
        "    - [2.4 - History](#2.4)\n",
        "- [3 - Exercise - output volume](#ex-3) "
      ]
    },
    {
      "cell_type": "code",
      "execution_count": null,
      "id": "7de70dde",
      "metadata": {
        "id": "7de70dde"
      },
      "outputs": [],
      "source": [
        "import math\n",
        "import numpy as np\n",
        "import h5py\n",
        "import matplotlib.pyplot as plt\n",
        "from matplotlib.pyplot import imread\n",
        "import scipy\n",
        "from PIL import Image\n",
        "import pandas as pd\n",
        "import tensorflow as tf\n",
        "import tensorflow.keras.layers as tfl\n",
        "from tensorflow.python.framework import ops\n",
        "from data.cnn_utils import *\n",
        "from data.test_utils import summary, comparator\n",
        "\n",
        "%matplotlib inline\n",
        "np.random.seed(1)"
      ]
    },
    {
      "cell_type": "markdown",
      "id": "e51916b6",
      "metadata": {
        "id": "e51916b6"
      },
      "source": [
        "# <a name='1'></a>\n",
        "# <font color='darkviolet'> 1 - The Sequential API\n",
        "\n",
        "When it comes to practical applications of deep learning, programming frameworks are essential tools that offer a wide range of built-in functions to help you create and train models with ease. One such framework is Keras, which is a high-level abstraction built on top of TensorFlow that provides even more simplified and optimized model building and training.\n",
        "\n",
        "You'll be using Keras' Sequential API to create a deep learning model. This API allows you to build models layer by layer, and is particularly well-suited for simple tasks where each layer has exactly one input tensor and one output tensor. Using the Sequential API is straightforward and easy to understand, making it a great choice for beginners."
      ]
    },
    {
      "cell_type": "markdown",
      "id": "9cc9235a",
      "metadata": {
        "id": "9cc9235a"
      },
      "source": [
        "<a name='1.1'></a>\n",
        "## <font color='darkviolet'> 1.1 - The Happy House dataset\n",
        "\n",
        "The Happy House dataset comprises images of individuals' faces, and your objective will be to create a ConvNet that can accurately identify whether these individuals are smiling or not. This is an important task because only those who are smiling will be granted entry into the Happy House."
      ]
    },
    {
      "cell_type": "code",
      "execution_count": null,
      "id": "bd1efa59",
      "metadata": {
        "id": "bd1efa59"
      },
      "outputs": [],
      "source": [
        "def load_happy_dataset():\n",
        "    # Load the training dataset\n",
        "    train_dataset = h5py.File('data/train_happy.h5', \"r\")\n",
        "    \n",
        "    # Extract the features and labels for the training set\n",
        "    train_set_x_orig = np.array(train_dataset[\"train_set_x\"][:]) # features\n",
        "    train_set_y_orig = np.array(train_dataset[\"train_set_y\"][:]) # labels\n",
        "\n",
        "    # Load the test dataset\n",
        "    test_dataset = h5py.File('data/test_happy.h5', \"r\")\n",
        "    \n",
        "    # Extract the features and labels for the test set\n",
        "    test_set_x_orig = np.array(test_dataset[\"test_set_x\"][:]) # features\n",
        "    test_set_y_orig = np.array(test_dataset[\"test_set_y\"][:]) # labels\n",
        "\n",
        "    # Extract the list of classes\n",
        "    classes = np.array(test_dataset[\"list_classes\"][:]) \n",
        "    \n",
        "    # Reshape the labels to match the expected shape\n",
        "    train_set_y_orig = train_set_y_orig.reshape((1, train_set_y_orig.shape[0]))\n",
        "    test_set_y_orig = test_set_y_orig.reshape((1, test_set_y_orig.shape[0]))\n",
        "    \n",
        "    # Return the dataset as a tuple\n",
        "    return train_set_x_orig, train_set_y_orig, test_set_x_orig, test_set_y_orig, classes"
      ]
    },
    {
      "cell_type": "code",
      "execution_count": null,
      "id": "5a7242c5",
      "metadata": {
        "id": "5a7242c5"
      },
      "outputs": [],
      "source": [
        "# Load the Happy House dataset\n",
        "X_train_orig, Y_train_orig, X_test_orig, Y_test_orig, classes = load_happy_dataset()\n",
        "\n",
        "# Normalize the image vectors by dividing by 255\n",
        "X_train = X_train_orig / 255.\n",
        "X_test = X_test_orig / 255.\n",
        "\n",
        "# Reshape the labels to match the expected shape (m, 1), where m is the number of examples\n",
        "Y_train = Y_train_orig.T\n",
        "Y_test = Y_test_orig.T"
      ]
    },
    {
      "cell_type": "code",
      "execution_count": null,
      "id": "faa87ccb",
      "metadata": {
        "id": "faa87ccb",
        "outputId": "aa9fe23c-67f9-4ba6-8787-c627289a1e68",
        "colab": {
          "base_uri": "https://localhost:8080/"
        }
      },
      "outputs": [
        {
          "output_type": "stream",
          "name": "stdout",
          "text": [
            "Number of training examples = 600\n",
            "Number of test examples = 150\n",
            "X_train shape: (600, 64, 64, 3)\n",
            "Y_train shape: (600, 1)\n",
            "X_test shape: (150, 64, 64, 3)\n",
            "Y_test shape: (150, 1)\n"
          ]
        }
      ],
      "source": [
        "# Print the shapes of the datasets and labels\n",
        "print(\"Number of training examples = \" + str(X_train.shape[0]))\n",
        "print(\"Number of test examples = \" + str(X_test.shape[0]))\n",
        "print(\"X_train shape: \" + str(X_train.shape))\n",
        "print(\"Y_train shape: \" + str(Y_train.shape))\n",
        "print(\"X_test shape: \" + str(X_test.shape))\n",
        "print(\"Y_test shape: \" + str(Y_test.shape))"
      ]
    },
    {
      "cell_type": "markdown",
      "id": "9ebf54c8",
      "metadata": {
        "id": "9ebf54c8"
      },
      "source": [
        "#### <font color='blue'> Q1.1 Describe your dataset.\n",
        "\n",
        "The Happy House dataset is a dataset of images of individuals' faces. It is used for binary classification, where the objective is to determine whether the individuals in the images are smiling or not. The dataset is divided into a training set and a test set.\n",
        "\n",
        "The training set consists of 600 examples, with images of size 64x64 and 3 color channels (RGB). The features (image vectors) are normalized by dividing by 255 to scale them between 0 and 1. The labels (whether the individuals are smiling or not) are reshaped to have a shape of (600, 1).\n",
        "\n",
        "The test set consists of 150 examples, with images of the same size and color channels as the training set. The features are also normalized, and the labels are reshaped to have a shape of (150, 1).\n",
        "\n",
        "The dataset also includes a list of classes, which in this case is binary: \"smiling\" or \"not smiling\"."
      ]
    },
    {
      "cell_type": "markdown",
      "id": "6e46a985",
      "metadata": {
        "id": "6e46a985"
      },
      "source": [
        "<a name='1.2'></a>\n",
        "## <font color='darkviolet'> 1.2 - Create the Sequential Model \n",
        "    \n",
        "The **TensorFlow Keras Sequential** API is useful for building simple models where layers are arranged in a sequential order. You can add and remove layers using the `.add()` and `.pop()` methods, respectively. A Sequential model can be thought of as a list of layers, where the order in which they are specified matters. \n",
        "\n",
        "In Keras, you must specify the input shape in advance for any layer construction, since the shape of the weights is based on the shape of the inputs. To create a Sequential model, pass a list of layers to the Sequential constructor."
      ]
    },
    {
      "cell_type": "markdown",
      "id": "f8837b35",
      "metadata": {
        "id": "f8837b35"
      },
      "source": [
        "<a name='ex-1.2.1'></a>\n",
        "### <font color='blue'> Exercise 1.2.1 - happyModel\n",
        "\n",
        "Implement the `happyModel` function below to build the following model: `ZEROPAD2D -> CONV2D -> BATCHNORM -> RELU -> MAXPOOL -> FLATTEN -> DENSE`. \n",
        "    \n",
        "Take help from [tf.keras.layers](https://www.tensorflow.org/api_docs/python/tf/keras/layers).\n",
        "\n",
        "Plug in the following parameters for all the steps:\n",
        "\n",
        " - [ZeroPadding2D](https://www.tensorflow.org/api_docs/python/tf/keras/layers/ZeroPadding2D): padding 3, input shape 64 x 64 x 3\n",
        " - [Conv2D](https://www.tensorflow.org/api_docs/python/tf/keras/layers/Conv2D): Use 32 7x7 filters, stride 1\n",
        " - [BatchNormalization](https://www.tensorflow.org/api_docs/python/tf/keras/layers/BatchNormalization): for axis 3\n",
        " - [ReLU](https://www.tensorflow.org/api_docs/python/tf/keras/layers/ReLU)\n",
        " - [MaxPool2D](https://www.tensorflow.org/api_docs/python/tf/keras/layers/MaxPool2D): Using default parameters\n",
        " - [Flatten](https://www.tensorflow.org/api_docs/python/tf/keras/layers/Flatten) the previous output.\n",
        " - Fully-connected ([Dense](https://www.tensorflow.org/api_docs/python/tf/keras/layers/Dense)) layer: Apply a fully connected layer with 1 neuron and a sigmoid activation. \n",
        " "
      ]
    },
    {
      "cell_type": "code",
      "execution_count": null,
      "id": "d548a6ae",
      "metadata": {
        "id": "d548a6ae"
      },
      "outputs": [],
      "source": [
        "def happyModel():\n",
        "    \"\"\"\n",
        "    Implements the forward propagation for the binary classification model:\n",
        "    ZEROPAD2D -> CONV2D -> BATCHNORM -> RELU -> MAXPOOL -> FLATTEN -> DENSE\n",
        "    \n",
        "    Arguments:\n",
        "    None\n",
        "\n",
        "    Returns:\n",
        "    model -- TF Keras model (object containing the information for the entire training process) \n",
        "    \"\"\"\n",
        "\n",
        "    # Define the layers of the model using the Sequential API\n",
        "    model = tf.keras.Sequential([\n",
        "        \n",
        "        # ZeroPadding2D with padding 3, input shape of 64 x 64 x 3\n",
        "        #TODO\n",
        "        tf.keras.layers.ZeroPadding2D(padding=(3, 3), input_shape=(64, 64, 3)),\n",
        "        \n",
        "        # Conv2D with 32 7x7 filters and stride of 1\n",
        "        #TODO\n",
        "        tf.keras.layers.Conv2D(32, (7, 7), strides=(1, 1)),\n",
        "\n",
        "        \n",
        "        # BatchNormalization for axis 3\n",
        "        #TODO\n",
        "        tf.keras.layers.BatchNormalization(axis=3),\n",
        "\n",
        "        \n",
        "        # ReLU\n",
        "        #TODO\n",
        "        tf.keras.layers.ReLU(),\n",
        "\n",
        "        \n",
        "        # Max Pooling 2D with default parameters\n",
        "        #TODO\n",
        "        tf.keras.layers.MaxPooling2D(),\n",
        "\n",
        "        \n",
        "        # Flatten layer\n",
        "        #TODO\n",
        "        tf.keras.layers.Flatten(),\n",
        "\n",
        "        \n",
        "        # Dense layer with 1 unit & 'sigmoid' activation\n",
        "        #TODO\n",
        "        tf.keras.layers.Dense(1, activation='sigmoid')\n",
        "\n",
        "    ])\n",
        "    \n",
        "    # Return the model\n",
        "    return model\n"
      ]
    },
    {
      "cell_type": "code",
      "execution_count": null,
      "id": "8eaaadbe",
      "metadata": {
        "id": "8eaaadbe",
        "outputId": "a4f4d671-fd77-454a-9d34-2371c7e66af3",
        "colab": {
          "base_uri": "https://localhost:8080/"
        }
      },
      "outputs": [
        {
          "output_type": "stream",
          "name": "stdout",
          "text": [
            "['ZeroPadding2D', (None, 70, 70, 3), 0, ((3, 3), (3, 3))]\n",
            "['Conv2D', (None, 64, 64, 32), 4736, 'valid', 'linear', 'GlorotUniform']\n",
            "['BatchNormalization', (None, 64, 64, 32), 128]\n",
            "['ReLU', (None, 64, 64, 32), 0]\n",
            "['MaxPooling2D', (None, 32, 32, 32), 0, (2, 2), (2, 2), 'valid']\n",
            "['Flatten', (None, 32768), 0]\n",
            "['Dense', (None, 1), 32769, 'sigmoid']\n",
            "All tests passed!\n"
          ]
        }
      ],
      "source": [
        "happy_model = happyModel()\n",
        "# Print a summary for each layer\n",
        "for layer in summary(happy_model):\n",
        "    print(layer)\n",
        "    \n",
        "output = [['ZeroPadding2D', (None, 70, 70, 3), 0, ((3, 3), (3, 3))],\n",
        "            ['Conv2D', (None, 64, 64, 32), 4736, 'valid', 'linear', 'GlorotUniform'],\n",
        "            ['BatchNormalization', (None, 64, 64, 32), 128],\n",
        "            ['ReLU', (None, 64, 64, 32), 0],\n",
        "            ['MaxPooling2D', (None, 32, 32, 32), 0, (2, 2), (2, 2), 'valid'],\n",
        "            ['Flatten', (None, 32768), 0],\n",
        "            ['Dense', (None, 1), 32769, 'sigmoid']]\n",
        "    \n",
        "comparator(summary(happy_model), output)"
      ]
    },
    {
      "cell_type": "markdown",
      "id": "b79ec626",
      "metadata": {
        "id": "b79ec626"
      },
      "source": [
        "After creating a deep learning model, the next step is to compile it for training by specifying an optimizer and loss function. In addition, you can also specify metrics such as accuracy to track during training."
      ]
    },
    {
      "cell_type": "code",
      "execution_count": null,
      "id": "4875e20e",
      "metadata": {
        "id": "4875e20e"
      },
      "outputs": [],
      "source": [
        "happy_model.compile(optimizer='adam',\n",
        "                   loss='binary_crossentropy',\n",
        "                   metrics=['accuracy'])"
      ]
    },
    {
      "cell_type": "code",
      "execution_count": null,
      "id": "84757ccd",
      "metadata": {
        "id": "84757ccd",
        "outputId": "ddca6473-d789-414b-d1f1-6afa87ade160",
        "colab": {
          "base_uri": "https://localhost:8080/"
        }
      },
      "outputs": [
        {
          "output_type": "stream",
          "name": "stdout",
          "text": [
            "Model: \"sequential\"\n",
            "_________________________________________________________________\n",
            " Layer (type)                Output Shape              Param #   \n",
            "=================================================================\n",
            " zero_padding2d (ZeroPadding  (None, 70, 70, 3)        0         \n",
            " 2D)                                                             \n",
            "                                                                 \n",
            " conv2d (Conv2D)             (None, 64, 64, 32)        4736      \n",
            "                                                                 \n",
            " batch_normalization (BatchN  (None, 64, 64, 32)       128       \n",
            " ormalization)                                                   \n",
            "                                                                 \n",
            " re_lu (ReLU)                (None, 64, 64, 32)        0         \n",
            "                                                                 \n",
            " max_pooling2d (MaxPooling2D  (None, 32, 32, 32)       0         \n",
            " )                                                               \n",
            "                                                                 \n",
            " flatten (Flatten)           (None, 32768)             0         \n",
            "                                                                 \n",
            " dense (Dense)               (None, 1)                 32769     \n",
            "                                                                 \n",
            "=================================================================\n",
            "Total params: 37,633\n",
            "Trainable params: 37,569\n",
            "Non-trainable params: 64\n",
            "_________________________________________________________________\n"
          ]
        }
      ],
      "source": [
        "happy_model.summary()"
      ]
    },
    {
      "cell_type": "markdown",
      "id": "6c164ebc",
      "metadata": {
        "id": "6c164ebc"
      },
      "source": [
        "#### <font color='blue'> Q1.2.1 What is the difference between trainable and non-trainable parameters in a deep learning model?\n",
        "\n",
        "Trainable parameters in a deep learning model are the parameters that are learned during the training process to optimize the model's performance. These parameters are updated iteratively during training through gradient descent or other optimization algorithms to minimize the loss function.\n",
        "\n",
        "Non-trainable parameters, on the other hand, are fixed parameters that are not updated during training. These parameters are typically used in pre-trained models, such as pre-trained convolutional neural networks (CNNs) where the weights of the convolutional layers are already learned from large datasets and are kept fixed during fine-tuning on a smaller dataset.\n",
        "\n",
        "In the summary of the model provided, the total parameters are 37,633, out of which 37,569 are trainable parameters that will be updated during training, and 64 are non-trainable parameters that are fixed.\n",
        "\n",
        "#### <font color='blue'> Q1.2.2 How to compute the number of parameters reported per layer? Can you identify the origin of the 64 non-trainable parameters?\n",
        "\n",
        "The number of parameters reported per layer in the model summary can be calculated based on the type of layer and its configuration. For example:\n",
        "\n",
        "    For a Conv2D layer, the number of parameters can be calculated as (filter_height * filter_width * input_channels + 1) * output_channels, where filter_height and filter_width are the dimensions of the convolutional kernel, input_channels is the number of input channels to the layer, and output_channels is the number of output channels or filters in the layer. The \"+1\" accounts for the bias term.\n",
        "\n",
        "    For a Dense layer, the number of parameters can be calculated as input_dim * output_dim + output_dim, where input_dim is the number of input units to the layer and output_dim is the number of output units or neurons in the layer. The \"+output_dim\" accounts for the bias term.\n",
        "\n",
        "    For a BatchNormalization layer, the number of parameters can be calculated as 4 * output_dim, where output_dim is the number of output units in the layer. BatchNormalization has 4 parameters per feature map: gamma (scaling factor), beta (shifting factor), moving mean, and moving variance.\n",
        "\n",
        "The origin of the 64 non-trainable parameters reported in the model summary may depend on the specific architecture and configuration of the model. It's possible that these non-trainable parameters are related to some fixed parameters or weights used in the model, such as fixed biases or normalization parameters. Without further information about the model architecture and configuration, it's not possible to definitively identify the exact origin of these non-trainable parameters.\n",
        "        \n",
        "#### <font color='blue'> Q1.2.3 You can note that the first output dimension of a layers is *None*. Can you explain why this is the case?\n",
        "\n",
        "In the model summary, the first output dimension of each layer is usually shown as \"None\" because it represents the batch size, which can vary during training or inference. The batch size is the number of samples processed in each iteration during training or inference, and it can be different for different input data batches.\n",
        "\n",
        "During model compilation, the batch size is not specified as it can be flexible and determined at runtime depending on the input data. Therefore, the first output dimension of each layer in the model summary is shown as \"None\" to indicate that it can vary depending on the batch size used during actual training or inference.\n",
        "\n",
        "The \"None\" value in the first output dimension of a layer in the model summary is a placeholder that indicates that the actual value will be determined during runtime based on the batch size used for training or inference. Once the batch size is known during runtime, the \"None\" value will be replaced with the actual batch size, and the model will process the input data accordingly."
      ]
    },
    {
      "cell_type": "markdown",
      "id": "1f4d177b",
      "metadata": {
        "id": "1f4d177b"
      },
      "source": [
        "<a name='1.3'></a>\n",
        "## <font color='darkviolet'> 1.3 - Train and Evaluate the Model\n",
        "\n",
        "Once you've created and compiled your model, and verified its structure using `model.summary()`, it's time to start training. Simply call `.fit()` to begin the training process.\n",
        "\n",
        "One of the advantages of using TensorFlow is that it automates many of the tedious and complex aspects of machine learning, such as backpropagation. You do have the option to specify the number of epochs and the size of the mini-batch. "
      ]
    },
    {
      "cell_type": "code",
      "execution_count": null,
      "id": "76eb9286",
      "metadata": {
        "id": "76eb9286",
        "colab": {
          "base_uri": "https://localhost:8080/"
        },
        "outputId": "809a6c11-530e-49fc-88c9-9c51d6920a0d"
      },
      "outputs": [
        {
          "output_type": "stream",
          "name": "stdout",
          "text": [
            "Epoch 1/10\n",
            "19/19 [==============================] - 5s 220ms/step - loss: 1.9937 - accuracy: 0.6150\n",
            "Epoch 2/10\n",
            "19/19 [==============================] - 3s 173ms/step - loss: 0.3603 - accuracy: 0.8333\n",
            "Epoch 3/10\n",
            "19/19 [==============================] - 3s 169ms/step - loss: 0.2798 - accuracy: 0.8883\n",
            "Epoch 4/10\n",
            "19/19 [==============================] - 4s 216ms/step - loss: 0.1326 - accuracy: 0.9467\n",
            "Epoch 5/10\n",
            "19/19 [==============================] - 3s 173ms/step - loss: 0.1024 - accuracy: 0.9600\n",
            "Epoch 6/10\n",
            "19/19 [==============================] - 3s 172ms/step - loss: 0.1055 - accuracy: 0.9633\n",
            "Epoch 7/10\n",
            "19/19 [==============================] - 3s 170ms/step - loss: 0.1111 - accuracy: 0.9583\n",
            "Epoch 8/10\n",
            "19/19 [==============================] - 4s 213ms/step - loss: 0.0786 - accuracy: 0.9767\n",
            "Epoch 9/10\n",
            "19/19 [==============================] - 3s 171ms/step - loss: 0.0571 - accuracy: 0.9833\n",
            "Epoch 10/10\n",
            "19/19 [==============================] - 3s 172ms/step - loss: 0.0476 - accuracy: 0.9917\n"
          ]
        },
        {
          "output_type": "execute_result",
          "data": {
            "text/plain": [
              "<keras.callbacks.History at 0x7fcd33866b80>"
            ]
          },
          "metadata": {},
          "execution_count": 14
        }
      ],
      "source": [
        "happy_model.fit(X_train, Y_train, epochs=10, batch_size=32)"
      ]
    },
    {
      "cell_type": "markdown",
      "id": "631f6ad8",
      "metadata": {
        "id": "631f6ad8"
      },
      "source": [
        "#### <font color='blue'> Q1.3.1 What does each output line indicate ?\n"
      ]
    },
    {
      "cell_type": "markdown",
      "id": "7c91d46b",
      "metadata": {
        "id": "7c91d46b"
      },
      "source": [
        "After training your model using `.fit()`, you can evaluate its performance on your test set by calling `.evaluate()`. This function returns the value of the **loss function** and any **performance metrics** you specified during compilation. In this case, the loss function used was binary_crossentropy and the metric used was accuracy."
      ]
    },
    {
      "cell_type": "code",
      "execution_count": null,
      "id": "cdf0327a",
      "metadata": {
        "id": "cdf0327a",
        "colab": {
          "base_uri": "https://localhost:8080/"
        },
        "outputId": "bf1465f9-70df-4c05-9ab5-a6d8c1af9e31"
      },
      "outputs": [
        {
          "output_type": "stream",
          "name": "stdout",
          "text": [
            "5/5 [==============================] - 0s 44ms/step - loss: 0.3353 - accuracy: 0.8133\n"
          ]
        },
        {
          "output_type": "execute_result",
          "data": {
            "text/plain": [
              "[0.33529236912727356, 0.8133333325386047]"
            ]
          },
          "metadata": {},
          "execution_count": 15
        }
      ],
      "source": [
        "happy_model.evaluate(X_test, Y_test)"
      ]
    },
    {
      "cell_type": "markdown",
      "id": "85bda53e",
      "metadata": {
        "id": "85bda53e"
      },
      "source": [
        "<a name='2'></a>\n",
        "# <font color='darkviolet'> 2 - The Functional API\n",
        "\n",
        "The [Functional API](https://www.tensorflow.org/guide/keras/functional) in TensorFlow can handle more complex models than the Sequential API, allowing for shared layers, and layers with multiple inputs or outputs. \n",
        "One example of a more complex layer connection is a skip connection, which skips some layers in the network and feeds the output directly to a later layer in the network.\n",
        "    \n",
        "You will use Keras flexible Functional API to build a ConvNet that can differentiate between 6 sign language digits. "
      ]
    },
    {
      "cell_type": "markdown",
      "id": "ba878913",
      "metadata": {
        "id": "ba878913"
      },
      "source": [
        "<a name='2.1'></a>\n",
        "## <font color='darkviolet'> 2.1 - The SIGNS Dataset\n",
        "\n",
        "The SIGNS dataset is a collection of 6 signs representing numbers from 0 to 5."
      ]
    },
    {
      "cell_type": "code",
      "execution_count": null,
      "id": "1661675f",
      "metadata": {
        "id": "1661675f"
      },
      "outputs": [],
      "source": [
        "def load_signs_dataset():\n",
        "    # Load the training dataset\n",
        "    train_dataset = h5py.File('data/train_signs.h5', \"r\")\n",
        "    \n",
        "    # Extract the features and labels for the training set\n",
        "    train_set_x_orig = np.array(train_dataset[\"train_set_x\"][:]) # features\n",
        "    train_set_y_orig = np.array(train_dataset[\"train_set_y\"][:]) # labels\n",
        "\n",
        "    # Load the test dataset\n",
        "    test_dataset = h5py.File('data/test_signs.h5', \"r\")\n",
        "    \n",
        "    # Extract the features and labels for the test set\n",
        "    test_set_x_orig = np.array(test_dataset[\"test_set_x\"][:]) # features\n",
        "    test_set_y_orig = np.array(test_dataset[\"test_set_y\"][:]) # labels\n",
        "\n",
        "    # Extract the list of classes\n",
        "    classes = np.array(test_dataset[\"list_classes\"][:]) \n",
        "    \n",
        "    # Reshape the labels to match the expected shape\n",
        "    train_set_y_orig = train_set_y_orig.reshape((1, train_set_y_orig.shape[0]))\n",
        "    test_set_y_orig = test_set_y_orig.reshape((1, test_set_y_orig.shape[0]))\n",
        "    \n",
        "    # Return the dataset as a tuple\n",
        "    return train_set_x_orig, train_set_y_orig, test_set_x_orig, test_set_y_orig, classes"
      ]
    },
    {
      "cell_type": "code",
      "execution_count": null,
      "id": "c0ab9022",
      "metadata": {
        "id": "c0ab9022"
      },
      "outputs": [],
      "source": [
        "# Loading the data (signs)\n",
        "X_train_orig, Y_train_orig, X_test_orig, Y_test_orig, classes = load_signs_dataset()"
      ]
    },
    {
      "cell_type": "code",
      "execution_count": null,
      "id": "28451ca8",
      "metadata": {
        "id": "28451ca8",
        "colab": {
          "base_uri": "https://localhost:8080/",
          "height": 449
        },
        "outputId": "41305ddb-4160-4f30-e552-303e4a0ef08b"
      },
      "outputs": [
        {
          "output_type": "stream",
          "name": "stdout",
          "text": [
            "y = 4\n"
          ]
        },
        {
          "output_type": "display_data",
          "data": {
            "text/plain": [
              "<Figure size 640x480 with 1 Axes>"
            ],
            "image/png": "[encoded data removed]"
          },
          "metadata": {}
        }
      ],
      "source": [
        "# Example of an image from the dataset\n",
        "index = 9\n",
        "plt.imshow(X_train_orig[index])\n",
        "print (\"y = \" + str(np.squeeze(Y_train_orig[:, index])))"
      ]
    },
    {
      "cell_type": "code",
      "execution_count": null,
      "id": "8fb0ff82",
      "metadata": {
        "id": "8fb0ff82",
        "colab": {
          "base_uri": "https://localhost:8080/"
        },
        "outputId": "15145592-eb5c-493c-89a4-be145fb092bc"
      },
      "outputs": [
        {
          "output_type": "stream",
          "name": "stdout",
          "text": [
            "number of training examples = 1080\n",
            "number of test examples = 120\n",
            "X_train shape: (1080, 64, 64, 3)\n",
            "Y_train shape: (1080, 6)\n",
            "X_test shape: (120, 64, 64, 3)\n",
            "Y_test shape: (120, 6)\n"
          ]
        }
      ],
      "source": [
        "# Normalize the pixel values of the images by dividing each pixel value by 255\n",
        "X_train = X_train_orig/255.\n",
        "X_test = X_test_orig/255.\n",
        "\n",
        "# Convert the target labels to one-hot vectors\n",
        "Y_train = convert_to_one_hot(Y_train_orig, 6).T\n",
        "Y_test = convert_to_one_hot(Y_test_orig, 6).T\n",
        "\n",
        "print (\"number of training examples = \" + str(X_train.shape[0]))\n",
        "print (\"number of test examples = \" + str(X_test.shape[0]))\n",
        "print (\"X_train shape: \" + str(X_train.shape))\n",
        "print (\"Y_train shape: \" + str(Y_train.shape))\n",
        "print (\"X_test shape: \" + str(X_test.shape))\n",
        "print (\"Y_test shape: \" + str(Y_test.shape))"
      ]
    },
    {
      "cell_type": "markdown",
      "id": "159322ff",
      "metadata": {
        "id": "159322ff"
      },
      "source": [
        "#### <font color='blue'> Q2.1.1 Describe your dataset.\n",
        "\n",
        "This dataset consists of 1200 image examples with dimensions of 64 x 64 pixels and 3 color channels (RGB). The dataset is split into training and test sets with 1080 and 120 examples respectively. The labels are represented in a one-hot encoded format with 6 categories. The dataset is designed for a classification task where the goal is to classify each image into one of the 6 categories."
      ]
    },
    {
      "cell_type": "markdown",
      "id": "780fa06a",
      "metadata": {
        "id": "780fa06a"
      },
      "source": [
        "<a name='2.2'></a>\n",
        "### <font color='darkviolet'> 2.2 - Forward Propagation\n",
        "\n",
        "In TensorFlow, there are built-in functions that implement the convolution steps. By now, you should be familiar with how TensorFlow builds computational graphs. In the [Functional API](https://www.tensorflow.org/guide/keras/functional), you create a graph of layers. This is what allows such great flexibility.\n",
        "\n",
        "However, the following model could also be defined using the Sequential API since the information flow is on a single line. Anyhw, we want you to learn to use the Functional API.\n",
        "\n",
        "Begin building your graph of layers by creating an input node as a callable object:\n",
        "\n",
        "- **input_img = tf.keras.Input(shape=input_shape):** \n",
        "\n",
        "Then, create a new node in the graph of layers by calling a layer on the `input_img` object: \n",
        "\n",
        "- **tf.keras.layers.Conv2D(filters= ... , kernel_size= ... , padding='same')(input_img):** Read the full documentation on [Conv2D](https://www.tensorflow.org/api_docs/python/tf/keras/layers/Conv2D).\n",
        "\n",
        "- **tf.keras.layers.MaxPool2D(pool_size=(f, f), strides=(s, s), padding='same'):** `MaxPool2D()` downsamples your input using a window of size (f, f) and strides of size (s, s) to carry out max pooling over each window.  For max pooling, you usually operate on a single example at a time and a single channel at a time. Read the full documentation on [MaxPool2D](https://www.tensorflow.org/api_docs/python/tf/keras/layers/MaxPool2D).\n",
        "\n",
        "- **tf.keras.layers.ReLU():** computes the element-wise ReLU of Z (which can be any shape). You can read the full documentation on [ReLU](https://www.tensorflow.org/api_docs/python/tf/keras/layers/ReLU).\n",
        "\n",
        "- **tf.keras.layers.Flatten()**: given a tensor \"P\", this function takes each training (or test) example in the batch and flattens it into a 1D vector.  \n",
        "\n",
        "    * If a tensor P has the shape (batch_size,h,w,c), it returns a flattened tensor with shape (batch_size, k), where $k=h \\times w \\times c$.  \"k\" equals the product of all the dimension sizes other than the first dimension.\n",
        "    \n",
        "    * For example, given a tensor with dimensions [100, 2, 3, 4], it flattens the tensor to be of shape [100, 24], where 24 = 2 * 3 * 4.  You can read the full documentation on [Flatten](https://www.tensorflow.org/api_docs/python/tf/keras/layers/Flatten).\n",
        "\n",
        "- **tf.keras.layers.Dense(units= ... , activation='softmax')(F):** given the flattened input F, it returns the output computed using a fully connected layer. You can read the full documentation on [Dense](https://www.tensorflow.org/api_docs/python/tf/keras/layers/Dense).\n",
        "\n",
        "In the last function above (`tf.keras.layers.Dense()`), the fully connected layer automatically initializes weights in the graph and keeps on training them as you train the model. Hence, you did not need to initialize those weights when initializing the parameters.\n",
        "\n",
        "Lastly, before creating the model, you'll need to define the output using the last of the function's compositions (in this example, a Dense layer): \n",
        "\n",
        "- **outputs = tf.keras.layers.Dense(units=6, activation='softmax')(F)** \n"
      ]
    },
    {
      "cell_type": "markdown",
      "id": "6b2a2305",
      "metadata": {
        "id": "6b2a2305"
      },
      "source": [
        "<a name='ex-2.2.1'></a>\n",
        "### <font color='blue'> Exercise 2.2.1 - convolutional_model\n",
        "\n",
        "Implement the `convolutional_model` function below to build the following model: `CONV2D -> RELU -> MAXPOOL -> CONV2D -> RELU -> MAXPOOL -> FLATTEN -> DENSE`. Use the functions above! \n",
        "\n",
        "Also, plug in the following parameters for all the steps:\n",
        "\n",
        " - [Conv2D](https://www.tensorflow.org/api_docs/python/tf/keras/layers/Conv2D): Use 8 filters 4 by 4 , stride 1, padding is \"SAME\"\n",
        " - [ReLU](https://www.tensorflow.org/api_docs/python/tf/keras/layers/ReLU)\n",
        " - [MaxPool2D](https://www.tensorflow.org/api_docs/python/tf/keras/layers/MaxPool2D): Use an 8 by 8 filter size and an 8 by 8 stride, padding is \"SAME\"\n",
        " - **Conv2D**: Use 16 filters 2 by 2, stride 1, padding is \"SAME\"\n",
        " - **ReLU**\n",
        " - **MaxPool2D**: Use a 4 by 4 filter size and a 4 by 4 stride, padding is \"SAME\"\n",
        " - [Flatten](https://www.tensorflow.org/api_docs/python/tf/keras/layers/Flatten) the previous output.\n",
        " - Fully-connected ([Dense](https://www.tensorflow.org/api_docs/python/tf/keras/layers/Dense)) layer: apply a fully connected layer with 6 neurons and a softmax activation. "
      ]
    },
    {
      "cell_type": "code",
      "execution_count": null,
      "id": "31c9192f",
      "metadata": {
        "id": "31c9192f"
      },
      "outputs": [],
      "source": [
        "def convolutional_model(input_shape):\n",
        "    \"\"\"\n",
        "    Implements a convolutional neural network model using Keras.\n",
        "\n",
        "    Arguments:\n",
        "    input_shape -- shape of the input data\n",
        "\n",
        "    Returns:\n",
        "    model -- Keras model instance\n",
        "    \"\"\"\n",
        "    \n",
        "    # Define the input layer\n",
        "    input_img = tf.keras.Input(shape=input_shape)\n",
        "    \n",
        "    # CONV2D: 8 filters 4x4, stride of 1, padding 'SAME'\n",
        "    conv1 = tf.keras.layers.Conv2D(filters=8, kernel_size=(4, 4), strides=(1, 1), padding='SAME')(input_img)\n",
        "    \n",
        "    # Apply ReLU activation function\n",
        "    relu1 = tf.keras.layers.ReLU()(conv1)\n",
        "    \n",
        "    # MAXPOOL: window 8x8, stride 8, padding 'SAME'\n",
        "    maxpool1 = tf.keras.layers.MaxPool2D(pool_size=(8, 8), strides=(8, 8), padding='SAME')(relu1)\n",
        "    \n",
        "    # CONV2D: 16 filters 2x2, stride 1, padding 'SAME'\n",
        "    conv2 = tf.keras.layers.Conv2D(filters=16, kernel_size=(2, 2), strides=(1, 1), padding='SAME')(maxpool1)\n",
        "    \n",
        "    # Apply ReLU activation function\n",
        "    relu2 = tf.keras.layers.ReLU()(conv2)\n",
        "    \n",
        "    # MAXPOOL: window 4x4, stride 4, padding 'SAME'\n",
        "    maxpool2 = tf.keras.layers.MaxPool2D(pool_size=(4, 4), strides=(4, 4), padding='SAME')(relu2)\n",
        "    \n",
        "    # Flatten\n",
        "    flatten = tf.keras.layers.Flatten()(maxpool2)\n",
        "    \n",
        "    # Dense layer\n",
        "    out = tf.keras.layers.Dense(units=6, activation='softmax')(flatten)\n",
        "    \n",
        "    # Define the Keras model\n",
        "    model = tf.keras.Model(inputs=input_img, outputs=out)\n",
        "    \n",
        "    return model\n"
      ]
    },
    {
      "cell_type": "code",
      "execution_count": null,
      "id": "ae9c7088",
      "metadata": {
        "id": "ae9c7088",
        "colab": {
          "base_uri": "https://localhost:8080/"
        },
        "outputId": "81288f8f-ad7e-4dca-da6c-23260987b914"
      },
      "outputs": [
        {
          "output_type": "stream",
          "name": "stdout",
          "text": [
            "Model: \"model\"\n",
            "_________________________________________________________________\n",
            " Layer (type)                Output Shape              Param #   \n",
            "=================================================================\n",
            " input_1 (InputLayer)        [(None, 64, 64, 3)]       0         \n",
            "                                                                 \n",
            " conv2d_1 (Conv2D)           (None, 64, 64, 8)         392       \n",
            "                                                                 \n",
            " re_lu_1 (ReLU)              (None, 64, 64, 8)         0         \n",
            "                                                                 \n",
            " max_pooling2d_1 (MaxPooling  (None, 8, 8, 8)          0         \n",
            " 2D)                                                             \n",
            "                                                                 \n",
            " conv2d_2 (Conv2D)           (None, 8, 8, 16)          528       \n",
            "                                                                 \n",
            " re_lu_2 (ReLU)              (None, 8, 8, 16)          0         \n",
            "                                                                 \n",
            " max_pooling2d_2 (MaxPooling  (None, 2, 2, 16)         0         \n",
            " 2D)                                                             \n",
            "                                                                 \n",
            " flatten_1 (Flatten)         (None, 64)                0         \n",
            "                                                                 \n",
            " dense_1 (Dense)             (None, 6)                 390       \n",
            "                                                                 \n",
            "=================================================================\n",
            "Total params: 1,310\n",
            "Trainable params: 1,310\n",
            "Non-trainable params: 0\n",
            "_________________________________________________________________\n",
            "All tests passed!\n"
          ]
        }
      ],
      "source": [
        "conv_model = convolutional_model((64, 64, 3))\n",
        "conv_model.compile(optimizer='adam',\n",
        "                  loss='categorical_crossentropy',\n",
        "                  metrics=['accuracy'])\n",
        "conv_model.summary()\n",
        "    \n",
        "output = [['InputLayer', [(None, 64, 64, 3)], 0],\n",
        "        ['Conv2D', (None, 64, 64, 8), 392, 'same', 'linear', 'GlorotUniform'],\n",
        "        ['ReLU', (None, 64, 64, 8), 0],\n",
        "        ['MaxPooling2D', (None, 8, 8, 8), 0, (8, 8), (8, 8), 'same'],\n",
        "        ['Conv2D', (None, 8, 8, 16), 528, 'same', 'linear', 'GlorotUniform'],\n",
        "        ['ReLU', (None, 8, 8, 16), 0],\n",
        "        ['MaxPooling2D', (None, 2, 2, 16), 0, (4, 4), (4, 4), 'same'],\n",
        "        ['Flatten', (None, 64), 0],\n",
        "        ['Dense', (None, 6), 390, 'softmax']]\n",
        "    \n",
        "comparator(summary(conv_model), output)"
      ]
    },
    {
      "cell_type": "markdown",
      "id": "b8572c47",
      "metadata": {
        "id": "b8572c47"
      },
      "source": [
        "Both the Sequential and Functional APIs return a TF Keras model object. The only difference is how inputs are handled inside the object model."
      ]
    },
    {
      "cell_type": "markdown",
      "id": "f3c50d86",
      "metadata": {
        "id": "f3c50d86"
      },
      "source": [
        "#### <font color='blue'> Q2.2.1 How to compute the number of parameters reported per layer? \n",
        "\n",
        "The number of parameters reported per layer is computed as the sum of the parameters for each trainable variable in the layer. In a convolutional layer, the number of parameters is given by the formula (kernel_height x kernel_width x input_channels x num_filters) + num_filters, where kernel_height and kernel_width are the height and width of the convolutional filter, input_channels is the number of channels in the input tensor, and num_filters is the number of filters in the layer. In a dense layer, the number of parameters is given by (input_size x num_neurons) + num_neurons, where input_size is the size of the input tensor and num_neurons is the number of neurons in the layer."
      ]
    },
    {
      "cell_type": "markdown",
      "id": "b396aec5",
      "metadata": {
        "id": "b396aec5"
      },
      "source": [
        "<a name='2.3'></a>\n",
        "### <font color='darkviolet'> 2.3 - Train the Model"
      ]
    },
    {
      "cell_type": "code",
      "execution_count": null,
      "id": "69ea78d9",
      "metadata": {
        "id": "69ea78d9"
      },
      "outputs": [],
      "source": [
        "# create train and test datasets\n",
        "train_dataset = tf.data.Dataset.from_tensor_slices((X_train, Y_train)).batch(64)\n",
        "test_dataset = tf.data.Dataset.from_tensor_slices((X_test, Y_test)).batch(64)"
      ]
    },
    {
      "cell_type": "code",
      "execution_count": null,
      "id": "f87619dd",
      "metadata": {
        "id": "f87619dd",
        "colab": {
          "base_uri": "https://localhost:8080/"
        },
        "outputId": "f16b26cb-9c1e-41a4-e884-8c41df07cf8a"
      },
      "outputs": [
        {
          "output_type": "stream",
          "name": "stdout",
          "text": [
            "Number of batches in train_dataset: 17\n",
            "Number of samples in train_dataset: 1088\n",
            "Number of batches in test_dataset: 2\n",
            "Number of samples in test_dataset: 128\n"
          ]
        }
      ],
      "source": [
        "# Print the size of the train_dataset\n",
        "train_size = tf.data.experimental.cardinality(train_dataset).numpy()\n",
        "print('Number of batches in train_dataset:', train_size)\n",
        "print('Number of samples in train_dataset:', train_size * 64)\n",
        "\n",
        "# Print the size of the test_dataset\n",
        "test_size = tf.data.experimental.cardinality(test_dataset).numpy()\n",
        "print('Number of batches in test_dataset:', test_size)\n",
        "print('Number of samples in test_dataset:', test_size * 64)"
      ]
    },
    {
      "cell_type": "code",
      "execution_count": null,
      "id": "da94b1c6",
      "metadata": {
        "id": "da94b1c6",
        "colab": {
          "base_uri": "https://localhost:8080/"
        },
        "outputId": "ea2169e3-89b6-4d9b-af6b-1923d98cd091"
      },
      "outputs": [
        {
          "output_type": "stream",
          "name": "stdout",
          "text": [
            "Shape of input features (X): (64, 64, 64, 3)\n",
            "Shape of labels (Y): (64, 6)\n",
            "Input features (X): tf.Tensor(\n",
            "[[[[0.89019608 0.8627451  0.83921569]\n",
            "   [0.89019608 0.86666667 0.84313725]\n",
            "   [0.89019608 0.87058824 0.84313725]\n",
            "   ...\n",
            "   [0.90980392 0.90196078 0.87843137]\n",
            "   [0.90588235 0.89803922 0.87058824]\n",
            "   [0.90196078 0.89803922 0.86666667]]\n",
            "\n",
            "  [[0.89019608 0.86666667 0.83921569]\n",
            "   [0.89019608 0.86666667 0.84313725]\n",
            "   [0.89411765 0.86666667 0.84313725]\n",
            "   ...\n",
            "   [0.90980392 0.90196078 0.87843137]\n",
            "   [0.90588235 0.89803922 0.87058824]\n",
            "   [0.90588235 0.89803922 0.86666667]]\n",
            "\n",
            "  [[0.89019608 0.86666667 0.83921569]\n",
            "   [0.89019608 0.86666667 0.83921569]\n",
            "   [0.89019608 0.86666667 0.84313725]\n",
            "   ...\n",
            "   [0.90980392 0.90196078 0.87843137]\n",
            "   [0.90588235 0.89803922 0.8745098 ]\n",
            "   [0.90196078 0.89803922 0.86666667]]\n",
            "\n",
            "  ...\n",
            "\n",
            "  [[0.46666667 0.31764706 0.2       ]\n",
            "   [0.48627451 0.33333333 0.21568627]\n",
            "   [0.49803922 0.34117647 0.22745098]\n",
            "   ...\n",
            "   [0.82352941 0.82745098 0.82745098]\n",
            "   [0.82745098 0.83137255 0.82352941]\n",
            "   [0.82352941 0.82745098 0.82352941]]\n",
            "\n",
            "  [[0.46666667 0.30980392 0.2       ]\n",
            "   [0.48627451 0.32941176 0.21568627]\n",
            "   [0.49411765 0.33333333 0.21960784]\n",
            "   ...\n",
            "   [0.82352941 0.82745098 0.82352941]\n",
            "   [0.82352941 0.82745098 0.82352941]\n",
            "   [0.81960784 0.82352941 0.81960784]]\n",
            "\n",
            "  [[0.46666667 0.31764706 0.2       ]\n",
            "   [0.48235294 0.3254902  0.21568627]\n",
            "   [0.47843137 0.32156863 0.21176471]\n",
            "   ...\n",
            "   [0.81960784 0.82352941 0.82352941]\n",
            "   [0.81960784 0.82352941 0.81960784]\n",
            "   [0.81568627 0.81960784 0.81960784]]]\n",
            "\n",
            "\n",
            " [[[0.93333333 0.90980392 0.8745098 ]\n",
            "   [0.93333333 0.90980392 0.8745098 ]\n",
            "   [0.93333333 0.90980392 0.8745098 ]\n",
            "   ...\n",
            "   [0.87058824 0.84705882 0.81960784]\n",
            "   [0.86666667 0.84705882 0.81176471]\n",
            "   [0.86666667 0.84705882 0.80784314]]\n",
            "\n",
            "  [[0.92941176 0.90980392 0.8745098 ]\n",
            "   [0.93333333 0.90980392 0.8745098 ]\n",
            "   [0.93333333 0.90980392 0.8745098 ]\n",
            "   ...\n",
            "   [0.87058824 0.84705882 0.81960784]\n",
            "   [0.87058824 0.84705882 0.81568627]\n",
            "   [0.8745098  0.85098039 0.81176471]]\n",
            "\n",
            "  [[0.9254902  0.90980392 0.87058824]\n",
            "   [0.92941176 0.90980392 0.8745098 ]\n",
            "   [0.93333333 0.90980392 0.8745098 ]\n",
            "   ...\n",
            "   [0.87058824 0.84705882 0.81960784]\n",
            "   [0.87058824 0.84705882 0.81568627]\n",
            "   [0.86666667 0.84705882 0.81176471]]\n",
            "\n",
            "  ...\n",
            "\n",
            "  [[0.85490196 0.83137255 0.8       ]\n",
            "   [0.85098039 0.83137255 0.8       ]\n",
            "   [0.85098039 0.82745098 0.80392157]\n",
            "   ...\n",
            "   [0.83921569 0.79607843 0.76078431]\n",
            "   [0.83921569 0.79607843 0.76470588]\n",
            "   [0.83921569 0.8        0.76078431]]\n",
            "\n",
            "  [[0.85098039 0.82745098 0.79607843]\n",
            "   [0.85098039 0.82745098 0.79607843]\n",
            "   [0.84705882 0.82352941 0.79607843]\n",
            "   ...\n",
            "   [0.83921569 0.79607843 0.76078431]\n",
            "   [0.84313725 0.79607843 0.76078431]\n",
            "   [0.84313725 0.8        0.75686275]]\n",
            "\n",
            "  [[0.84705882 0.82352941 0.79215686]\n",
            "   [0.84705882 0.82352941 0.79607843]\n",
            "   [0.84313725 0.81960784 0.79607843]\n",
            "   ...\n",
            "   [0.83921569 0.79607843 0.76078431]\n",
            "   [0.84313725 0.79607843 0.76078431]\n",
            "   [0.84313725 0.8        0.75294118]]]\n",
            "\n",
            "\n",
            " [[[0.89411765 0.8627451  0.81568627]\n",
            "   [0.89411765 0.8627451  0.81568627]\n",
            "   [0.89019608 0.85882353 0.81568627]\n",
            "   ...\n",
            "   [0.90588235 0.89411765 0.86666667]\n",
            "   [0.90980392 0.89411765 0.86666667]\n",
            "   [0.90588235 0.89019608 0.8627451 ]]\n",
            "\n",
            "  [[0.89411765 0.85882353 0.81568627]\n",
            "   [0.89411765 0.85882353 0.81568627]\n",
            "   [0.89019608 0.85882353 0.81176471]\n",
            "   ...\n",
            "   [0.90588235 0.89019608 0.86666667]\n",
            "   [0.90588235 0.89019608 0.86666667]\n",
            "   [0.90588235 0.89019608 0.8627451 ]]\n",
            "\n",
            "  [[0.89019608 0.85882353 0.81568627]\n",
            "   [0.89019608 0.85882353 0.81568627]\n",
            "   [0.89019608 0.85882353 0.81568627]\n",
            "   ...\n",
            "   [0.90588235 0.89019608 0.87058824]\n",
            "   [0.90588235 0.89019608 0.87058824]\n",
            "   [0.90588235 0.89019608 0.8627451 ]]\n",
            "\n",
            "  ...\n",
            "\n",
            "  [[0.83921569 0.78431373 0.7254902 ]\n",
            "   [0.83921569 0.78039216 0.71764706]\n",
            "   [0.72156863 0.65490196 0.58823529]\n",
            "   ...\n",
            "   [0.81960784 0.80392157 0.78823529]\n",
            "   [0.83137255 0.81176471 0.8       ]\n",
            "   [0.83137255 0.81568627 0.8       ]]\n",
            "\n",
            "  [[0.83529412 0.77647059 0.71764706]\n",
            "   [0.78823529 0.7254902  0.6627451 ]\n",
            "   [0.54509804 0.45098039 0.37254902]\n",
            "   ...\n",
            "   [0.81960784 0.8        0.78823529]\n",
            "   [0.82352941 0.80784314 0.79215686]\n",
            "   [0.83137255 0.81176471 0.79607843]]\n",
            "\n",
            "  [[0.81960784 0.76078431 0.69803922]\n",
            "   [0.63529412 0.55686275 0.48627451]\n",
            "   [0.47843137 0.34509804 0.25098039]\n",
            "   ...\n",
            "   [0.81568627 0.8        0.78431373]\n",
            "   [0.82352941 0.80784314 0.78823529]\n",
            "   [0.82745098 0.81176471 0.79215686]]]\n",
            "\n",
            "\n",
            " ...\n",
            "\n",
            "\n",
            " [[[0.89411765 0.8627451  0.83529412]\n",
            "   [0.89803922 0.86666667 0.83921569]\n",
            "   [0.89411765 0.87058824 0.84705882]\n",
            "   ...\n",
            "   [0.89803922 0.87843137 0.85490196]\n",
            "   [0.89803922 0.87843137 0.85098039]\n",
            "   [0.89411765 0.8745098  0.84705882]]\n",
            "\n",
            "  [[0.89411765 0.8627451  0.83529412]\n",
            "   [0.89411765 0.86666667 0.83921569]\n",
            "   [0.89411765 0.86666667 0.84313725]\n",
            "   ...\n",
            "   [0.89411765 0.87843137 0.85490196]\n",
            "   [0.89411765 0.8745098  0.85098039]\n",
            "   [0.89019608 0.8745098  0.84313725]]\n",
            "\n",
            "  [[0.89411765 0.8627451  0.83529412]\n",
            "   [0.89411765 0.86666667 0.84313725]\n",
            "   [0.89019608 0.86666667 0.84313725]\n",
            "   ...\n",
            "   [0.89411765 0.87843137 0.85490196]\n",
            "   [0.89019608 0.8745098  0.84705882]\n",
            "   [0.89019608 0.87058824 0.84313725]]\n",
            "\n",
            "  ...\n",
            "\n",
            "  [[0.74901961 0.54509804 0.43921569]\n",
            "   [0.76078431 0.56470588 0.4627451 ]\n",
            "   [0.7254902  0.55686275 0.45882353]\n",
            "   ...\n",
            "   [0.76862745 0.74509804 0.7254902 ]\n",
            "   [0.77254902 0.74901961 0.7254902 ]\n",
            "   [0.77647059 0.75294118 0.7254902 ]]\n",
            "\n",
            "  [[0.76470588 0.56470588 0.45882353]\n",
            "   [0.74117647 0.54509804 0.43921569]\n",
            "   [0.74509804 0.56470588 0.46666667]\n",
            "   ...\n",
            "   [0.77254902 0.74509804 0.72941176]\n",
            "   [0.77647059 0.74901961 0.72941176]\n",
            "   [0.77647059 0.75294118 0.72156863]]\n",
            "\n",
            "  [[0.77254902 0.56470588 0.4627451 ]\n",
            "   [0.74509804 0.55294118 0.44313725]\n",
            "   [0.7254902  0.53333333 0.43137255]\n",
            "   ...\n",
            "   [0.76862745 0.74509804 0.72941176]\n",
            "   [0.77254902 0.74901961 0.72941176]\n",
            "   [0.77647059 0.75294118 0.72156863]]]\n",
            "\n",
            "\n",
            " [[[0.92156863 0.89019608 0.85882353]\n",
            "   [0.92156863 0.89019608 0.85882353]\n",
            "   [0.92156863 0.89411765 0.8627451 ]\n",
            "   ...\n",
            "   [0.86666667 0.83529412 0.8       ]\n",
            "   [0.8627451  0.83137255 0.79607843]\n",
            "   [0.85882353 0.82745098 0.79215686]]\n",
            "\n",
            "  [[0.92156863 0.88627451 0.85490196]\n",
            "   [0.92156863 0.89019608 0.85882353]\n",
            "   [0.91764706 0.89019608 0.85882353]\n",
            "   ...\n",
            "   [0.86666667 0.83529412 0.80392157]\n",
            "   [0.8627451  0.83137255 0.79607843]\n",
            "   [0.85882353 0.82745098 0.79607843]]\n",
            "\n",
            "  [[0.91764706 0.88627451 0.85490196]\n",
            "   [0.91764706 0.88627451 0.85490196]\n",
            "   [0.91764706 0.89019608 0.85490196]\n",
            "   ...\n",
            "   [0.86666667 0.83529412 0.80392157]\n",
            "   [0.85882353 0.83137255 0.79607843]\n",
            "   [0.85490196 0.82745098 0.79215686]]\n",
            "\n",
            "  ...\n",
            "\n",
            "  [[0.76862745 0.73333333 0.70588235]\n",
            "   [0.76862745 0.7372549  0.70588235]\n",
            "   [0.76862745 0.7372549  0.70196078]\n",
            "   ...\n",
            "   [0.50588235 0.3254902  0.20392157]\n",
            "   [0.4627451  0.29019608 0.17647059]\n",
            "   [0.46666667 0.29411765 0.17647059]]\n",
            "\n",
            "  [[0.76862745 0.73333333 0.70196078]\n",
            "   [0.76470588 0.73333333 0.70196078]\n",
            "   [0.76470588 0.73333333 0.70196078]\n",
            "   ...\n",
            "   [0.50588235 0.32156863 0.19607843]\n",
            "   [0.50980392 0.32941176 0.19607843]\n",
            "   [0.50588235 0.3254902  0.18823529]]\n",
            "\n",
            "  [[0.76862745 0.73333333 0.70196078]\n",
            "   [0.76862745 0.73333333 0.70196078]\n",
            "   [0.76470588 0.73333333 0.70196078]\n",
            "   ...\n",
            "   [0.57647059 0.38039216 0.23529412]\n",
            "   [0.54901961 0.35686275 0.21568627]\n",
            "   [0.5254902  0.3372549  0.19607843]]]\n",
            "\n",
            "\n",
            " [[[0.88235294 0.85490196 0.82745098]\n",
            "   [0.88235294 0.85882353 0.83137255]\n",
            "   [0.88235294 0.85882353 0.83529412]\n",
            "   ...\n",
            "   [0.89803922 0.89019608 0.85882353]\n",
            "   [0.89411765 0.88627451 0.85490196]\n",
            "   [0.89411765 0.88627451 0.85490196]]\n",
            "\n",
            "  [[0.87843137 0.85490196 0.82745098]\n",
            "   [0.88235294 0.85882353 0.83137255]\n",
            "   [0.88235294 0.85882353 0.83137255]\n",
            "   ...\n",
            "   [0.89803922 0.89019608 0.85882353]\n",
            "   [0.89411765 0.88627451 0.85490196]\n",
            "   [0.89411765 0.88627451 0.85098039]]\n",
            "\n",
            "  [[0.87843137 0.85490196 0.82745098]\n",
            "   [0.87843137 0.85882353 0.83137255]\n",
            "   [0.87843137 0.85882353 0.83137255]\n",
            "   ...\n",
            "   [0.89803922 0.89019608 0.8627451 ]\n",
            "   [0.89411765 0.89019608 0.85882353]\n",
            "   [0.89411765 0.88627451 0.85490196]]\n",
            "\n",
            "  ...\n",
            "\n",
            "  [[0.47058824 0.32941176 0.21960784]\n",
            "   [0.45490196 0.31372549 0.20392157]\n",
            "   [0.42745098 0.29019608 0.18823529]\n",
            "   ...\n",
            "   [0.81568627 0.81960784 0.81568627]\n",
            "   [0.81568627 0.81960784 0.81568627]\n",
            "   [0.81176471 0.81568627 0.81176471]]\n",
            "\n",
            "  [[0.46666667 0.3254902  0.21568627]\n",
            "   [0.44705882 0.30980392 0.2       ]\n",
            "   [0.42745098 0.29019608 0.18823529]\n",
            "   ...\n",
            "   [0.81176471 0.81568627 0.81176471]\n",
            "   [0.81176471 0.81568627 0.81176471]\n",
            "   [0.80784314 0.81568627 0.80784314]]\n",
            "\n",
            "  [[0.46666667 0.3254902  0.21176471]\n",
            "   [0.44313725 0.30588235 0.2       ]\n",
            "   [0.42352941 0.29019608 0.18823529]\n",
            "   ...\n",
            "   [0.80784314 0.81568627 0.81176471]\n",
            "   [0.80784314 0.81568627 0.81176471]\n",
            "   [0.80784314 0.81176471 0.80784314]]]], shape=(64, 64, 64, 3), dtype=float64)\n",
            "Labels (Y): tf.Tensor(\n",
            "[[0. 0. 0. 0. 0. 1.]\n",
            " [1. 0. 0. 0. 0. 0.]\n",
            " [0. 0. 1. 0. 0. 0.]\n",
            " [0. 0. 0. 0. 0. 1.]\n",
            " [0. 0. 1. 0. 0. 0.]\n",
            " [0. 0. 0. 0. 1. 0.]\n",
            " [0. 0. 1. 0. 0. 0.]\n",
            " [0. 1. 0. 0. 0. 0.]\n",
            " [0. 1. 0. 0. 0. 0.]\n",
            " [0. 0. 0. 0. 1. 0.]\n",
            " [0. 0. 1. 0. 0. 0.]\n",
            " [0. 1. 0. 0. 0. 0.]\n",
            " [0. 0. 0. 0. 0. 1.]\n",
            " [0. 0. 0. 0. 0. 1.]\n",
            " [0. 0. 1. 0. 0. 0.]\n",
            " [0. 0. 0. 0. 0. 1.]\n",
            " [0. 0. 1. 0. 0. 0.]\n",
            " [0. 0. 0. 0. 1. 0.]\n",
            " [1. 0. 0. 0. 0. 0.]\n",
            " [0. 0. 0. 0. 1. 0.]\n",
            " [1. 0. 0. 0. 0. 0.]\n",
            " [1. 0. 0. 0. 0. 0.]\n",
            " [0. 0. 0. 1. 0. 0.]\n",
            " [0. 0. 0. 1. 0. 0.]\n",
            " [0. 1. 0. 0. 0. 0.]\n",
            " [0. 0. 0. 1. 0. 0.]\n",
            " [0. 0. 1. 0. 0. 0.]\n",
            " [0. 0. 0. 1. 0. 0.]\n",
            " [0. 0. 0. 0. 0. 1.]\n",
            " [0. 0. 0. 0. 0. 1.]\n",
            " [0. 0. 0. 0. 1. 0.]\n",
            " [1. 0. 0. 0. 0. 0.]\n",
            " [0. 0. 0. 1. 0. 0.]\n",
            " [0. 0. 1. 0. 0. 0.]\n",
            " [1. 0. 0. 0. 0. 0.]\n",
            " [0. 0. 0. 0. 1. 0.]\n",
            " [0. 1. 0. 0. 0. 0.]\n",
            " [0. 1. 0. 0. 0. 0.]\n",
            " [0. 0. 1. 0. 0. 0.]\n",
            " [0. 0. 0. 0. 1. 0.]\n",
            " [0. 1. 0. 0. 0. 0.]\n",
            " [0. 0. 0. 0. 0. 1.]\n",
            " [1. 0. 0. 0. 0. 0.]\n",
            " [0. 0. 0. 0. 1. 0.]\n",
            " [0. 1. 0. 0. 0. 0.]\n",
            " [1. 0. 0. 0. 0. 0.]\n",
            " [0. 0. 0. 1. 0. 0.]\n",
            " [0. 1. 0. 0. 0. 0.]\n",
            " [0. 1. 0. 0. 0. 0.]\n",
            " [0. 0. 0. 0. 0. 1.]\n",
            " [1. 0. 0. 0. 0. 0.]\n",
            " [0. 0. 0. 1. 0. 0.]\n",
            " [1. 0. 0. 0. 0. 0.]\n",
            " [1. 0. 0. 0. 0. 0.]\n",
            " [0. 0. 0. 0. 0. 1.]\n",
            " [0. 0. 1. 0. 0. 0.]\n",
            " [1. 0. 0. 0. 0. 0.]\n",
            " [0. 0. 1. 0. 0. 0.]\n",
            " [0. 0. 1. 0. 0. 0.]\n",
            " [0. 1. 0. 0. 0. 0.]\n",
            " [0. 0. 0. 0. 1. 0.]\n",
            " [0. 0. 0. 1. 0. 0.]\n",
            " [1. 0. 0. 0. 0. 0.]\n",
            " [0. 0. 0. 0. 0. 1.]], shape=(64, 6), dtype=float64)\n"
          ]
        }
      ],
      "source": [
        "# Print the contents of the first batch of the train_dataset\n",
        "for X, Y in train_dataset.take(1):\n",
        "    print('Shape of input features (X):', X.shape)\n",
        "    print('Shape of labels (Y):', Y.shape)\n",
        "    print('Input features (X):', X)\n",
        "    print('Labels (Y):', Y)"
      ]
    },
    {
      "cell_type": "code",
      "execution_count": null,
      "id": "a920fcbb",
      "metadata": {
        "id": "a920fcbb",
        "colab": {
          "base_uri": "https://localhost:8080/"
        },
        "outputId": "7084e2a9-8f62-4886-f4e8-187522622bb8"
      },
      "outputs": [
        {
          "output_type": "stream",
          "name": "stdout",
          "text": [
            "Epoch 1/100\n",
            "17/17 - 4s - loss: 1.8275 - accuracy: 0.1537 - val_loss: 1.7846 - val_accuracy: 0.1667 - 4s/epoch - 238ms/step\n",
            "Epoch 2/100\n",
            "17/17 - 3s - loss: 1.7882 - accuracy: 0.1935 - val_loss: 1.7783 - val_accuracy: 0.2917 - 3s/epoch - 167ms/step\n",
            "Epoch 3/100\n",
            "17/17 - 3s - loss: 1.7821 - accuracy: 0.2269 - val_loss: 1.7734 - val_accuracy: 0.2750 - 3s/epoch - 178ms/step\n",
            "Epoch 4/100\n",
            "17/17 - 3s - loss: 1.7778 - accuracy: 0.2250 - val_loss: 1.7693 - val_accuracy: 0.3083 - 3s/epoch - 194ms/step\n",
            "Epoch 5/100\n",
            "17/17 - 3s - loss: 1.7740 - accuracy: 0.2694 - val_loss: 1.7655 - val_accuracy: 0.3417 - 3s/epoch - 166ms/step\n",
            "Epoch 6/100\n",
            "17/17 - 1s - loss: 1.7692 - accuracy: 0.2898 - val_loss: 1.7601 - val_accuracy: 0.4083 - 1s/epoch - 88ms/step\n",
            "Epoch 7/100\n",
            "17/17 - 2s - loss: 1.7640 - accuracy: 0.3009 - val_loss: 1.7547 - val_accuracy: 0.3833 - 2s/epoch - 90ms/step\n",
            "Epoch 8/100\n",
            "17/17 - 2s - loss: 1.7579 - accuracy: 0.3167 - val_loss: 1.7486 - val_accuracy: 0.3833 - 2s/epoch - 91ms/step\n",
            "Epoch 9/100\n",
            "17/17 - 2s - loss: 1.7514 - accuracy: 0.3306 - val_loss: 1.7409 - val_accuracy: 0.4250 - 2s/epoch - 107ms/step\n",
            "Epoch 10/100\n",
            "17/17 - 2s - loss: 1.7438 - accuracy: 0.3417 - val_loss: 1.7328 - val_accuracy: 0.3917 - 2s/epoch - 89ms/step\n",
            "Epoch 11/100\n",
            "17/17 - 2s - loss: 1.7352 - accuracy: 0.3417 - val_loss: 1.7230 - val_accuracy: 0.3917 - 2s/epoch - 89ms/step\n",
            "Epoch 12/100\n",
            "17/17 - 2s - loss: 1.7249 - accuracy: 0.3519 - val_loss: 1.7117 - val_accuracy: 0.4167 - 2s/epoch - 89ms/step\n",
            "Epoch 13/100\n",
            "17/17 - 2s - loss: 1.7134 - accuracy: 0.3611 - val_loss: 1.6988 - val_accuracy: 0.3917 - 2s/epoch - 92ms/step\n",
            "Epoch 14/100\n",
            "17/17 - 2s - loss: 1.6989 - accuracy: 0.3741 - val_loss: 1.6848 - val_accuracy: 0.4000 - 2s/epoch - 137ms/step\n",
            "Epoch 15/100\n",
            "17/17 - 1s - loss: 1.6822 - accuracy: 0.3907 - val_loss: 1.6698 - val_accuracy: 0.4167 - 1s/epoch - 88ms/step\n",
            "Epoch 16/100\n",
            "17/17 - 2s - loss: 1.6652 - accuracy: 0.4111 - val_loss: 1.6523 - val_accuracy: 0.4167 - 2s/epoch - 89ms/step\n",
            "Epoch 17/100\n",
            "17/17 - 2s - loss: 1.6445 - accuracy: 0.4148 - val_loss: 1.6314 - val_accuracy: 0.4667 - 2s/epoch - 90ms/step\n",
            "Epoch 18/100\n",
            "17/17 - 2s - loss: 1.6195 - accuracy: 0.4417 - val_loss: 1.6105 - val_accuracy: 0.4500 - 2s/epoch - 90ms/step\n",
            "Epoch 19/100\n",
            "17/17 - 2s - loss: 1.5928 - accuracy: 0.4611 - val_loss: 1.5863 - val_accuracy: 0.5000 - 2s/epoch - 117ms/step\n",
            "Epoch 20/100\n",
            "17/17 - 2s - loss: 1.5642 - accuracy: 0.4824 - val_loss: 1.5577 - val_accuracy: 0.5083 - 2s/epoch - 89ms/step\n",
            "Epoch 21/100\n",
            "17/17 - 2s - loss: 1.5323 - accuracy: 0.4843 - val_loss: 1.5278 - val_accuracy: 0.5000 - 2s/epoch - 88ms/step\n",
            "Epoch 22/100\n",
            "17/17 - 2s - loss: 1.4979 - accuracy: 0.4917 - val_loss: 1.4958 - val_accuracy: 0.5250 - 2s/epoch - 90ms/step\n",
            "Epoch 23/100\n",
            "17/17 - 2s - loss: 1.4619 - accuracy: 0.5213 - val_loss: 1.4625 - val_accuracy: 0.5083 - 2s/epoch - 94ms/step\n",
            "Epoch 24/100\n",
            "17/17 - 2s - loss: 1.4240 - accuracy: 0.5278 - val_loss: 1.4265 - val_accuracy: 0.5250 - 2s/epoch - 97ms/step\n",
            "Epoch 25/100\n",
            "17/17 - 2s - loss: 1.3855 - accuracy: 0.5509 - val_loss: 1.3873 - val_accuracy: 0.5333 - 2s/epoch - 88ms/step\n",
            "Epoch 26/100\n",
            "17/17 - 2s - loss: 1.3440 - accuracy: 0.5676 - val_loss: 1.3466 - val_accuracy: 0.5583 - 2s/epoch - 90ms/step\n",
            "Epoch 27/100\n",
            "17/17 - 2s - loss: 1.3057 - accuracy: 0.5815 - val_loss: 1.3073 - val_accuracy: 0.5667 - 2s/epoch - 89ms/step\n",
            "Epoch 28/100\n",
            "17/17 - 2s - loss: 1.2648 - accuracy: 0.5954 - val_loss: 1.2679 - val_accuracy: 0.5833 - 2s/epoch - 103ms/step\n",
            "Epoch 29/100\n",
            "17/17 - 2s - loss: 1.2269 - accuracy: 0.6037 - val_loss: 1.2277 - val_accuracy: 0.5833 - 2s/epoch - 93ms/step\n",
            "Epoch 30/100\n",
            "17/17 - 1s - loss: 1.1906 - accuracy: 0.6157 - val_loss: 1.1905 - val_accuracy: 0.6000 - 1s/epoch - 88ms/step\n",
            "Epoch 31/100\n",
            "17/17 - 2s - loss: 1.1542 - accuracy: 0.6296 - val_loss: 1.1513 - val_accuracy: 0.6167 - 2s/epoch - 90ms/step\n",
            "Epoch 32/100\n",
            "17/17 - 2s - loss: 1.1207 - accuracy: 0.6454 - val_loss: 1.1175 - val_accuracy: 0.6167 - 2s/epoch - 89ms/step\n",
            "Epoch 33/100\n",
            "17/17 - 3s - loss: 1.0896 - accuracy: 0.6593 - val_loss: 1.0814 - val_accuracy: 0.6250 - 3s/epoch - 178ms/step\n",
            "Epoch 34/100\n",
            "17/17 - 2s - loss: 1.0581 - accuracy: 0.6657 - val_loss: 1.0494 - val_accuracy: 0.6500 - 2s/epoch - 89ms/step\n",
            "Epoch 35/100\n",
            "17/17 - 2s - loss: 1.0308 - accuracy: 0.6750 - val_loss: 1.0190 - val_accuracy: 0.6667 - 2s/epoch - 89ms/step\n",
            "Epoch 36/100\n",
            "17/17 - 2s - loss: 1.0036 - accuracy: 0.6806 - val_loss: 0.9903 - val_accuracy: 0.6833 - 2s/epoch - 89ms/step\n",
            "Epoch 37/100\n",
            "17/17 - 2s - loss: 0.9795 - accuracy: 0.6898 - val_loss: 0.9635 - val_accuracy: 0.6833 - 2s/epoch - 90ms/step\n",
            "Epoch 38/100\n",
            "17/17 - 2s - loss: 0.9554 - accuracy: 0.6972 - val_loss: 0.9384 - val_accuracy: 0.6917 - 2s/epoch - 90ms/step\n",
            "Epoch 39/100\n",
            "17/17 - 2s - loss: 0.9336 - accuracy: 0.7046 - val_loss: 0.9146 - val_accuracy: 0.6917 - 2s/epoch - 135ms/step\n",
            "Epoch 40/100\n",
            "17/17 - 2s - loss: 0.9127 - accuracy: 0.7102 - val_loss: 0.8923 - val_accuracy: 0.7083 - 2s/epoch - 89ms/step\n",
            "Epoch 41/100\n",
            "17/17 - 2s - loss: 0.8934 - accuracy: 0.7185 - val_loss: 0.8715 - val_accuracy: 0.7083 - 2s/epoch - 89ms/step\n",
            "Epoch 42/100\n",
            "17/17 - 2s - loss: 0.8750 - accuracy: 0.7269 - val_loss: 0.8522 - val_accuracy: 0.7000 - 2s/epoch - 90ms/step\n",
            "Epoch 43/100\n",
            "17/17 - 2s - loss: 0.8575 - accuracy: 0.7343 - val_loss: 0.8334 - val_accuracy: 0.7000 - 2s/epoch - 89ms/step\n",
            "Epoch 44/100\n",
            "17/17 - 2s - loss: 0.8406 - accuracy: 0.7389 - val_loss: 0.8163 - val_accuracy: 0.7167 - 2s/epoch - 98ms/step\n",
            "Epoch 45/100\n",
            "17/17 - 2s - loss: 0.8246 - accuracy: 0.7472 - val_loss: 0.7999 - val_accuracy: 0.7417 - 2s/epoch - 92ms/step\n",
            "Epoch 46/100\n",
            "17/17 - 2s - loss: 0.8086 - accuracy: 0.7537 - val_loss: 0.7840 - val_accuracy: 0.7333 - 2s/epoch - 91ms/step\n",
            "Epoch 47/100\n",
            "17/17 - 1s - loss: 0.7938 - accuracy: 0.7583 - val_loss: 0.7682 - val_accuracy: 0.7333 - 1s/epoch - 88ms/step\n",
            "Epoch 48/100\n",
            "17/17 - 2s - loss: 0.7796 - accuracy: 0.7620 - val_loss: 0.7536 - val_accuracy: 0.7417 - 2s/epoch - 90ms/step\n",
            "Epoch 49/100\n",
            "17/17 - 2s - loss: 0.7664 - accuracy: 0.7667 - val_loss: 0.7396 - val_accuracy: 0.7417 - 2s/epoch - 134ms/step\n",
            "Epoch 50/100\n",
            "17/17 - 2s - loss: 0.7538 - accuracy: 0.7694 - val_loss: 0.7268 - val_accuracy: 0.7417 - 2s/epoch - 89ms/step\n",
            "Epoch 51/100\n",
            "17/17 - 2s - loss: 0.7418 - accuracy: 0.7694 - val_loss: 0.7142 - val_accuracy: 0.7417 - 2s/epoch - 88ms/step\n",
            "Epoch 52/100\n",
            "17/17 - 2s - loss: 0.7307 - accuracy: 0.7731 - val_loss: 0.7024 - val_accuracy: 0.7333 - 2s/epoch - 89ms/step\n",
            "Epoch 53/100\n",
            "17/17 - 1s - loss: 0.7197 - accuracy: 0.7769 - val_loss: 0.6903 - val_accuracy: 0.7417 - 1s/epoch - 88ms/step\n",
            "Epoch 54/100\n",
            "17/17 - 2s - loss: 0.7090 - accuracy: 0.7843 - val_loss: 0.6790 - val_accuracy: 0.7333 - 2s/epoch - 136ms/step\n",
            "Epoch 55/100\n",
            "17/17 - 2s - loss: 0.6996 - accuracy: 0.7880 - val_loss: 0.6682 - val_accuracy: 0.7500 - 2s/epoch - 90ms/step\n",
            "Epoch 56/100\n",
            "17/17 - 2s - loss: 0.6898 - accuracy: 0.7889 - val_loss: 0.6585 - val_accuracy: 0.7583 - 2s/epoch - 89ms/step\n",
            "Epoch 57/100\n",
            "17/17 - 1s - loss: 0.6806 - accuracy: 0.7880 - val_loss: 0.6501 - val_accuracy: 0.7750 - 1s/epoch - 88ms/step\n",
            "Epoch 58/100\n",
            "17/17 - 2s - loss: 0.6716 - accuracy: 0.7963 - val_loss: 0.6405 - val_accuracy: 0.7833 - 2s/epoch - 90ms/step\n",
            "Epoch 59/100\n",
            "17/17 - 2s - loss: 0.6632 - accuracy: 0.8019 - val_loss: 0.6313 - val_accuracy: 0.7833 - 2s/epoch - 111ms/step\n",
            "Epoch 60/100\n",
            "17/17 - 1s - loss: 0.6548 - accuracy: 0.8037 - val_loss: 0.6234 - val_accuracy: 0.7833 - 1s/epoch - 87ms/step\n",
            "Epoch 61/100\n",
            "17/17 - 2s - loss: 0.6469 - accuracy: 0.8065 - val_loss: 0.6154 - val_accuracy: 0.7917 - 2s/epoch - 91ms/step\n",
            "Epoch 62/100\n",
            "17/17 - 2s - loss: 0.6392 - accuracy: 0.8083 - val_loss: 0.6082 - val_accuracy: 0.7917 - 2s/epoch - 89ms/step\n",
            "Epoch 63/100\n",
            "17/17 - 2s - loss: 0.6316 - accuracy: 0.8120 - val_loss: 0.6009 - val_accuracy: 0.8000 - 2s/epoch - 101ms/step\n",
            "Epoch 64/100\n",
            "17/17 - 2s - loss: 0.6244 - accuracy: 0.8130 - val_loss: 0.5946 - val_accuracy: 0.8083 - 2s/epoch - 94ms/step\n",
            "Epoch 65/100\n",
            "17/17 - 2s - loss: 0.6178 - accuracy: 0.8176 - val_loss: 0.5885 - val_accuracy: 0.8083 - 2s/epoch - 89ms/step\n",
            "Epoch 66/100\n",
            "17/17 - 2s - loss: 0.6111 - accuracy: 0.8185 - val_loss: 0.5834 - val_accuracy: 0.8167 - 2s/epoch - 90ms/step\n",
            "Epoch 67/100\n",
            "17/17 - 2s - loss: 0.6043 - accuracy: 0.8194 - val_loss: 0.5776 - val_accuracy: 0.8167 - 2s/epoch - 91ms/step\n",
            "Epoch 68/100\n",
            "17/17 - 2s - loss: 0.5976 - accuracy: 0.8250 - val_loss: 0.5740 - val_accuracy: 0.8250 - 2s/epoch - 108ms/step\n",
            "Epoch 69/100\n",
            "17/17 - 2s - loss: 0.5908 - accuracy: 0.8269 - val_loss: 0.5701 - val_accuracy: 0.8333 - 2s/epoch - 92ms/step\n",
            "Epoch 70/100\n",
            "17/17 - 2s - loss: 0.5853 - accuracy: 0.8278 - val_loss: 0.5672 - val_accuracy: 0.8167 - 2s/epoch - 90ms/step\n",
            "Epoch 71/100\n",
            "17/17 - 2s - loss: 0.5788 - accuracy: 0.8287 - val_loss: 0.5642 - val_accuracy: 0.8250 - 2s/epoch - 90ms/step\n",
            "Epoch 72/100\n",
            "17/17 - 2s - loss: 0.5729 - accuracy: 0.8278 - val_loss: 0.5597 - val_accuracy: 0.8167 - 2s/epoch - 90ms/step\n",
            "Epoch 73/100\n",
            "17/17 - 2s - loss: 0.5669 - accuracy: 0.8287 - val_loss: 0.5551 - val_accuracy: 0.8250 - 2s/epoch - 118ms/step\n",
            "Epoch 74/100\n",
            "17/17 - 2s - loss: 0.5608 - accuracy: 0.8324 - val_loss: 0.5512 - val_accuracy: 0.8250 - 2s/epoch - 90ms/step\n",
            "Epoch 75/100\n",
            "17/17 - 2s - loss: 0.5551 - accuracy: 0.8352 - val_loss: 0.5472 - val_accuracy: 0.8250 - 2s/epoch - 89ms/step\n",
            "Epoch 76/100\n",
            "17/17 - 2s - loss: 0.5494 - accuracy: 0.8343 - val_loss: 0.5426 - val_accuracy: 0.8333 - 2s/epoch - 88ms/step\n",
            "Epoch 77/100\n",
            "17/17 - 2s - loss: 0.5436 - accuracy: 0.8352 - val_loss: 0.5373 - val_accuracy: 0.8417 - 2s/epoch - 89ms/step\n",
            "Epoch 78/100\n",
            "17/17 - 2s - loss: 0.5377 - accuracy: 0.8380 - val_loss: 0.5314 - val_accuracy: 0.8500 - 2s/epoch - 123ms/step\n",
            "Epoch 79/100\n",
            "17/17 - 2s - loss: 0.5322 - accuracy: 0.8389 - val_loss: 0.5263 - val_accuracy: 0.8583 - 2s/epoch - 102ms/step\n",
            "Epoch 80/100\n",
            "17/17 - 2s - loss: 0.5262 - accuracy: 0.8435 - val_loss: 0.5206 - val_accuracy: 0.8583 - 2s/epoch - 91ms/step\n",
            "Epoch 81/100\n",
            "17/17 - 2s - loss: 0.5215 - accuracy: 0.8472 - val_loss: 0.5158 - val_accuracy: 0.8500 - 2s/epoch - 89ms/step\n",
            "Epoch 82/100\n",
            "17/17 - 2s - loss: 0.5157 - accuracy: 0.8463 - val_loss: 0.5119 - val_accuracy: 0.8500 - 2s/epoch - 90ms/step\n",
            "Epoch 83/100\n",
            "17/17 - 2s - loss: 0.5108 - accuracy: 0.8491 - val_loss: 0.5062 - val_accuracy: 0.8500 - 2s/epoch - 136ms/step\n",
            "Epoch 84/100\n",
            "17/17 - 2s - loss: 0.5058 - accuracy: 0.8556 - val_loss: 0.5021 - val_accuracy: 0.8500 - 2s/epoch - 94ms/step\n",
            "Epoch 85/100\n",
            "17/17 - 2s - loss: 0.5004 - accuracy: 0.8574 - val_loss: 0.4963 - val_accuracy: 0.8500 - 2s/epoch - 89ms/step\n",
            "Epoch 86/100\n",
            "17/17 - 2s - loss: 0.4952 - accuracy: 0.8574 - val_loss: 0.4915 - val_accuracy: 0.8500 - 2s/epoch - 91ms/step\n",
            "Epoch 87/100\n",
            "17/17 - 1s - loss: 0.4901 - accuracy: 0.8574 - val_loss: 0.4863 - val_accuracy: 0.8500 - 1s/epoch - 87ms/step\n",
            "Epoch 88/100\n",
            "17/17 - 2s - loss: 0.4852 - accuracy: 0.8611 - val_loss: 0.4826 - val_accuracy: 0.8500 - 2s/epoch - 125ms/step\n",
            "Epoch 89/100\n",
            "17/17 - 2s - loss: 0.4804 - accuracy: 0.8630 - val_loss: 0.4773 - val_accuracy: 0.8500 - 2s/epoch - 89ms/step\n",
            "Epoch 90/100\n",
            "17/17 - 2s - loss: 0.4755 - accuracy: 0.8639 - val_loss: 0.4729 - val_accuracy: 0.8583 - 2s/epoch - 90ms/step\n",
            "Epoch 91/100\n",
            "17/17 - 2s - loss: 0.4707 - accuracy: 0.8648 - val_loss: 0.4690 - val_accuracy: 0.8583 - 2s/epoch - 89ms/step\n",
            "Epoch 92/100\n",
            "17/17 - 2s - loss: 0.4664 - accuracy: 0.8648 - val_loss: 0.4646 - val_accuracy: 0.8583 - 2s/epoch - 90ms/step\n",
            "Epoch 93/100\n",
            "17/17 - 2s - loss: 0.4619 - accuracy: 0.8667 - val_loss: 0.4612 - val_accuracy: 0.8583 - 2s/epoch - 122ms/step\n",
            "Epoch 94/100\n",
            "17/17 - 2s - loss: 0.4578 - accuracy: 0.8667 - val_loss: 0.4570 - val_accuracy: 0.8583 - 2s/epoch - 88ms/step\n",
            "Epoch 95/100\n",
            "17/17 - 2s - loss: 0.4536 - accuracy: 0.8685 - val_loss: 0.4544 - val_accuracy: 0.8583 - 2s/epoch - 89ms/step\n",
            "Epoch 96/100\n",
            "17/17 - 2s - loss: 0.4494 - accuracy: 0.8694 - val_loss: 0.4511 - val_accuracy: 0.8500 - 2s/epoch - 90ms/step\n",
            "Epoch 97/100\n",
            "17/17 - 1s - loss: 0.4454 - accuracy: 0.8704 - val_loss: 0.4479 - val_accuracy: 0.8500 - 1s/epoch - 88ms/step\n",
            "Epoch 98/100\n",
            "17/17 - 2s - loss: 0.4413 - accuracy: 0.8685 - val_loss: 0.4453 - val_accuracy: 0.8500 - 2s/epoch - 124ms/step\n",
            "Epoch 99/100\n",
            "17/17 - 2s - loss: 0.4376 - accuracy: 0.8722 - val_loss: 0.4424 - val_accuracy: 0.8500 - 2s/epoch - 90ms/step\n",
            "Epoch 100/100\n",
            "17/17 - 2s - loss: 0.4335 - accuracy: 0.8722 - val_loss: 0.4390 - val_accuracy: 0.8500 - 2s/epoch - 91ms/step\n"
          ]
        }
      ],
      "source": [
        "# Compile the model\n",
        "conv_model.compile(optimizer='adam',\n",
        "                   loss='categorical_crossentropy',\n",
        "                   metrics=['accuracy'])\n",
        "\n",
        "# Train the model\n",
        "history = conv_model.fit(train_dataset,\n",
        "                          epochs=100,\n",
        "                          validation_data=test_dataset,\n",
        "                          verbose=2)"
      ]
    },
    {
      "cell_type": "markdown",
      "id": "22e6e2e1",
      "metadata": {
        "id": "22e6e2e1"
      },
      "source": [
        "<a name='2.4'></a>\n",
        "### <font color='darkviolet'> 2.4 - History"
      ]
    },
    {
      "cell_type": "markdown",
      "id": "3c85a3a8",
      "metadata": {
        "id": "3c85a3a8"
      },
      "source": [
        "The history object is an output of the `.fit()` operation, and provides a record of all the loss and metric values in memory. It's stored as a dictionary that you can retrieve at `history.history`:"
      ]
    },
    {
      "cell_type": "code",
      "execution_count": 30,
      "id": "4aff14af",
      "metadata": {
        "id": "4aff14af",
        "colab": {
          "base_uri": "https://localhost:8080/",
          "height": 1000
        },
        "outputId": "53dbc458-59ab-4a6e-e052-7c5b05d26492"
      },
      "outputs": [
        {
          "output_type": "execute_result",
          "data": {
            "text/plain": [
              "[Text(0.5, 0, 'Epoch'), Text(0, 0.5, 'Accuracy')]"
            ]
          },
          "metadata": {},
          "execution_count": 30
        },
        {
          "output_type": "display_data",
          "data": {
            "text/plain": [
              "<Figure size 1200x800 with 1 Axes>"
            ],
            "image/png": "[encoded data removed]"
          },
          "metadata": {}
        },
        {
          "output_type": "display_data",
          "data": {
            "text/plain": [
              "<Figure size 1200x800 with 1 Axes>"
            ],
            "image/png": "[encoded data removed]"
          },
          "metadata": {}
        }
      ],
      "source": [
        "# Create a DataFrame with the loss and accuracy values\n",
        "df_loss_acc = pd.DataFrame(history.history)\n",
        "\n",
        "# Extract the training and validation loss values and rename the columns\n",
        "df_loss = df_loss_acc[['loss', 'val_loss']]\n",
        "df_loss = df_loss.rename(columns={'loss': 'Training Loss', 'val_loss': 'Validation Loss'})\n",
        "\n",
        "# Extract the training and validation accuracy values and rename the columns\n",
        "df_acc = df_loss_acc[['accuracy', 'val_accuracy']]\n",
        "df_acc = df_acc.rename(columns={'accuracy': 'Training Accuracy', 'val_accuracy': 'Validation Accuracy'})\n",
        "\n",
        "# Plot the training and validation loss values\n",
        "df_loss.plot(title='Model Loss', figsize=(12, 8)).set(xlabel='Epoch', ylabel='Loss')\n",
        "\n",
        "# Plot the training and validation accuracy values\n",
        "df_acc.plot(title='Model Accuracy', figsize=(12, 8)).set(xlabel='Epoch', ylabel='Accuracy')"
      ]
    },
    {
      "cell_type": "markdown",
      "id": "ad8382f2",
      "metadata": {
        "id": "ad8382f2"
      },
      "source": [
        "#### <font color='blue'> Q2.4.1 Observe your training history and describe.\n",
        "\n",
        "Loss is decreasing while accuracy is increasing."
      ]
    },
    {
      "cell_type": "markdown",
      "id": "89c8fbf9",
      "metadata": {
        "id": "89c8fbf9"
      },
      "source": [
        "<a name='ex-3'></a>\n",
        "### <font color='blue'> Exercise 3 - output volume computation\n",
        "    \n",
        "You have an input volume that is 32 x 32 x 16, and apply max pooling with a stride of 2 and a filter size of 2.\n",
        "    \n",
        "What is the output volume?\n",
        "\n",
        "Given an input volume of size 32 x 32 x 16 and applying max pooling with a stride of 2 and a filter size of 2, the output volume can be calculated as follows:\n",
        "\n",
        "    Spatial dimensions (width and height):\n",
        "    The formula to calculate the output spatial dimensions after max pooling is:\n",
        "    Output Width/Height = (Input Width/Height - Filter Size) / Stride + 1\n",
        "\n",
        "In this case, the input width and height are both 32, the filter size is 2, and the stride is 2. Plugging these values into the formula:\n",
        "\n",
        "Output Width/Height = (32 - 2) / 2 + 1\n",
        "Output Width/Height = 30 / 2 + 1\n",
        "Output Width/Height = 15 + 1\n",
        "Output Width/Height = 16\n",
        "\n",
        "So, the output width and height after max pooling would be 16 x 16.\n",
        "\n",
        "    Depth (number of channels):\n",
        "    The depth of the output volume remains the same as the depth of the input volume, which is 16 in this case.\n",
        "\n",
        "Putting it all together, the output volume after max pooling with a stride of 2 and a filter size of 2 would be 16 x 16 x 16."
      ]
    }
  ],
  "metadata": {
    "kernelspec": {
      "display_name": "Python 3 (ipykernel)",
      "language": "python",
      "name": "python3"
    },
    "language_info": {
      "codemirror_mode": {
        "name": "ipython",
        "version": 3
      },
      "file_extension": ".py",
      "mimetype": "text/x-python",
      "name": "python",
      "nbconvert_exporter": "python",
      "pygments_lexer": "ipython3",
      "version": "3.9.1"
    },
    "colab": {
      "provenance": []
    }
  },
  "nbformat": 4,
  "nbformat_minor": 5
}